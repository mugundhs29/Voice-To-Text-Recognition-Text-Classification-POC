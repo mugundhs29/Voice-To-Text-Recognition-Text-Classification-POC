{
 "cells": [
  {
   "cell_type": "markdown",
   "metadata": {
    "toc": true
   },
   "source": [
    "<h1>Table of Contents<span class=\"tocSkip\"></span></h1>\n",
    "<div class=\"toc\"><ul class=\"toc-item\"><li><span><a href=\"#Importing-Necessary-Library\" data-toc-modified-id=\"Importing-Necessary-Library-1\"><span class=\"toc-item-num\">1&nbsp;&nbsp;</span>Importing Necessary Library</a></span></li><li><span><a href=\"#Single-File-Audio-Voice-to-Text-Conversion\" data-toc-modified-id=\"Single-File-Audio-Voice-to-Text-Conversion-2\"><span class=\"toc-item-num\">2&nbsp;&nbsp;</span>Single File Audio Voice to Text Conversion</a></span></li><li><span><a href=\"#Splitting-the-Customer-conversation-and-Care-voice\" data-toc-modified-id=\"Splitting-the-Customer-conversation-and-Care-voice-3\"><span class=\"toc-item-num\">3&nbsp;&nbsp;</span>Splitting the Customer conversation and Care voice</a></span></li><li><span><a href=\"#Reading-Multiple-File-Audio-Voice-to-Text-Conversion\" data-toc-modified-id=\"Reading-Multiple-File-Audio-Voice-to-Text-Conversion-4\"><span class=\"toc-item-num\">4&nbsp;&nbsp;</span>Reading Multiple File Audio Voice to Text Conversion</a></span></li><li><span><a href=\"#Splitting-the-Customer-conversation-and-Care-voice\" data-toc-modified-id=\"Splitting-the-Customer-conversation-and-Care-voice-5\"><span class=\"toc-item-num\">5&nbsp;&nbsp;</span>Splitting the Customer conversation and Care voice</a></span></li><li><span><a href=\"#Reading-Multiple-File-Audio-Voice-to-Text-Conversion-Using-Google-Cloud-API\" data-toc-modified-id=\"Reading-Multiple-File-Audio-Voice-to-Text-Conversion-Using-Google-Cloud-API-6\"><span class=\"toc-item-num\">6&nbsp;&nbsp;</span>Reading Multiple File Audio Voice to Text Conversion Using Google Cloud API</a></span></li><li><span><a href=\"#Loading-the-Converted-Text-Data-For-Classification\" data-toc-modified-id=\"Loading-the-Converted-Text-Data-For-Classification-7\"><span class=\"toc-item-num\">7&nbsp;&nbsp;</span>Loading the Converted Text Data For Classification</a></span></li><li><span><a href=\"#Number-of-Words\" data-toc-modified-id=\"Number-of-Words-8\"><span class=\"toc-item-num\">8&nbsp;&nbsp;</span>Number of Words</a></span></li><li><span><a href=\"#Creating-the-Call-Duration-column\" data-toc-modified-id=\"Creating-the-Call-Duration-column-9\"><span class=\"toc-item-num\">9&nbsp;&nbsp;</span>Creating the Call Duration column</a></span></li><li><span><a href=\"#Number-of-characters\" data-toc-modified-id=\"Number-of-characters-10\"><span class=\"toc-item-num\">10&nbsp;&nbsp;</span>Number of characters</a></span></li><li><span><a href=\"#Average-Word-Length\" data-toc-modified-id=\"Average-Word-Length-11\"><span class=\"toc-item-num\">11&nbsp;&nbsp;</span>Average Word Length</a></span></li><li><span><a href=\"#Number-of-stop-words\" data-toc-modified-id=\"Number-of-stop-words-12\"><span class=\"toc-item-num\">12&nbsp;&nbsp;</span>Number of stop words</a></span></li><li><span><a href=\"#Number-of-special-characters\" data-toc-modified-id=\"Number-of-special-characters-13\"><span class=\"toc-item-num\">13&nbsp;&nbsp;</span>Number of special characters</a></span></li><li><span><a href=\"#Number-of-numerics\" data-toc-modified-id=\"Number-of-numerics-14\"><span class=\"toc-item-num\">14&nbsp;&nbsp;</span>Number of numerics</a></span></li><li><span><a href=\"#Number-of-Uppercase-words\" data-toc-modified-id=\"Number-of-Uppercase-words-15\"><span class=\"toc-item-num\">15&nbsp;&nbsp;</span>Number of Uppercase words</a></span></li><li><span><a href=\"#Tagert-Class-Identification\" data-toc-modified-id=\"Tagert-Class-Identification-16\"><span class=\"toc-item-num\">16&nbsp;&nbsp;</span>Tagert Class Identification</a></span></li><li><span><a href=\"#Pre-processing\" data-toc-modified-id=\"Pre-processing-17\"><span class=\"toc-item-num\">17&nbsp;&nbsp;</span>Pre-processing</a></span></li><li><span><a href=\"#Generating-the-Sentiment-of-the-Call\" data-toc-modified-id=\"Generating-the-Sentiment-of-the-Call-18\"><span class=\"toc-item-num\">18&nbsp;&nbsp;</span>Generating the Sentiment of the Call</a></span></li><li><span><a href=\"#Test-Train-Split\" data-toc-modified-id=\"Test-Train-Split-19\"><span class=\"toc-item-num\">19&nbsp;&nbsp;</span>Test Train Split</a></span></li><li><span><a href=\"#Vectorizing\" data-toc-modified-id=\"Vectorizing-20\"><span class=\"toc-item-num\">20&nbsp;&nbsp;</span>Vectorizing</a></span></li><li><span><a href=\"#Base-Model-Fitting\" data-toc-modified-id=\"Base-Model-Fitting-21\"><span class=\"toc-item-num\">21&nbsp;&nbsp;</span>Base Model Fitting</a></span></li><li><span><a href=\"#Train-Metrics\" data-toc-modified-id=\"Train-Metrics-22\"><span class=\"toc-item-num\">22&nbsp;&nbsp;</span>Train Metrics</a></span></li><li><span><a href=\"#Test-Metrics\" data-toc-modified-id=\"Test-Metrics-23\"><span class=\"toc-item-num\">23&nbsp;&nbsp;</span>Test Metrics</a></span></li><li><span><a href=\"#Model-Pipe-Lining-For-New-Prediction\" data-toc-modified-id=\"Model-Pipe-Lining-For-New-Prediction-24\"><span class=\"toc-item-num\">24&nbsp;&nbsp;</span>Model Pipe Lining For New Prediction</a></span></li><li><span><a href=\"#Predicting-The-New-Speech-to-Text-Data\" data-toc-modified-id=\"Predicting-The-New-Speech-to-Text-Data-25\"><span class=\"toc-item-num\">25&nbsp;&nbsp;</span>Predicting The New Speech to Text Data</a></span></li><li><span><a href=\"#THE-END\" data-toc-modified-id=\"THE-END-26\"><span class=\"toc-item-num\">26&nbsp;&nbsp;</span>THE END</a></span></li></ul></div>"
   ]
  },
  {
   "cell_type": "markdown",
   "metadata": {},
   "source": [
    "# Importing Necessary Library "
   ]
  },
  {
   "cell_type": "code",
   "execution_count": 1,
   "metadata": {},
   "outputs": [
    {
     "name": "stderr",
     "output_type": "stream",
     "text": [
      "C:\\Users\\user\\anaconda3\\lib\\site-packages\\pydub\\utils.py:170: RuntimeWarning: Couldn't find ffmpeg or avconv - defaulting to ffmpeg, but may not work\n",
      "  warn(\"Couldn't find ffmpeg or avconv - defaulting to ffmpeg, but may not work\", RuntimeWarning)\n"
     ]
    }
   ],
   "source": [
    "import speech_recognition as sr\n",
    "import os \n",
    "from pydub import AudioSegment \n",
    "from tqdm import tqdm\n",
    "from pydub.silence import split_on_silence\n",
    "from os import path\n",
    "import pandas as pd\n",
    "import numpy as np\n",
    "import matplotlib.pyplot as plt\n",
    "import seaborn as sns\n",
    "from nltk.corpus import stopwords\n",
    "from sklearn.model_selection import train_test_split\n",
    "from sklearn.feature_extraction.text import ENGLISH_STOP_WORDS, TfidfVectorizer\n",
    "from sklearn.linear_model import LogisticRegression\n",
    "from sklearn.metrics import accuracy_score, f1_score, precision_score, recall_score, classification_report, confusion_matrix\n",
    "import itertools\n",
    "from textblob import TextBlob\n",
    "from sklearn.pipeline import Pipeline\n",
    "%matplotlib inline\n",
    "import warnings\n",
    "warnings.filterwarnings('ignore')\n",
    "pd.options.display.max_rows\n",
    "pd.options.display.max_columns\n",
    "pd.set_option('display.width', 1000)\n",
    "pd.set_option('display.max_colwidth',-1)"
   ]
  },
  {
   "cell_type": "markdown",
   "metadata": {},
   "source": [
    "# Single File Audio Voice to Text Conversion"
   ]
  },
  {
   "cell_type": "code",
   "execution_count": 2,
   "metadata": {
    "scrolled": true
   },
   "outputs": [
    {
     "name": "stdout",
     "output_type": "stream",
     "text": [
      "Google Speech Recognition Says you said: \n",
      "now spirit item no poison work and his wife\n"
     ]
    }
   ],
   "source": [
    "#AUDIO_FILE = \"AUDIO-2020-05-14-14-47-49.wav\"\n",
    "AUDIO_FILE = \"251-118436-0000.flac\"\n",
    "#AUDIO_FILE = \"8th Street.wav\"\n",
    "#AUDIO_FILE = \"8th Street2.wav\"\n",
    "#AUDIO_FILE = \"Call 1.wav\"\n",
    "# use the audio file as the audio source\n",
    "#AUDIO_FILE = \"*.wav\"\n",
    "r = sr.Recognizer()\n",
    "with sr.AudioFile(AUDIO_FILE) as source:\n",
    "    audio = r.record(source)  # read the entire audio file\n",
    "\n",
    "print(\"Google Speech Recognition Says you said: \\n\" + r.recognize_google(audio))"
   ]
  },
  {
   "cell_type": "code",
   "execution_count": 3,
   "metadata": {},
   "outputs": [],
   "source": [
    "x=r.recognize_google(audio)"
   ]
  },
  {
   "cell_type": "markdown",
   "metadata": {},
   "source": [
    "Creating the Data frame With Converted text"
   ]
  },
  {
   "cell_type": "code",
   "execution_count": 4,
   "metadata": {},
   "outputs": [],
   "source": [
    "df = pd.DataFrame() "
   ]
  },
  {
   "cell_type": "code",
   "execution_count": 5,
   "metadata": {},
   "outputs": [],
   "source": [
    "df = pd.DataFrame([x], columns=list('a'))"
   ]
  },
  {
   "cell_type": "code",
   "execution_count": 6,
   "metadata": {},
   "outputs": [
    {
     "data": {
      "text/html": [
       "<div>\n",
       "<style scoped>\n",
       "    .dataframe tbody tr th:only-of-type {\n",
       "        vertical-align: middle;\n",
       "    }\n",
       "\n",
       "    .dataframe tbody tr th {\n",
       "        vertical-align: top;\n",
       "    }\n",
       "\n",
       "    .dataframe thead th {\n",
       "        text-align: right;\n",
       "    }\n",
       "</style>\n",
       "<table border=\"1\" class=\"dataframe\">\n",
       "  <thead>\n",
       "    <tr style=\"text-align: right;\">\n",
       "      <th></th>\n",
       "      <th>a</th>\n",
       "    </tr>\n",
       "  </thead>\n",
       "  <tbody>\n",
       "    <tr>\n",
       "      <th>0</th>\n",
       "      <td>now spirit item no poison work and his wife</td>\n",
       "    </tr>\n",
       "  </tbody>\n",
       "</table>\n",
       "</div>"
      ],
      "text/plain": [
       "                                             a\n",
       "0  now spirit item no poison work and his wife"
      ]
     },
     "execution_count": 6,
     "metadata": {},
     "output_type": "execute_result"
    }
   ],
   "source": [
    "df"
   ]
  },
  {
   "cell_type": "markdown",
   "metadata": {},
   "source": [
    "# Splitting the Customer conversation and Care voice"
   ]
  },
  {
   "cell_type": "code",
   "execution_count": 7,
   "metadata": {},
   "outputs": [],
   "source": [
    "new= df['a'].str.split(\"hello\", n = 2, expand=True)"
   ]
  },
  {
   "cell_type": "code",
   "execution_count": 8,
   "metadata": {},
   "outputs": [
    {
     "data": {
      "text/html": [
       "<div>\n",
       "<style scoped>\n",
       "    .dataframe tbody tr th:only-of-type {\n",
       "        vertical-align: middle;\n",
       "    }\n",
       "\n",
       "    .dataframe tbody tr th {\n",
       "        vertical-align: top;\n",
       "    }\n",
       "\n",
       "    .dataframe thead th {\n",
       "        text-align: right;\n",
       "    }\n",
       "</style>\n",
       "<table border=\"1\" class=\"dataframe\">\n",
       "  <thead>\n",
       "    <tr style=\"text-align: right;\">\n",
       "      <th></th>\n",
       "      <th>0</th>\n",
       "    </tr>\n",
       "  </thead>\n",
       "  <tbody>\n",
       "    <tr>\n",
       "      <th>0</th>\n",
       "      <td>now spirit item no poison work and his wife</td>\n",
       "    </tr>\n",
       "  </tbody>\n",
       "</table>\n",
       "</div>"
      ],
      "text/plain": [
       "                                             0\n",
       "0  now spirit item no poison work and his wife"
      ]
     },
     "execution_count": 8,
     "metadata": {},
     "output_type": "execute_result"
    }
   ],
   "source": [
    "new"
   ]
  },
  {
   "cell_type": "code",
   "execution_count": 9,
   "metadata": {},
   "outputs": [],
   "source": [
    "new.rename(columns = {0 :'cust', 1:'agent'}, inplace = True)"
   ]
  },
  {
   "cell_type": "code",
   "execution_count": 10,
   "metadata": {},
   "outputs": [
    {
     "data": {
      "text/html": [
       "<div>\n",
       "<style scoped>\n",
       "    .dataframe tbody tr th:only-of-type {\n",
       "        vertical-align: middle;\n",
       "    }\n",
       "\n",
       "    .dataframe tbody tr th {\n",
       "        vertical-align: top;\n",
       "    }\n",
       "\n",
       "    .dataframe thead th {\n",
       "        text-align: right;\n",
       "    }\n",
       "</style>\n",
       "<table border=\"1\" class=\"dataframe\">\n",
       "  <thead>\n",
       "    <tr style=\"text-align: right;\">\n",
       "      <th></th>\n",
       "      <th>cust</th>\n",
       "    </tr>\n",
       "  </thead>\n",
       "  <tbody>\n",
       "    <tr>\n",
       "      <th>0</th>\n",
       "      <td>now spirit item no poison work and his wife</td>\n",
       "    </tr>\n",
       "  </tbody>\n",
       "</table>\n",
       "</div>"
      ],
      "text/plain": [
       "                                          cust\n",
       "0  now spirit item no poison work and his wife"
      ]
     },
     "execution_count": 10,
     "metadata": {},
     "output_type": "execute_result"
    }
   ],
   "source": [
    "new"
   ]
  },
  {
   "cell_type": "code",
   "execution_count": 11,
   "metadata": {},
   "outputs": [],
   "source": [
    "validation=new[[\"cust\"]]"
   ]
  },
  {
   "cell_type": "code",
   "execution_count": 12,
   "metadata": {},
   "outputs": [
    {
     "data": {
      "text/html": [
       "<div>\n",
       "<style scoped>\n",
       "    .dataframe tbody tr th:only-of-type {\n",
       "        vertical-align: middle;\n",
       "    }\n",
       "\n",
       "    .dataframe tbody tr th {\n",
       "        vertical-align: top;\n",
       "    }\n",
       "\n",
       "    .dataframe thead th {\n",
       "        text-align: right;\n",
       "    }\n",
       "</style>\n",
       "<table border=\"1\" class=\"dataframe\">\n",
       "  <thead>\n",
       "    <tr style=\"text-align: right;\">\n",
       "      <th></th>\n",
       "      <th>cust</th>\n",
       "    </tr>\n",
       "  </thead>\n",
       "  <tbody>\n",
       "    <tr>\n",
       "      <th>0</th>\n",
       "      <td>now spirit item no poison work and his wife</td>\n",
       "    </tr>\n",
       "  </tbody>\n",
       "</table>\n",
       "</div>"
      ],
      "text/plain": [
       "                                          cust\n",
       "0  now spirit item no poison work and his wife"
      ]
     },
     "execution_count": 12,
     "metadata": {},
     "output_type": "execute_result"
    }
   ],
   "source": [
    "validation"
   ]
  },
  {
   "cell_type": "markdown",
   "metadata": {},
   "source": [
    "# Reading Multiple File Audio Voice to Text Conversion"
   ]
  },
  {
   "cell_type": "markdown",
   "metadata": {},
   "source": [
    "For Reading Multiple File and converting it I have used the below mentioned packages"
   ]
  },
  {
   "cell_type": "markdown",
   "metadata": {},
   "source": [
    "1.import os"
   ]
  },
  {
   "cell_type": "markdown",
   "metadata": {},
   "source": [
    "2.import speech_recognition as sr"
   ]
  },
  {
   "cell_type": "markdown",
   "metadata": {},
   "source": [
    "3.from tqdm import tqdm"
   ]
  },
  {
   "cell_type": "code",
   "execution_count": 13,
   "metadata": {},
   "outputs": [],
   "source": [
    "r = sr.Recognizer()\n",
    "files=sorted(os.listdir('parts/'))"
   ]
  },
  {
   "cell_type": "code",
   "execution_count": 14,
   "metadata": {},
   "outputs": [
    {
     "name": "stderr",
     "output_type": "stream",
     "text": [
      "100%|████████████████████████████████████████████| 4/4 [01:13<00:00, 18.37s/it]\n"
     ]
    }
   ],
   "source": [
    "all_text = []\n",
    "\n",
    "for f in tqdm(files):\n",
    "    name = \"parts/\" + f\n",
    "    # Load audio file\n",
    "    with sr.AudioFile(name) as source:\n",
    "        audio = r.record(source)  # read the entire audio file\n",
    "    text= r.recognize_google(audio)\n",
    "    all_text.append(text)"
   ]
  },
  {
   "cell_type": "code",
   "execution_count": 15,
   "metadata": {},
   "outputs": [
    {
     "data": {
      "text/plain": [
       "['now spirit item no poison work and his wife',\n",
       " 'hi this is Shrinath my husband and I have stayed in this hotel a few times do not the fanciest hotel we love the fact that we can walk the 900 miles to send it is screen on the staff is very accommodating my only come. Is that define in the bathroom was noisy and went automatically when U turn light on thank you hello myself Rachel from Sky customer support thank you for the feedback madam I will take necessary action on the concerned person will come to the room shortly thank you',\n",
       " 'hi myself Shrinath I book the hotel through hot wear at the lowest price I could fine when we got their different as manager gave us smoking room argued that I have a little baby and I would not have booked the room had I known it was smoking the manager would not hear anything and told me that hardware books the cheapest rooms are available hello myself Rachel thank you for the call I will keep you posted on the feedback shirt the corresponding team will revert back to you shortly',\n",
       " \"hi my friend heart I stayed in a hotel for Fast Five days and I am calling to the customer care for further information needed and the service provided so the rooms are not it clean could you please make someone to clean the room hello hi this is Rachel from service desk thanks for the call I'll send you the person start Lisa thank you\"]"
      ]
     },
     "execution_count": 15,
     "metadata": {},
     "output_type": "execute_result"
    }
   ],
   "source": [
    "all_text"
   ]
  },
  {
   "cell_type": "markdown",
   "metadata": {},
   "source": [
    "Creating the Data frame With Converted text"
   ]
  },
  {
   "cell_type": "code",
   "execution_count": 16,
   "metadata": {},
   "outputs": [],
   "source": [
    "df = pd.DataFrame() "
   ]
  },
  {
   "cell_type": "code",
   "execution_count": 17,
   "metadata": {},
   "outputs": [],
   "source": [
    "df = pd.DataFrame([all_text])"
   ]
  },
  {
   "cell_type": "code",
   "execution_count": 18,
   "metadata": {},
   "outputs": [
    {
     "data": {
      "text/html": [
       "<div>\n",
       "<style scoped>\n",
       "    .dataframe tbody tr th:only-of-type {\n",
       "        vertical-align: middle;\n",
       "    }\n",
       "\n",
       "    .dataframe tbody tr th {\n",
       "        vertical-align: top;\n",
       "    }\n",
       "\n",
       "    .dataframe thead th {\n",
       "        text-align: right;\n",
       "    }\n",
       "</style>\n",
       "<table border=\"1\" class=\"dataframe\">\n",
       "  <thead>\n",
       "    <tr style=\"text-align: right;\">\n",
       "      <th></th>\n",
       "      <th>0</th>\n",
       "      <th>1</th>\n",
       "      <th>2</th>\n",
       "      <th>3</th>\n",
       "    </tr>\n",
       "  </thead>\n",
       "  <tbody>\n",
       "    <tr>\n",
       "      <th>0</th>\n",
       "      <td>now spirit item no poison work and his wife</td>\n",
       "      <td>hi this is Shrinath my husband and I have stayed in this hotel a few times do not the fanciest hotel we love the fact that we can walk the 900 miles to send it is screen on the staff is very accommodating my only come. Is that define in the bathroom was noisy and went automatically when U turn light on thank you hello myself Rachel from Sky customer support thank you for the feedback madam I will take necessary action on the concerned person will come to the room shortly thank you</td>\n",
       "      <td>hi myself Shrinath I book the hotel through hot wear at the lowest price I could fine when we got their different as manager gave us smoking room argued that I have a little baby and I would not have booked the room had I known it was smoking the manager would not hear anything and told me that hardware books the cheapest rooms are available hello myself Rachel thank you for the call I will keep you posted on the feedback shirt the corresponding team will revert back to you shortly</td>\n",
       "      <td>hi my friend heart I stayed in a hotel for Fast Five days and I am calling to the customer care for further information needed and the service provided so the rooms are not it clean could you please make someone to clean the room hello hi this is Rachel from service desk thanks for the call I'll send you the person start Lisa thank you</td>\n",
       "    </tr>\n",
       "  </tbody>\n",
       "</table>\n",
       "</div>"
      ],
      "text/plain": [
       "                                             0                                                                                                                                                                                                                                                                                                                                                                                                                                                                                                      1  \\\n",
       "0  now spirit item no poison work and his wife  hi this is Shrinath my husband and I have stayed in this hotel a few times do not the fanciest hotel we love the fact that we can walk the 900 miles to send it is screen on the staff is very accommodating my only come. Is that define in the bathroom was noisy and went automatically when U turn light on thank you hello myself Rachel from Sky customer support thank you for the feedback madam I will take necessary action on the concerned person will come to the room shortly thank you   \n",
       "\n",
       "                                                                                                                                                                                                                                                                                                                                                                                                                                                                                                        2                                                                                                                                                                                                                                                                                                                                                  3  \n",
       "0  hi myself Shrinath I book the hotel through hot wear at the lowest price I could fine when we got their different as manager gave us smoking room argued that I have a little baby and I would not have booked the room had I known it was smoking the manager would not hear anything and told me that hardware books the cheapest rooms are available hello myself Rachel thank you for the call I will keep you posted on the feedback shirt the corresponding team will revert back to you shortly  hi my friend heart I stayed in a hotel for Fast Five days and I am calling to the customer care for further information needed and the service provided so the rooms are not it clean could you please make someone to clean the room hello hi this is Rachel from service desk thanks for the call I'll send you the person start Lisa thank you  "
      ]
     },
     "execution_count": 18,
     "metadata": {},
     "output_type": "execute_result"
    }
   ],
   "source": [
    "df"
   ]
  },
  {
   "cell_type": "code",
   "execution_count": 19,
   "metadata": {},
   "outputs": [],
   "source": [
    "df=pd.melt(df)"
   ]
  },
  {
   "cell_type": "code",
   "execution_count": 20,
   "metadata": {},
   "outputs": [
    {
     "data": {
      "text/html": [
       "<div>\n",
       "<style scoped>\n",
       "    .dataframe tbody tr th:only-of-type {\n",
       "        vertical-align: middle;\n",
       "    }\n",
       "\n",
       "    .dataframe tbody tr th {\n",
       "        vertical-align: top;\n",
       "    }\n",
       "\n",
       "    .dataframe thead th {\n",
       "        text-align: right;\n",
       "    }\n",
       "</style>\n",
       "<table border=\"1\" class=\"dataframe\">\n",
       "  <thead>\n",
       "    <tr style=\"text-align: right;\">\n",
       "      <th></th>\n",
       "      <th>variable</th>\n",
       "      <th>value</th>\n",
       "    </tr>\n",
       "  </thead>\n",
       "  <tbody>\n",
       "    <tr>\n",
       "      <th>0</th>\n",
       "      <td>0</td>\n",
       "      <td>now spirit item no poison work and his wife</td>\n",
       "    </tr>\n",
       "    <tr>\n",
       "      <th>1</th>\n",
       "      <td>1</td>\n",
       "      <td>hi this is Shrinath my husband and I have stayed in this hotel a few times do not the fanciest hotel we love the fact that we can walk the 900 miles to send it is screen on the staff is very accommodating my only come. Is that define in the bathroom was noisy and went automatically when U turn light on thank you hello myself Rachel from Sky customer support thank you for the feedback madam I will take necessary action on the concerned person will come to the room shortly thank you</td>\n",
       "    </tr>\n",
       "    <tr>\n",
       "      <th>2</th>\n",
       "      <td>2</td>\n",
       "      <td>hi myself Shrinath I book the hotel through hot wear at the lowest price I could fine when we got their different as manager gave us smoking room argued that I have a little baby and I would not have booked the room had I known it was smoking the manager would not hear anything and told me that hardware books the cheapest rooms are available hello myself Rachel thank you for the call I will keep you posted on the feedback shirt the corresponding team will revert back to you shortly</td>\n",
       "    </tr>\n",
       "    <tr>\n",
       "      <th>3</th>\n",
       "      <td>3</td>\n",
       "      <td>hi my friend heart I stayed in a hotel for Fast Five days and I am calling to the customer care for further information needed and the service provided so the rooms are not it clean could you please make someone to clean the room hello hi this is Rachel from service desk thanks for the call I'll send you the person start Lisa thank you</td>\n",
       "    </tr>\n",
       "  </tbody>\n",
       "</table>\n",
       "</div>"
      ],
      "text/plain": [
       "   variable                                                                                                                                                                                                                                                                                                                                                                                                                                                                                                   value\n",
       "0  0         now spirit item no poison work and his wife                                                                                                                                                                                                                                                                                                                                                                                                                                                           \n",
       "1  1         hi this is Shrinath my husband and I have stayed in this hotel a few times do not the fanciest hotel we love the fact that we can walk the 900 miles to send it is screen on the staff is very accommodating my only come. Is that define in the bathroom was noisy and went automatically when U turn light on thank you hello myself Rachel from Sky customer support thank you for the feedback madam I will take necessary action on the concerned person will come to the room shortly thank you \n",
       "2  2         hi myself Shrinath I book the hotel through hot wear at the lowest price I could fine when we got their different as manager gave us smoking room argued that I have a little baby and I would not have booked the room had I known it was smoking the manager would not hear anything and told me that hardware books the cheapest rooms are available hello myself Rachel thank you for the call I will keep you posted on the feedback shirt the corresponding team will revert back to you shortly\n",
       "3  3         hi my friend heart I stayed in a hotel for Fast Five days and I am calling to the customer care for further information needed and the service provided so the rooms are not it clean could you please make someone to clean the room hello hi this is Rachel from service desk thanks for the call I'll send you the person start Lisa thank you                                                                                                                                                     "
      ]
     },
     "execution_count": 20,
     "metadata": {},
     "output_type": "execute_result"
    }
   ],
   "source": [
    "df"
   ]
  },
  {
   "cell_type": "markdown",
   "metadata": {},
   "source": [
    "# Splitting the Customer conversation and Care voice"
   ]
  },
  {
   "cell_type": "code",
   "execution_count": 21,
   "metadata": {},
   "outputs": [],
   "source": [
    "new= df['value'].str.split(\"hello\", n = 2, expand=True)"
   ]
  },
  {
   "cell_type": "code",
   "execution_count": 22,
   "metadata": {},
   "outputs": [
    {
     "data": {
      "text/html": [
       "<div>\n",
       "<style scoped>\n",
       "    .dataframe tbody tr th:only-of-type {\n",
       "        vertical-align: middle;\n",
       "    }\n",
       "\n",
       "    .dataframe tbody tr th {\n",
       "        vertical-align: top;\n",
       "    }\n",
       "\n",
       "    .dataframe thead th {\n",
       "        text-align: right;\n",
       "    }\n",
       "</style>\n",
       "<table border=\"1\" class=\"dataframe\">\n",
       "  <thead>\n",
       "    <tr style=\"text-align: right;\">\n",
       "      <th></th>\n",
       "      <th>0</th>\n",
       "      <th>1</th>\n",
       "    </tr>\n",
       "  </thead>\n",
       "  <tbody>\n",
       "    <tr>\n",
       "      <th>0</th>\n",
       "      <td>now spirit item no poison work and his wife</td>\n",
       "      <td>None</td>\n",
       "    </tr>\n",
       "    <tr>\n",
       "      <th>1</th>\n",
       "      <td>hi this is Shrinath my husband and I have stayed in this hotel a few times do not the fanciest hotel we love the fact that we can walk the 900 miles to send it is screen on the staff is very accommodating my only come. Is that define in the bathroom was noisy and went automatically when U turn light on thank you</td>\n",
       "      <td>myself Rachel from Sky customer support thank you for the feedback madam I will take necessary action on the concerned person will come to the room shortly thank you</td>\n",
       "    </tr>\n",
       "    <tr>\n",
       "      <th>2</th>\n",
       "      <td>hi myself Shrinath I book the hotel through hot wear at the lowest price I could fine when we got their different as manager gave us smoking room argued that I have a little baby and I would not have booked the room had I known it was smoking the manager would not hear anything and told me that hardware books the cheapest rooms are available</td>\n",
       "      <td>myself Rachel thank you for the call I will keep you posted on the feedback shirt the corresponding team will revert back to you shortly</td>\n",
       "    </tr>\n",
       "    <tr>\n",
       "      <th>3</th>\n",
       "      <td>hi my friend heart I stayed in a hotel for Fast Five days and I am calling to the customer care for further information needed and the service provided so the rooms are not it clean could you please make someone to clean the room</td>\n",
       "      <td>hi this is Rachel from service desk thanks for the call I'll send you the person start Lisa thank you</td>\n",
       "    </tr>\n",
       "  </tbody>\n",
       "</table>\n",
       "</div>"
      ],
      "text/plain": [
       "                                                                                                                                                                                                                                                                                                                                                          0                                                                                                                                                                       1\n",
       "0  now spirit item no poison work and his wife                                                                                                                                                                                                                                                                                                               None                                                                                                                                                                  \n",
       "1  hi this is Shrinath my husband and I have stayed in this hotel a few times do not the fanciest hotel we love the fact that we can walk the 900 miles to send it is screen on the staff is very accommodating my only come. Is that define in the bathroom was noisy and went automatically when U turn light on thank you                                  myself Rachel from Sky customer support thank you for the feedback madam I will take necessary action on the concerned person will come to the room shortly thank you\n",
       "2  hi myself Shrinath I book the hotel through hot wear at the lowest price I could fine when we got their different as manager gave us smoking room argued that I have a little baby and I would not have booked the room had I known it was smoking the manager would not hear anything and told me that hardware books the cheapest rooms are available    myself Rachel thank you for the call I will keep you posted on the feedback shirt the corresponding team will revert back to you shortly                             \n",
       "3  hi my friend heart I stayed in a hotel for Fast Five days and I am calling to the customer care for further information needed and the service provided so the rooms are not it clean could you please make someone to clean the room                                                                                                                      hi this is Rachel from service desk thanks for the call I'll send you the person start Lisa thank you                                                                "
      ]
     },
     "execution_count": 22,
     "metadata": {},
     "output_type": "execute_result"
    }
   ],
   "source": [
    "new"
   ]
  },
  {
   "cell_type": "code",
   "execution_count": 23,
   "metadata": {},
   "outputs": [],
   "source": [
    "new.rename(columns = {0 :'cust', 1:'agent'}, inplace = True)"
   ]
  },
  {
   "cell_type": "code",
   "execution_count": 24,
   "metadata": {},
   "outputs": [
    {
     "data": {
      "text/html": [
       "<div>\n",
       "<style scoped>\n",
       "    .dataframe tbody tr th:only-of-type {\n",
       "        vertical-align: middle;\n",
       "    }\n",
       "\n",
       "    .dataframe tbody tr th {\n",
       "        vertical-align: top;\n",
       "    }\n",
       "\n",
       "    .dataframe thead th {\n",
       "        text-align: right;\n",
       "    }\n",
       "</style>\n",
       "<table border=\"1\" class=\"dataframe\">\n",
       "  <thead>\n",
       "    <tr style=\"text-align: right;\">\n",
       "      <th></th>\n",
       "      <th>cust</th>\n",
       "      <th>agent</th>\n",
       "    </tr>\n",
       "  </thead>\n",
       "  <tbody>\n",
       "    <tr>\n",
       "      <th>0</th>\n",
       "      <td>now spirit item no poison work and his wife</td>\n",
       "      <td>None</td>\n",
       "    </tr>\n",
       "    <tr>\n",
       "      <th>1</th>\n",
       "      <td>hi this is Shrinath my husband and I have stayed in this hotel a few times do not the fanciest hotel we love the fact that we can walk the 900 miles to send it is screen on the staff is very accommodating my only come. Is that define in the bathroom was noisy and went automatically when U turn light on thank you</td>\n",
       "      <td>myself Rachel from Sky customer support thank you for the feedback madam I will take necessary action on the concerned person will come to the room shortly thank you</td>\n",
       "    </tr>\n",
       "    <tr>\n",
       "      <th>2</th>\n",
       "      <td>hi myself Shrinath I book the hotel through hot wear at the lowest price I could fine when we got their different as manager gave us smoking room argued that I have a little baby and I would not have booked the room had I known it was smoking the manager would not hear anything and told me that hardware books the cheapest rooms are available</td>\n",
       "      <td>myself Rachel thank you for the call I will keep you posted on the feedback shirt the corresponding team will revert back to you shortly</td>\n",
       "    </tr>\n",
       "    <tr>\n",
       "      <th>3</th>\n",
       "      <td>hi my friend heart I stayed in a hotel for Fast Five days and I am calling to the customer care for further information needed and the service provided so the rooms are not it clean could you please make someone to clean the room</td>\n",
       "      <td>hi this is Rachel from service desk thanks for the call I'll send you the person start Lisa thank you</td>\n",
       "    </tr>\n",
       "  </tbody>\n",
       "</table>\n",
       "</div>"
      ],
      "text/plain": [
       "                                                                                                                                                                                                                                                                                                                                                       cust                                                                                                                                                                   agent\n",
       "0  now spirit item no poison work and his wife                                                                                                                                                                                                                                                                                                               None                                                                                                                                                                  \n",
       "1  hi this is Shrinath my husband and I have stayed in this hotel a few times do not the fanciest hotel we love the fact that we can walk the 900 miles to send it is screen on the staff is very accommodating my only come. Is that define in the bathroom was noisy and went automatically when U turn light on thank you                                  myself Rachel from Sky customer support thank you for the feedback madam I will take necessary action on the concerned person will come to the room shortly thank you\n",
       "2  hi myself Shrinath I book the hotel through hot wear at the lowest price I could fine when we got their different as manager gave us smoking room argued that I have a little baby and I would not have booked the room had I known it was smoking the manager would not hear anything and told me that hardware books the cheapest rooms are available    myself Rachel thank you for the call I will keep you posted on the feedback shirt the corresponding team will revert back to you shortly                             \n",
       "3  hi my friend heart I stayed in a hotel for Fast Five days and I am calling to the customer care for further information needed and the service provided so the rooms are not it clean could you please make someone to clean the room                                                                                                                      hi this is Rachel from service desk thanks for the call I'll send you the person start Lisa thank you                                                                "
      ]
     },
     "execution_count": 24,
     "metadata": {},
     "output_type": "execute_result"
    }
   ],
   "source": [
    "new"
   ]
  },
  {
   "cell_type": "code",
   "execution_count": 25,
   "metadata": {},
   "outputs": [],
   "source": [
    "validation=new[[\"cust\"]]"
   ]
  },
  {
   "cell_type": "code",
   "execution_count": 26,
   "metadata": {},
   "outputs": [
    {
     "data": {
      "text/html": [
       "<div>\n",
       "<style scoped>\n",
       "    .dataframe tbody tr th:only-of-type {\n",
       "        vertical-align: middle;\n",
       "    }\n",
       "\n",
       "    .dataframe tbody tr th {\n",
       "        vertical-align: top;\n",
       "    }\n",
       "\n",
       "    .dataframe thead th {\n",
       "        text-align: right;\n",
       "    }\n",
       "</style>\n",
       "<table border=\"1\" class=\"dataframe\">\n",
       "  <thead>\n",
       "    <tr style=\"text-align: right;\">\n",
       "      <th></th>\n",
       "      <th>cust</th>\n",
       "    </tr>\n",
       "  </thead>\n",
       "  <tbody>\n",
       "    <tr>\n",
       "      <th>0</th>\n",
       "      <td>now spirit item no poison work and his wife</td>\n",
       "    </tr>\n",
       "    <tr>\n",
       "      <th>1</th>\n",
       "      <td>hi this is Shrinath my husband and I have stayed in this hotel a few times do not the fanciest hotel we love the fact that we can walk the 900 miles to send it is screen on the staff is very accommodating my only come. Is that define in the bathroom was noisy and went automatically when U turn light on thank you</td>\n",
       "    </tr>\n",
       "    <tr>\n",
       "      <th>2</th>\n",
       "      <td>hi myself Shrinath I book the hotel through hot wear at the lowest price I could fine when we got their different as manager gave us smoking room argued that I have a little baby and I would not have booked the room had I known it was smoking the manager would not hear anything and told me that hardware books the cheapest rooms are available</td>\n",
       "    </tr>\n",
       "    <tr>\n",
       "      <th>3</th>\n",
       "      <td>hi my friend heart I stayed in a hotel for Fast Five days and I am calling to the customer care for further information needed and the service provided so the rooms are not it clean could you please make someone to clean the room</td>\n",
       "    </tr>\n",
       "  </tbody>\n",
       "</table>\n",
       "</div>"
      ],
      "text/plain": [
       "                                                                                                                                                                                                                                                                                                                                                       cust\n",
       "0  now spirit item no poison work and his wife                                                                                                                                                                                                                                                                                                             \n",
       "1  hi this is Shrinath my husband and I have stayed in this hotel a few times do not the fanciest hotel we love the fact that we can walk the 900 miles to send it is screen on the staff is very accommodating my only come. Is that define in the bathroom was noisy and went automatically when U turn light on thank you                               \n",
       "2  hi myself Shrinath I book the hotel through hot wear at the lowest price I could fine when we got their different as manager gave us smoking room argued that I have a little baby and I would not have booked the room had I known it was smoking the manager would not hear anything and told me that hardware books the cheapest rooms are available \n",
       "3  hi my friend heart I stayed in a hotel for Fast Five days and I am calling to the customer care for further information needed and the service provided so the rooms are not it clean could you please make someone to clean the room                                                                                                                   "
      ]
     },
     "execution_count": 26,
     "metadata": {},
     "output_type": "execute_result"
    }
   ],
   "source": [
    "validation"
   ]
  },
  {
   "cell_type": "markdown",
   "metadata": {},
   "source": [
    "# Reading Multiple File Audio Voice to Text Conversion Using Google Cloud API"
   ]
  },
  {
   "cell_type": "markdown",
   "metadata": {},
   "source": [
    "For Reading Multiple File and converting it I have used the below mentioned packages\n",
    "\n",
    "pip Install google-api-python-client==1.6.4\n",
    "\n",
    "1.import os\n",
    "\n",
    "2.import speech_recognition as sr\n",
    "\n",
    "3.from tqdm import tqdm\n",
    "\n",
    "4.Google Cloud API Generated Key File"
   ]
  },
  {
   "cell_type": "markdown",
   "metadata": {},
   "source": [
    "Steps For Generation Google Cloud API Key File"
   ]
  },
  {
   "cell_type": "markdown",
   "metadata": {},
   "source": [
    "1. Sign Up for a Free Tier Account\n",
    "\n",
    "\n",
    "Google Cloud offers a Free Tier plan, which will be used in this POC. An account is required to get an API key.\n",
    "\n",
    "\n",
    "2. Generate an API Key\n",
    "\n",
    "\n",
    "Follow these steps to generate an API key:\n",
    "\n",
    "\n",
    "Sign-in to Google Cloud Console\n",
    "\n",
    "\n",
    "Click “APIs & Services”\n",
    "\n",
    "\n",
    "Click “Credentials”\n",
    "\n",
    "\n",
    "Click “Create Credentials”\n",
    "\n",
    "\n",
    "Select “Service Account Key”\n",
    "\n",
    "\n",
    "Under “Service Account” select “New service account”\n",
    "\n",
    "\n",
    "Name service (whatever you’d like)\n",
    "\n",
    "\n",
    "Select Role: “Project” -> “Owner”\n",
    "\n",
    "\n",
    "Leave “JSON” option selected\n",
    "\n",
    "\n",
    "Click “Create”\n",
    "\n",
    "\n",
    "Save generated API key file\n",
    "\n",
    "\n",
    "Rename file to api-key.json\n",
    "\n",
    "\n",
    "Make sure to move the key into Code repo, if you plan to test this code."
   ]
  },
  {
   "cell_type": "code",
   "execution_count": 27,
   "metadata": {},
   "outputs": [],
   "source": [
    "with open(\"api-key.json\") as f:\n",
    "    GOOGLE_CLOUD_SPEECH_CREDENTIALS = f.read()"
   ]
  },
  {
   "cell_type": "code",
   "execution_count": 28,
   "metadata": {},
   "outputs": [],
   "source": [
    "r = sr.Recognizer()\n",
    "files=sorted(os.listdir('parts/'))"
   ]
  },
  {
   "cell_type": "code",
   "execution_count": 29,
   "metadata": {},
   "outputs": [
    {
     "name": "stderr",
     "output_type": "stream",
     "text": [
      "100%|████████████████████████████████████████████| 4/4 [02:05<00:00, 31.34s/it]\n"
     ]
    }
   ],
   "source": [
    "all_text = []\n",
    "\n",
    "for f in tqdm(files):\n",
    "    name = \"parts/\" + f\n",
    "    # Load audio file\n",
    "    with sr.AudioFile(name) as source:\n",
    "        audio = r.record(source)\n",
    "    # Transcribe audio file\n",
    "    text = r.recognize_google_cloud(audio, credentials_json=GOOGLE_CLOUD_SPEECH_CREDENTIALS)\n",
    "    all_text.append(text)"
   ]
  },
  {
   "cell_type": "code",
   "execution_count": 30,
   "metadata": {},
   "outputs": [
    {
     "data": {
      "text/plain": [
       "['he was young no spearhead touched him no poison lurked in his wine ',\n",
       " 'hi this is Trina. My husband and I have stayed in this hotel a few times the fanciest hotel will allow the time that we can walk the Earth 2 miles to it is clean and the stuff is very accommodating in the bathroom was noisy and went automatically when you turn the light on thank you hello myself Rachel from customer support thank you for the feedback modem I will take necessary action on the concerned person will come to the room shortly thank you ',\n",
       " 'hi myself Trainor. I booked a hotel through Hotwire at the lowest price I could find when we go dead the front desk manager gave us a smoking-room i argued that I have a little baby and I would not have booked the room had I known it was smoking the manager would not hear anything and told me that Hotwire books the cheapest rooms are available hello not myself Rachel thank you for the call I will keep you posted on the feedback shirt the corresponding team will revert back to you shortly ',\n",
       " \"a high myself you're not how you stayed in the hotel for past 5 days and I am calling the customer care for further information needed and the service provided the rooms are not eat clean could you please make someone to clean room hello hi this is Rachel from service desk. Thanks for the call I'll send you the person shot he said thank you \"]"
      ]
     },
     "execution_count": 30,
     "metadata": {},
     "output_type": "execute_result"
    }
   ],
   "source": [
    "all_text"
   ]
  },
  {
   "cell_type": "markdown",
   "metadata": {},
   "source": [
    "# Loading the Converted Text Data For Classification"
   ]
  },
  {
   "cell_type": "code",
   "execution_count": 31,
   "metadata": {},
   "outputs": [],
   "source": [
    "train = pd.read_csv(\"train.csv\")"
   ]
  },
  {
   "cell_type": "code",
   "execution_count": 32,
   "metadata": {},
   "outputs": [
    {
     "data": {
      "text/plain": [
       "array(['Room and Food', 'Price', 'Hotel Management', 'service',\n",
       "       'Appriciation', 'Criticism'], dtype=object)"
      ]
     },
     "execution_count": 32,
     "metadata": {},
     "output_type": "execute_result"
    }
   ],
   "source": [
    "train.Is_Response.unique()"
   ]
  },
  {
   "cell_type": "code",
   "execution_count": 33,
   "metadata": {},
   "outputs": [
    {
     "data": {
      "text/html": [
       "<div>\n",
       "<style scoped>\n",
       "    .dataframe tbody tr th:only-of-type {\n",
       "        vertical-align: middle;\n",
       "    }\n",
       "\n",
       "    .dataframe tbody tr th {\n",
       "        vertical-align: top;\n",
       "    }\n",
       "\n",
       "    .dataframe thead th {\n",
       "        text-align: right;\n",
       "    }\n",
       "</style>\n",
       "<table border=\"1\" class=\"dataframe\">\n",
       "  <thead>\n",
       "    <tr style=\"text-align: right;\">\n",
       "      <th></th>\n",
       "      <th>User_ID</th>\n",
       "      <th>Description</th>\n",
       "      <th>Is_Response</th>\n",
       "    </tr>\n",
       "  </thead>\n",
       "  <tbody>\n",
       "    <tr>\n",
       "      <th>0</th>\n",
       "      <td>id10326</td>\n",
       "      <td>The room was kind of clean but had a VERY strong smell of dogs. Generally below average but ok for a overnight stay if you're not too fussy. Would consider staying again if the price was right. Breakfast was free and just about better than nothing.</td>\n",
       "      <td>Room and Food</td>\n",
       "    </tr>\n",
       "    <tr>\n",
       "      <th>1</th>\n",
       "      <td>id10327</td>\n",
       "      <td>I stayed at the Crown Plaza April -- - April --, ----. The staff was friendly and attentive. The elevators are tiny (about -' by -'). The food in the restaurant was delicious but priced a little on the high side. Of course this is Washington DC. There is no pool and little for children to do. My room on the fifth floor had two comfortable beds and plenty of space for one person. The TV is a little small by todays standards with a limited number of channels. There was a small bit of mold in the bathtub area that could have been removed with a little bleach. It appeared the carpets were not vacummed every day. I reported a light bulb was burned out. It was never replaced. Ice machines are on the odd numbered floors, but the one on my floor did not work. I encountered some staff in the elevator one evening and I mentioned the ice machine to them. Severel hours later a maid appeared at my door with ice and two mints. I'm not sure how they knew what room I was in. That was a little unnerving! I would stay here again for business, but would not come here on vacation.</td>\n",
       "      <td>Room and Food</td>\n",
       "    </tr>\n",
       "    <tr>\n",
       "      <th>2</th>\n",
       "      <td>id10328</td>\n",
       "      <td>I booked this hotel through Hotwire at the lowest price I could find. When we got there the front desk manager gave us a \"\"\"\"\"\"\"\"\"\"\"\"\"\"\"\"\"\"\"\"\"\"\"\"\"\"\"\"\"\"\"\"smoking\"\"\"\"\"\"\"\"\"\"\"\"\"\"\"\"\"\"\"\"\"\"\"\"\"\"\"\"\"\"\"\" room. I argued that I have a little baby and I would not have booked the room had I known it was smoking. The manager would not hear anything further and told me that Hotwire books the cheapest rooms that are available. So, from the get go I was very unhappy.\\nAfter a great deal of persuasion and discussion, I got a nonsmoking room. Thereafter the room had the most minimal amenities. Besides the great location (near Dupont Circle), there was not much to say about this overpriced hotel. The room was small and in OK condition. The bathroom was small with a tub. The bathroom amenities were also minimal. We did not have a fridge or a microwave and had to again rent a fridge from the staff (to keep baby things).\\nThe parking costs $-- per day so it is best not to drive here. Also the breakfast is not included. The lobby is very small and feels old. The only thing available is coffee in the lobby which is decent.\\nAll in all, poor service, minimal amenities, small rooms, small bathrooms, no view, but great location. Some distance from the metro (either McPherson station or Dupont station). Try to look for better if available.</td>\n",
       "      <td>Price</td>\n",
       "    </tr>\n",
       "    <tr>\n",
       "      <th>3</th>\n",
       "      <td>id10329</td>\n",
       "      <td>Stayed here with husband and sons on the way to an Alaska Cruise. We all loved the hotel, great experience. Ask for a room on the North tower, facing north west for the best views. We had a high floor, with a stunning view of the needle, the city, and even the cruise ships! We ordered room service for dinner so we could enjoy the perfect views. Room service dinners were delicious, too! You are in a perfect spot to walk everywhere, so enjoy the city. Almost forgot- Heavenly beds were heavenly, too!</td>\n",
       "      <td>Hotel Management</td>\n",
       "    </tr>\n",
       "    <tr>\n",
       "      <th>4</th>\n",
       "      <td>id10330</td>\n",
       "      <td>My girlfriends and I stayed here to celebrate our --th birthdays. We had planned this weekend getaway back in February, so we were all looking forward to it. There was - of us so we rented - ajoining rooms at the rate of $----night-room. We stayed - nights so with taxes and parking charges we spent in total over $----. All of us expected a certain level of service since we were staying at the Ritz, however this hotel certainly didn't meet what we would consider Ritz standards.\\nThe rooms were fine. They were clean with well appointed bathrooms, but nothing to get excited about. The service however was awful. The first night we were there, I made -- calls to the bell man, before someone in hotel communications picked up the phone. Then on Saturday night before we left for dinner at -:--, we requested to have extra hotels delivered to our room and our trash removed. When we returned at --:--, neither request was fullfilled. I made another call to housekeeping and then finally things were taken care of. In my opinion, for the rates we were paying, we should have had nightly turn down service.\\nI did speak with a manager when we checked out and he said he would make it worth our while to return, however all we received was a letter of apology.\\nNeedless to say, we have no plans to return to this hotel. My husband and I stayed at the Four Seasons Boston in February of ---- and had a wonderful stay. The service there was impeccable as is service at all the Four Seaons that I have stayed at. If you are willing to pay Ritz Carlton prices, then I would recommend staying at the Four Seasons instead!</td>\n",
       "      <td>service</td>\n",
       "    </tr>\n",
       "  </tbody>\n",
       "</table>\n",
       "</div>"
      ],
      "text/plain": [
       "   User_ID  \\\n",
       "0  id10326   \n",
       "1  id10327   \n",
       "2  id10328   \n",
       "3  id10329   \n",
       "4  id10330   \n",
       "\n",
       "                                                                                                                                                                                                                                                                                                                                                                                                                                                                                                                                                                                                                                                                                                                                                                                                                                                                                                                                                                                                                                                                                                                                                                                                                                                                                                                                                                                                                                                                                                                                                                                                                                                                        Description  \\\n",
       "0  The room was kind of clean but had a VERY strong smell of dogs. Generally below average but ok for a overnight stay if you're not too fussy. Would consider staying again if the price was right. Breakfast was free and just about better than nothing.                                                                                                                                                                                                                                                                                                                                                                                                                                                                                                                                                                                                                                                                                                                                                                                                                                                                                                                                                                                                                                                                                                                                                                                                                                                                                                                                                                                                                           \n",
       "1  I stayed at the Crown Plaza April -- - April --, ----. The staff was friendly and attentive. The elevators are tiny (about -' by -'). The food in the restaurant was delicious but priced a little on the high side. Of course this is Washington DC. There is no pool and little for children to do. My room on the fifth floor had two comfortable beds and plenty of space for one person. The TV is a little small by todays standards with a limited number of channels. There was a small bit of mold in the bathtub area that could have been removed with a little bleach. It appeared the carpets were not vacummed every day. I reported a light bulb was burned out. It was never replaced. Ice machines are on the odd numbered floors, but the one on my floor did not work. I encountered some staff in the elevator one evening and I mentioned the ice machine to them. Severel hours later a maid appeared at my door with ice and two mints. I'm not sure how they knew what room I was in. That was a little unnerving! I would stay here again for business, but would not come here on vacation.                                                                                                                                                                                                                                                                                                                                                                                                                                                                                                                                                              \n",
       "2  I booked this hotel through Hotwire at the lowest price I could find. When we got there the front desk manager gave us a \"\"\"\"\"\"\"\"\"\"\"\"\"\"\"\"\"\"\"\"\"\"\"\"\"\"\"\"\"\"\"\"smoking\"\"\"\"\"\"\"\"\"\"\"\"\"\"\"\"\"\"\"\"\"\"\"\"\"\"\"\"\"\"\"\" room. I argued that I have a little baby and I would not have booked the room had I known it was smoking. The manager would not hear anything further and told me that Hotwire books the cheapest rooms that are available. So, from the get go I was very unhappy.\\nAfter a great deal of persuasion and discussion, I got a nonsmoking room. Thereafter the room had the most minimal amenities. Besides the great location (near Dupont Circle), there was not much to say about this overpriced hotel. The room was small and in OK condition. The bathroom was small with a tub. The bathroom amenities were also minimal. We did not have a fridge or a microwave and had to again rent a fridge from the staff (to keep baby things).\\nThe parking costs $-- per day so it is best not to drive here. Also the breakfast is not included. The lobby is very small and feels old. The only thing available is coffee in the lobby which is decent.\\nAll in all, poor service, minimal amenities, small rooms, small bathrooms, no view, but great location. Some distance from the metro (either McPherson station or Dupont station). Try to look for better if available.                                                                                                                                                                                                                                                                                                 \n",
       "3  Stayed here with husband and sons on the way to an Alaska Cruise. We all loved the hotel, great experience. Ask for a room on the North tower, facing north west for the best views. We had a high floor, with a stunning view of the needle, the city, and even the cruise ships! We ordered room service for dinner so we could enjoy the perfect views. Room service dinners were delicious, too! You are in a perfect spot to walk everywhere, so enjoy the city. Almost forgot- Heavenly beds were heavenly, too!                                                                                                                                                                                                                                                                                                                                                                                                                                                                                                                                                                                                                                                                                                                                                                                                                                                                                                                                                                                                                                                                                                                                                             \n",
       "4  My girlfriends and I stayed here to celebrate our --th birthdays. We had planned this weekend getaway back in February, so we were all looking forward to it. There was - of us so we rented - ajoining rooms at the rate of $----night-room. We stayed - nights so with taxes and parking charges we spent in total over $----. All of us expected a certain level of service since we were staying at the Ritz, however this hotel certainly didn't meet what we would consider Ritz standards.\\nThe rooms were fine. They were clean with well appointed bathrooms, but nothing to get excited about. The service however was awful. The first night we were there, I made -- calls to the bell man, before someone in hotel communications picked up the phone. Then on Saturday night before we left for dinner at -:--, we requested to have extra hotels delivered to our room and our trash removed. When we returned at --:--, neither request was fullfilled. I made another call to housekeeping and then finally things were taken care of. In my opinion, for the rates we were paying, we should have had nightly turn down service.\\nI did speak with a manager when we checked out and he said he would make it worth our while to return, however all we received was a letter of apology.\\nNeedless to say, we have no plans to return to this hotel. My husband and I stayed at the Four Seasons Boston in February of ---- and had a wonderful stay. The service there was impeccable as is service at all the Four Seaons that I have stayed at. If you are willing to pay Ritz Carlton prices, then I would recommend staying at the Four Seasons instead!   \n",
       "\n",
       "        Is_Response  \n",
       "0  Room and Food     \n",
       "1  Room and Food     \n",
       "2  Price             \n",
       "3  Hotel Management  \n",
       "4  service           "
      ]
     },
     "execution_count": 33,
     "metadata": {},
     "output_type": "execute_result"
    }
   ],
   "source": [
    "train.head()"
   ]
  },
  {
   "cell_type": "code",
   "execution_count": 34,
   "metadata": {},
   "outputs": [
    {
     "data": {
      "text/plain": [
       "(38932, 3)"
      ]
     },
     "execution_count": 34,
     "metadata": {},
     "output_type": "execute_result"
    }
   ],
   "source": [
    "train.shape"
   ]
  },
  {
   "cell_type": "code",
   "execution_count": 35,
   "metadata": {},
   "outputs": [
    {
     "data": {
      "text/plain": [
       "User_ID        0\n",
       "Description    0\n",
       "Is_Response    0\n",
       "dtype: int64"
      ]
     },
     "execution_count": 35,
     "metadata": {},
     "output_type": "execute_result"
    }
   ],
   "source": [
    "train.isna().sum()"
   ]
  },
  {
   "cell_type": "code",
   "execution_count": 36,
   "metadata": {},
   "outputs": [
    {
     "name": "stdout",
     "output_type": "stream",
     "text": [
      "<class 'pandas.core.frame.DataFrame'>\n",
      "RangeIndex: 38932 entries, 0 to 38931\n",
      "Data columns (total 3 columns):\n",
      "User_ID        38932 non-null object\n",
      "Description    38932 non-null object\n",
      "Is_Response    38932 non-null object\n",
      "dtypes: object(3)\n",
      "memory usage: 456.3+ KB\n"
     ]
    }
   ],
   "source": [
    "train.info()"
   ]
  },
  {
   "cell_type": "markdown",
   "metadata": {},
   "source": [
    "# Number of Words"
   ]
  },
  {
   "cell_type": "code",
   "execution_count": 37,
   "metadata": {
    "scrolled": true
   },
   "outputs": [
    {
     "data": {
      "text/html": [
       "<div>\n",
       "<style scoped>\n",
       "    .dataframe tbody tr th:only-of-type {\n",
       "        vertical-align: middle;\n",
       "    }\n",
       "\n",
       "    .dataframe tbody tr th {\n",
       "        vertical-align: top;\n",
       "    }\n",
       "\n",
       "    .dataframe thead th {\n",
       "        text-align: right;\n",
       "    }\n",
       "</style>\n",
       "<table border=\"1\" class=\"dataframe\">\n",
       "  <thead>\n",
       "    <tr style=\"text-align: right;\">\n",
       "      <th></th>\n",
       "      <th>Description</th>\n",
       "      <th>word_count</th>\n",
       "    </tr>\n",
       "  </thead>\n",
       "  <tbody>\n",
       "    <tr>\n",
       "      <th>0</th>\n",
       "      <td>The room was kind of clean but had a VERY strong smell of dogs. Generally below average but ok for a overnight stay if you're not too fussy. Would consider staying again if the price was right. Breakfast was free and just about better than nothing.</td>\n",
       "      <td>46</td>\n",
       "    </tr>\n",
       "    <tr>\n",
       "      <th>1</th>\n",
       "      <td>I stayed at the Crown Plaza April -- - April --, ----. The staff was friendly and attentive. The elevators are tiny (about -' by -'). The food in the restaurant was delicious but priced a little on the high side. Of course this is Washington DC. There is no pool and little for children to do. My room on the fifth floor had two comfortable beds and plenty of space for one person. The TV is a little small by todays standards with a limited number of channels. There was a small bit of mold in the bathtub area that could have been removed with a little bleach. It appeared the carpets were not vacummed every day. I reported a light bulb was burned out. It was never replaced. Ice machines are on the odd numbered floors, but the one on my floor did not work. I encountered some staff in the elevator one evening and I mentioned the ice machine to them. Severel hours later a maid appeared at my door with ice and two mints. I'm not sure how they knew what room I was in. That was a little unnerving! I would stay here again for business, but would not come here on vacation.</td>\n",
       "      <td>208</td>\n",
       "    </tr>\n",
       "    <tr>\n",
       "      <th>2</th>\n",
       "      <td>I booked this hotel through Hotwire at the lowest price I could find. When we got there the front desk manager gave us a \"\"\"\"\"\"\"\"\"\"\"\"\"\"\"\"\"\"\"\"\"\"\"\"\"\"\"\"\"\"\"\"smoking\"\"\"\"\"\"\"\"\"\"\"\"\"\"\"\"\"\"\"\"\"\"\"\"\"\"\"\"\"\"\"\" room. I argued that I have a little baby and I would not have booked the room had I known it was smoking. The manager would not hear anything further and told me that Hotwire books the cheapest rooms that are available. So, from the get go I was very unhappy.\\nAfter a great deal of persuasion and discussion, I got a nonsmoking room. Thereafter the room had the most minimal amenities. Besides the great location (near Dupont Circle), there was not much to say about this overpriced hotel. The room was small and in OK condition. The bathroom was small with a tub. The bathroom amenities were also minimal. We did not have a fridge or a microwave and had to again rent a fridge from the staff (to keep baby things).\\nThe parking costs $-- per day so it is best not to drive here. Also the breakfast is not included. The lobby is very small and feels old. The only thing available is coffee in the lobby which is decent.\\nAll in all, poor service, minimal amenities, small rooms, small bathrooms, no view, but great location. Some distance from the metro (either McPherson station or Dupont station). Try to look for better if available.</td>\n",
       "      <td>229</td>\n",
       "    </tr>\n",
       "    <tr>\n",
       "      <th>3</th>\n",
       "      <td>Stayed here with husband and sons on the way to an Alaska Cruise. We all loved the hotel, great experience. Ask for a room on the North tower, facing north west for the best views. We had a high floor, with a stunning view of the needle, the city, and even the cruise ships! We ordered room service for dinner so we could enjoy the perfect views. Room service dinners were delicious, too! You are in a perfect spot to walk everywhere, so enjoy the city. Almost forgot- Heavenly beds were heavenly, too!</td>\n",
       "      <td>93</td>\n",
       "    </tr>\n",
       "    <tr>\n",
       "      <th>4</th>\n",
       "      <td>My girlfriends and I stayed here to celebrate our --th birthdays. We had planned this weekend getaway back in February, so we were all looking forward to it. There was - of us so we rented - ajoining rooms at the rate of $----night-room. We stayed - nights so with taxes and parking charges we spent in total over $----. All of us expected a certain level of service since we were staying at the Ritz, however this hotel certainly didn't meet what we would consider Ritz standards.\\nThe rooms were fine. They were clean with well appointed bathrooms, but nothing to get excited about. The service however was awful. The first night we were there, I made -- calls to the bell man, before someone in hotel communications picked up the phone. Then on Saturday night before we left for dinner at -:--, we requested to have extra hotels delivered to our room and our trash removed. When we returned at --:--, neither request was fullfilled. I made another call to housekeeping and then finally things were taken care of. In my opinion, for the rates we were paying, we should have had nightly turn down service.\\nI did speak with a manager when we checked out and he said he would make it worth our while to return, however all we received was a letter of apology.\\nNeedless to say, we have no plans to return to this hotel. My husband and I stayed at the Four Seasons Boston in February of ---- and had a wonderful stay. The service there was impeccable as is service at all the Four Seaons that I have stayed at. If you are willing to pay Ritz Carlton prices, then I would recommend staying at the Four Seasons instead!</td>\n",
       "      <td>294</td>\n",
       "    </tr>\n",
       "  </tbody>\n",
       "</table>\n",
       "</div>"
      ],
      "text/plain": [
       "                                                                                                                                                                                                                                                                                                                                                                                                                                                                                                                                                                                                                                                                                                                                                                                                                                                                                                                                                                                                                                                                                                                                                                                                                                                                                                                                                                                                                                                                                                                                                                                                                                                                        Description  \\\n",
       "0  The room was kind of clean but had a VERY strong smell of dogs. Generally below average but ok for a overnight stay if you're not too fussy. Would consider staying again if the price was right. Breakfast was free and just about better than nothing.                                                                                                                                                                                                                                                                                                                                                                                                                                                                                                                                                                                                                                                                                                                                                                                                                                                                                                                                                                                                                                                                                                                                                                                                                                                                                                                                                                                                                           \n",
       "1  I stayed at the Crown Plaza April -- - April --, ----. The staff was friendly and attentive. The elevators are tiny (about -' by -'). The food in the restaurant was delicious but priced a little on the high side. Of course this is Washington DC. There is no pool and little for children to do. My room on the fifth floor had two comfortable beds and plenty of space for one person. The TV is a little small by todays standards with a limited number of channels. There was a small bit of mold in the bathtub area that could have been removed with a little bleach. It appeared the carpets were not vacummed every day. I reported a light bulb was burned out. It was never replaced. Ice machines are on the odd numbered floors, but the one on my floor did not work. I encountered some staff in the elevator one evening and I mentioned the ice machine to them. Severel hours later a maid appeared at my door with ice and two mints. I'm not sure how they knew what room I was in. That was a little unnerving! I would stay here again for business, but would not come here on vacation.                                                                                                                                                                                                                                                                                                                                                                                                                                                                                                                                                              \n",
       "2  I booked this hotel through Hotwire at the lowest price I could find. When we got there the front desk manager gave us a \"\"\"\"\"\"\"\"\"\"\"\"\"\"\"\"\"\"\"\"\"\"\"\"\"\"\"\"\"\"\"\"smoking\"\"\"\"\"\"\"\"\"\"\"\"\"\"\"\"\"\"\"\"\"\"\"\"\"\"\"\"\"\"\"\" room. I argued that I have a little baby and I would not have booked the room had I known it was smoking. The manager would not hear anything further and told me that Hotwire books the cheapest rooms that are available. So, from the get go I was very unhappy.\\nAfter a great deal of persuasion and discussion, I got a nonsmoking room. Thereafter the room had the most minimal amenities. Besides the great location (near Dupont Circle), there was not much to say about this overpriced hotel. The room was small and in OK condition. The bathroom was small with a tub. The bathroom amenities were also minimal. We did not have a fridge or a microwave and had to again rent a fridge from the staff (to keep baby things).\\nThe parking costs $-- per day so it is best not to drive here. Also the breakfast is not included. The lobby is very small and feels old. The only thing available is coffee in the lobby which is decent.\\nAll in all, poor service, minimal amenities, small rooms, small bathrooms, no view, but great location. Some distance from the metro (either McPherson station or Dupont station). Try to look for better if available.                                                                                                                                                                                                                                                                                                 \n",
       "3  Stayed here with husband and sons on the way to an Alaska Cruise. We all loved the hotel, great experience. Ask for a room on the North tower, facing north west for the best views. We had a high floor, with a stunning view of the needle, the city, and even the cruise ships! We ordered room service for dinner so we could enjoy the perfect views. Room service dinners were delicious, too! You are in a perfect spot to walk everywhere, so enjoy the city. Almost forgot- Heavenly beds were heavenly, too!                                                                                                                                                                                                                                                                                                                                                                                                                                                                                                                                                                                                                                                                                                                                                                                                                                                                                                                                                                                                                                                                                                                                                             \n",
       "4  My girlfriends and I stayed here to celebrate our --th birthdays. We had planned this weekend getaway back in February, so we were all looking forward to it. There was - of us so we rented - ajoining rooms at the rate of $----night-room. We stayed - nights so with taxes and parking charges we spent in total over $----. All of us expected a certain level of service since we were staying at the Ritz, however this hotel certainly didn't meet what we would consider Ritz standards.\\nThe rooms were fine. They were clean with well appointed bathrooms, but nothing to get excited about. The service however was awful. The first night we were there, I made -- calls to the bell man, before someone in hotel communications picked up the phone. Then on Saturday night before we left for dinner at -:--, we requested to have extra hotels delivered to our room and our trash removed. When we returned at --:--, neither request was fullfilled. I made another call to housekeeping and then finally things were taken care of. In my opinion, for the rates we were paying, we should have had nightly turn down service.\\nI did speak with a manager when we checked out and he said he would make it worth our while to return, however all we received was a letter of apology.\\nNeedless to say, we have no plans to return to this hotel. My husband and I stayed at the Four Seasons Boston in February of ---- and had a wonderful stay. The service there was impeccable as is service at all the Four Seaons that I have stayed at. If you are willing to pay Ritz Carlton prices, then I would recommend staying at the Four Seasons instead!   \n",
       "\n",
       "   word_count  \n",
       "0  46          \n",
       "1  208         \n",
       "2  229         \n",
       "3  93          \n",
       "4  294         "
      ]
     },
     "execution_count": 37,
     "metadata": {},
     "output_type": "execute_result"
    }
   ],
   "source": [
    "train['word_count'] = train['Description'].apply(lambda x: len(str(x).split(\" \")))\n",
    "train[['Description','word_count']].head()"
   ]
  },
  {
   "cell_type": "code",
   "execution_count": 38,
   "metadata": {},
   "outputs": [
    {
     "data": {
      "text/html": [
       "<div>\n",
       "<style scoped>\n",
       "    .dataframe tbody tr th:only-of-type {\n",
       "        vertical-align: middle;\n",
       "    }\n",
       "\n",
       "    .dataframe tbody tr th {\n",
       "        vertical-align: top;\n",
       "    }\n",
       "\n",
       "    .dataframe thead th {\n",
       "        text-align: right;\n",
       "    }\n",
       "</style>\n",
       "<table border=\"1\" class=\"dataframe\">\n",
       "  <thead>\n",
       "    <tr style=\"text-align: right;\">\n",
       "      <th></th>\n",
       "      <th>word_count</th>\n",
       "    </tr>\n",
       "  </thead>\n",
       "  <tbody>\n",
       "    <tr>\n",
       "      <th>count</th>\n",
       "      <td>38932.000000</td>\n",
       "    </tr>\n",
       "    <tr>\n",
       "      <th>mean</th>\n",
       "      <td>155.979605</td>\n",
       "    </tr>\n",
       "    <tr>\n",
       "      <th>std</th>\n",
       "      <td>130.011018</td>\n",
       "    </tr>\n",
       "    <tr>\n",
       "      <th>min</th>\n",
       "      <td>1.000000</td>\n",
       "    </tr>\n",
       "    <tr>\n",
       "      <th>25%</th>\n",
       "      <td>72.000000</td>\n",
       "    </tr>\n",
       "    <tr>\n",
       "      <th>50%</th>\n",
       "      <td>122.000000</td>\n",
       "    </tr>\n",
       "    <tr>\n",
       "      <th>75%</th>\n",
       "      <td>197.000000</td>\n",
       "    </tr>\n",
       "    <tr>\n",
       "      <th>max</th>\n",
       "      <td>2289.000000</td>\n",
       "    </tr>\n",
       "  </tbody>\n",
       "</table>\n",
       "</div>"
      ],
      "text/plain": [
       "         word_count\n",
       "count  38932.000000\n",
       "mean   155.979605  \n",
       "std    130.011018  \n",
       "min    1.000000    \n",
       "25%    72.000000   \n",
       "50%    122.000000  \n",
       "75%    197.000000  \n",
       "max    2289.000000 "
      ]
     },
     "execution_count": 38,
     "metadata": {},
     "output_type": "execute_result"
    }
   ],
   "source": [
    "train.describe()"
   ]
  },
  {
   "cell_type": "markdown",
   "metadata": {},
   "source": [
    "# Creating the Call Duration column \n",
    "\n",
    "\n",
    "From the audio clips Could see that for 1 sec average words spoken is 3 and for 1 mins we have 60 seconds so for 1 hr we have 3600 secs so 3*3600 =10800 words can be spoken in 1 hr.formula = (3/10800)3600"
   ]
  },
  {
   "cell_type": "code",
   "execution_count": 39,
   "metadata": {},
   "outputs": [],
   "source": [
    "train['call_duration_secs']= train['word_count']/10800 * 3600"
   ]
  },
  {
   "cell_type": "code",
   "execution_count": 40,
   "metadata": {},
   "outputs": [
    {
     "data": {
      "text/html": [
       "<div>\n",
       "<style scoped>\n",
       "    .dataframe tbody tr th:only-of-type {\n",
       "        vertical-align: middle;\n",
       "    }\n",
       "\n",
       "    .dataframe tbody tr th {\n",
       "        vertical-align: top;\n",
       "    }\n",
       "\n",
       "    .dataframe thead th {\n",
       "        text-align: right;\n",
       "    }\n",
       "</style>\n",
       "<table border=\"1\" class=\"dataframe\">\n",
       "  <thead>\n",
       "    <tr style=\"text-align: right;\">\n",
       "      <th></th>\n",
       "      <th>word_count</th>\n",
       "      <th>call_duration_secs</th>\n",
       "    </tr>\n",
       "  </thead>\n",
       "  <tbody>\n",
       "    <tr>\n",
       "      <th>count</th>\n",
       "      <td>38932.000000</td>\n",
       "      <td>38932.000000</td>\n",
       "    </tr>\n",
       "    <tr>\n",
       "      <th>mean</th>\n",
       "      <td>155.979605</td>\n",
       "      <td>51.993202</td>\n",
       "    </tr>\n",
       "    <tr>\n",
       "      <th>std</th>\n",
       "      <td>130.011018</td>\n",
       "      <td>43.337006</td>\n",
       "    </tr>\n",
       "    <tr>\n",
       "      <th>min</th>\n",
       "      <td>1.000000</td>\n",
       "      <td>0.333333</td>\n",
       "    </tr>\n",
       "    <tr>\n",
       "      <th>25%</th>\n",
       "      <td>72.000000</td>\n",
       "      <td>24.000000</td>\n",
       "    </tr>\n",
       "    <tr>\n",
       "      <th>50%</th>\n",
       "      <td>122.000000</td>\n",
       "      <td>40.666667</td>\n",
       "    </tr>\n",
       "    <tr>\n",
       "      <th>75%</th>\n",
       "      <td>197.000000</td>\n",
       "      <td>65.666667</td>\n",
       "    </tr>\n",
       "    <tr>\n",
       "      <th>max</th>\n",
       "      <td>2289.000000</td>\n",
       "      <td>763.000000</td>\n",
       "    </tr>\n",
       "  </tbody>\n",
       "</table>\n",
       "</div>"
      ],
      "text/plain": [
       "         word_count  call_duration_secs\n",
       "count  38932.000000  38932.000000      \n",
       "mean   155.979605    51.993202         \n",
       "std    130.011018    43.337006         \n",
       "min    1.000000      0.333333          \n",
       "25%    72.000000     24.000000         \n",
       "50%    122.000000    40.666667         \n",
       "75%    197.000000    65.666667         \n",
       "max    2289.000000   763.000000        "
      ]
     },
     "execution_count": 40,
     "metadata": {},
     "output_type": "execute_result"
    }
   ],
   "source": [
    "train.describe()"
   ]
  },
  {
   "cell_type": "markdown",
   "metadata": {},
   "source": [
    "# Number of characters"
   ]
  },
  {
   "cell_type": "code",
   "execution_count": 41,
   "metadata": {},
   "outputs": [
    {
     "data": {
      "text/html": [
       "<div>\n",
       "<style scoped>\n",
       "    .dataframe tbody tr th:only-of-type {\n",
       "        vertical-align: middle;\n",
       "    }\n",
       "\n",
       "    .dataframe tbody tr th {\n",
       "        vertical-align: top;\n",
       "    }\n",
       "\n",
       "    .dataframe thead th {\n",
       "        text-align: right;\n",
       "    }\n",
       "</style>\n",
       "<table border=\"1\" class=\"dataframe\">\n",
       "  <thead>\n",
       "    <tr style=\"text-align: right;\">\n",
       "      <th></th>\n",
       "      <th>Description</th>\n",
       "      <th>char_count</th>\n",
       "    </tr>\n",
       "  </thead>\n",
       "  <tbody>\n",
       "    <tr>\n",
       "      <th>0</th>\n",
       "      <td>The room was kind of clean but had a VERY strong smell of dogs. Generally below average but ok for a overnight stay if you're not too fussy. Would consider staying again if the price was right. Breakfast was free and just about better than nothing.</td>\n",
       "      <td>248</td>\n",
       "    </tr>\n",
       "    <tr>\n",
       "      <th>1</th>\n",
       "      <td>I stayed at the Crown Plaza April -- - April --, ----. The staff was friendly and attentive. The elevators are tiny (about -' by -'). The food in the restaurant was delicious but priced a little on the high side. Of course this is Washington DC. There is no pool and little for children to do. My room on the fifth floor had two comfortable beds and plenty of space for one person. The TV is a little small by todays standards with a limited number of channels. There was a small bit of mold in the bathtub area that could have been removed with a little bleach. It appeared the carpets were not vacummed every day. I reported a light bulb was burned out. It was never replaced. Ice machines are on the odd numbered floors, but the one on my floor did not work. I encountered some staff in the elevator one evening and I mentioned the ice machine to them. Severel hours later a maid appeared at my door with ice and two mints. I'm not sure how they knew what room I was in. That was a little unnerving! I would stay here again for business, but would not come here on vacation.</td>\n",
       "      <td>1077</td>\n",
       "    </tr>\n",
       "    <tr>\n",
       "      <th>2</th>\n",
       "      <td>I booked this hotel through Hotwire at the lowest price I could find. When we got there the front desk manager gave us a \"\"\"\"\"\"\"\"\"\"\"\"\"\"\"\"\"\"\"\"\"\"\"\"\"\"\"\"\"\"\"\"smoking\"\"\"\"\"\"\"\"\"\"\"\"\"\"\"\"\"\"\"\"\"\"\"\"\"\"\"\"\"\"\"\" room. I argued that I have a little baby and I would not have booked the room had I known it was smoking. The manager would not hear anything further and told me that Hotwire books the cheapest rooms that are available. So, from the get go I was very unhappy.\\nAfter a great deal of persuasion and discussion, I got a nonsmoking room. Thereafter the room had the most minimal amenities. Besides the great location (near Dupont Circle), there was not much to say about this overpriced hotel. The room was small and in OK condition. The bathroom was small with a tub. The bathroom amenities were also minimal. We did not have a fridge or a microwave and had to again rent a fridge from the staff (to keep baby things).\\nThe parking costs $-- per day so it is best not to drive here. Also the breakfast is not included. The lobby is very small and feels old. The only thing available is coffee in the lobby which is decent.\\nAll in all, poor service, minimal amenities, small rooms, small bathrooms, no view, but great location. Some distance from the metro (either McPherson station or Dupont station). Try to look for better if available.</td>\n",
       "      <td>1327</td>\n",
       "    </tr>\n",
       "    <tr>\n",
       "      <th>3</th>\n",
       "      <td>Stayed here with husband and sons on the way to an Alaska Cruise. We all loved the hotel, great experience. Ask for a room on the North tower, facing north west for the best views. We had a high floor, with a stunning view of the needle, the city, and even the cruise ships! We ordered room service for dinner so we could enjoy the perfect views. Room service dinners were delicious, too! You are in a perfect spot to walk everywhere, so enjoy the city. Almost forgot- Heavenly beds were heavenly, too!</td>\n",
       "      <td>502</td>\n",
       "    </tr>\n",
       "    <tr>\n",
       "      <th>4</th>\n",
       "      <td>My girlfriends and I stayed here to celebrate our --th birthdays. We had planned this weekend getaway back in February, so we were all looking forward to it. There was - of us so we rented - ajoining rooms at the rate of $----night-room. We stayed - nights so with taxes and parking charges we spent in total over $----. All of us expected a certain level of service since we were staying at the Ritz, however this hotel certainly didn't meet what we would consider Ritz standards.\\nThe rooms were fine. They were clean with well appointed bathrooms, but nothing to get excited about. The service however was awful. The first night we were there, I made -- calls to the bell man, before someone in hotel communications picked up the phone. Then on Saturday night before we left for dinner at -:--, we requested to have extra hotels delivered to our room and our trash removed. When we returned at --:--, neither request was fullfilled. I made another call to housekeeping and then finally things were taken care of. In my opinion, for the rates we were paying, we should have had nightly turn down service.\\nI did speak with a manager when we checked out and he said he would make it worth our while to return, however all we received was a letter of apology.\\nNeedless to say, we have no plans to return to this hotel. My husband and I stayed at the Four Seasons Boston in February of ---- and had a wonderful stay. The service there was impeccable as is service at all the Four Seaons that I have stayed at. If you are willing to pay Ritz Carlton prices, then I would recommend staying at the Four Seasons instead!</td>\n",
       "      <td>1613</td>\n",
       "    </tr>\n",
       "  </tbody>\n",
       "</table>\n",
       "</div>"
      ],
      "text/plain": [
       "                                                                                                                                                                                                                                                                                                                                                                                                                                                                                                                                                                                                                                                                                                                                                                                                                                                                                                                                                                                                                                                                                                                                                                                                                                                                                                                                                                                                                                                                                                                                                                                                                                                                        Description  \\\n",
       "0  The room was kind of clean but had a VERY strong smell of dogs. Generally below average but ok for a overnight stay if you're not too fussy. Would consider staying again if the price was right. Breakfast was free and just about better than nothing.                                                                                                                                                                                                                                                                                                                                                                                                                                                                                                                                                                                                                                                                                                                                                                                                                                                                                                                                                                                                                                                                                                                                                                                                                                                                                                                                                                                                                           \n",
       "1  I stayed at the Crown Plaza April -- - April --, ----. The staff was friendly and attentive. The elevators are tiny (about -' by -'). The food in the restaurant was delicious but priced a little on the high side. Of course this is Washington DC. There is no pool and little for children to do. My room on the fifth floor had two comfortable beds and plenty of space for one person. The TV is a little small by todays standards with a limited number of channels. There was a small bit of mold in the bathtub area that could have been removed with a little bleach. It appeared the carpets were not vacummed every day. I reported a light bulb was burned out. It was never replaced. Ice machines are on the odd numbered floors, but the one on my floor did not work. I encountered some staff in the elevator one evening and I mentioned the ice machine to them. Severel hours later a maid appeared at my door with ice and two mints. I'm not sure how they knew what room I was in. That was a little unnerving! I would stay here again for business, but would not come here on vacation.                                                                                                                                                                                                                                                                                                                                                                                                                                                                                                                                                              \n",
       "2  I booked this hotel through Hotwire at the lowest price I could find. When we got there the front desk manager gave us a \"\"\"\"\"\"\"\"\"\"\"\"\"\"\"\"\"\"\"\"\"\"\"\"\"\"\"\"\"\"\"\"smoking\"\"\"\"\"\"\"\"\"\"\"\"\"\"\"\"\"\"\"\"\"\"\"\"\"\"\"\"\"\"\"\" room. I argued that I have a little baby and I would not have booked the room had I known it was smoking. The manager would not hear anything further and told me that Hotwire books the cheapest rooms that are available. So, from the get go I was very unhappy.\\nAfter a great deal of persuasion and discussion, I got a nonsmoking room. Thereafter the room had the most minimal amenities. Besides the great location (near Dupont Circle), there was not much to say about this overpriced hotel. The room was small and in OK condition. The bathroom was small with a tub. The bathroom amenities were also minimal. We did not have a fridge or a microwave and had to again rent a fridge from the staff (to keep baby things).\\nThe parking costs $-- per day so it is best not to drive here. Also the breakfast is not included. The lobby is very small and feels old. The only thing available is coffee in the lobby which is decent.\\nAll in all, poor service, minimal amenities, small rooms, small bathrooms, no view, but great location. Some distance from the metro (either McPherson station or Dupont station). Try to look for better if available.                                                                                                                                                                                                                                                                                                 \n",
       "3  Stayed here with husband and sons on the way to an Alaska Cruise. We all loved the hotel, great experience. Ask for a room on the North tower, facing north west for the best views. We had a high floor, with a stunning view of the needle, the city, and even the cruise ships! We ordered room service for dinner so we could enjoy the perfect views. Room service dinners were delicious, too! You are in a perfect spot to walk everywhere, so enjoy the city. Almost forgot- Heavenly beds were heavenly, too!                                                                                                                                                                                                                                                                                                                                                                                                                                                                                                                                                                                                                                                                                                                                                                                                                                                                                                                                                                                                                                                                                                                                                             \n",
       "4  My girlfriends and I stayed here to celebrate our --th birthdays. We had planned this weekend getaway back in February, so we were all looking forward to it. There was - of us so we rented - ajoining rooms at the rate of $----night-room. We stayed - nights so with taxes and parking charges we spent in total over $----. All of us expected a certain level of service since we were staying at the Ritz, however this hotel certainly didn't meet what we would consider Ritz standards.\\nThe rooms were fine. They were clean with well appointed bathrooms, but nothing to get excited about. The service however was awful. The first night we were there, I made -- calls to the bell man, before someone in hotel communications picked up the phone. Then on Saturday night before we left for dinner at -:--, we requested to have extra hotels delivered to our room and our trash removed. When we returned at --:--, neither request was fullfilled. I made another call to housekeeping and then finally things were taken care of. In my opinion, for the rates we were paying, we should have had nightly turn down service.\\nI did speak with a manager when we checked out and he said he would make it worth our while to return, however all we received was a letter of apology.\\nNeedless to say, we have no plans to return to this hotel. My husband and I stayed at the Four Seasons Boston in February of ---- and had a wonderful stay. The service there was impeccable as is service at all the Four Seaons that I have stayed at. If you are willing to pay Ritz Carlton prices, then I would recommend staying at the Four Seasons instead!   \n",
       "\n",
       "   char_count  \n",
       "0  248         \n",
       "1  1077        \n",
       "2  1327        \n",
       "3  502         \n",
       "4  1613        "
      ]
     },
     "execution_count": 41,
     "metadata": {},
     "output_type": "execute_result"
    }
   ],
   "source": [
    "train['char_count'] = train['Description'].str.len() ## this also includes spaces\n",
    "train[['Description','char_count']].head()"
   ]
  },
  {
   "cell_type": "markdown",
   "metadata": {},
   "source": [
    "# Average Word Length"
   ]
  },
  {
   "cell_type": "code",
   "execution_count": 42,
   "metadata": {},
   "outputs": [
    {
     "data": {
      "text/html": [
       "<div>\n",
       "<style scoped>\n",
       "    .dataframe tbody tr th:only-of-type {\n",
       "        vertical-align: middle;\n",
       "    }\n",
       "\n",
       "    .dataframe tbody tr th {\n",
       "        vertical-align: top;\n",
       "    }\n",
       "\n",
       "    .dataframe thead th {\n",
       "        text-align: right;\n",
       "    }\n",
       "</style>\n",
       "<table border=\"1\" class=\"dataframe\">\n",
       "  <thead>\n",
       "    <tr style=\"text-align: right;\">\n",
       "      <th></th>\n",
       "      <th>Description</th>\n",
       "      <th>avg_word</th>\n",
       "    </tr>\n",
       "  </thead>\n",
       "  <tbody>\n",
       "    <tr>\n",
       "      <th>0</th>\n",
       "      <td>The room was kind of clean but had a VERY strong smell of dogs. Generally below average but ok for a overnight stay if you're not too fussy. Would consider staying again if the price was right. Breakfast was free and just about better than nothing.</td>\n",
       "      <td>4.413043</td>\n",
       "    </tr>\n",
       "    <tr>\n",
       "      <th>1</th>\n",
       "      <td>I stayed at the Crown Plaza April -- - April --, ----. The staff was friendly and attentive. The elevators are tiny (about -' by -'). The food in the restaurant was delicious but priced a little on the high side. Of course this is Washington DC. There is no pool and little for children to do. My room on the fifth floor had two comfortable beds and plenty of space for one person. The TV is a little small by todays standards with a limited number of channels. There was a small bit of mold in the bathtub area that could have been removed with a little bleach. It appeared the carpets were not vacummed every day. I reported a light bulb was burned out. It was never replaced. Ice machines are on the odd numbered floors, but the one on my floor did not work. I encountered some staff in the elevator one evening and I mentioned the ice machine to them. Severel hours later a maid appeared at my door with ice and two mints. I'm not sure how they knew what room I was in. That was a little unnerving! I would stay here again for business, but would not come here on vacation.</td>\n",
       "      <td>4.182692</td>\n",
       "    </tr>\n",
       "    <tr>\n",
       "      <th>2</th>\n",
       "      <td>I booked this hotel through Hotwire at the lowest price I could find. When we got there the front desk manager gave us a \"\"\"\"\"\"\"\"\"\"\"\"\"\"\"\"\"\"\"\"\"\"\"\"\"\"\"\"\"\"\"\"smoking\"\"\"\"\"\"\"\"\"\"\"\"\"\"\"\"\"\"\"\"\"\"\"\"\"\"\"\"\"\"\"\" room. I argued that I have a little baby and I would not have booked the room had I known it was smoking. The manager would not hear anything further and told me that Hotwire books the cheapest rooms that are available. So, from the get go I was very unhappy.\\nAfter a great deal of persuasion and discussion, I got a nonsmoking room. Thereafter the room had the most minimal amenities. Besides the great location (near Dupont Circle), there was not much to say about this overpriced hotel. The room was small and in OK condition. The bathroom was small with a tub. The bathroom amenities were also minimal. We did not have a fridge or a microwave and had to again rent a fridge from the staff (to keep baby things).\\nThe parking costs $-- per day so it is best not to drive here. Also the breakfast is not included. The lobby is very small and feels old. The only thing available is coffee in the lobby which is decent.\\nAll in all, poor service, minimal amenities, small rooms, small bathrooms, no view, but great location. Some distance from the metro (either McPherson station or Dupont station). Try to look for better if available.</td>\n",
       "      <td>4.724138</td>\n",
       "    </tr>\n",
       "    <tr>\n",
       "      <th>3</th>\n",
       "      <td>Stayed here with husband and sons on the way to an Alaska Cruise. We all loved the hotel, great experience. Ask for a room on the North tower, facing north west for the best views. We had a high floor, with a stunning view of the needle, the city, and even the cruise ships! We ordered room service for dinner so we could enjoy the perfect views. Room service dinners were delicious, too! You are in a perfect spot to walk everywhere, so enjoy the city. Almost forgot- Heavenly beds were heavenly, too!</td>\n",
       "      <td>4.408602</td>\n",
       "    </tr>\n",
       "    <tr>\n",
       "      <th>4</th>\n",
       "      <td>My girlfriends and I stayed here to celebrate our --th birthdays. We had planned this weekend getaway back in February, so we were all looking forward to it. There was - of us so we rented - ajoining rooms at the rate of $----night-room. We stayed - nights so with taxes and parking charges we spent in total over $----. All of us expected a certain level of service since we were staying at the Ritz, however this hotel certainly didn't meet what we would consider Ritz standards.\\nThe rooms were fine. They were clean with well appointed bathrooms, but nothing to get excited about. The service however was awful. The first night we were there, I made -- calls to the bell man, before someone in hotel communications picked up the phone. Then on Saturday night before we left for dinner at -:--, we requested to have extra hotels delivered to our room and our trash removed. When we returned at --:--, neither request was fullfilled. I made another call to housekeeping and then finally things were taken care of. In my opinion, for the rates we were paying, we should have had nightly turn down service.\\nI did speak with a manager when we checked out and he said he would make it worth our while to return, however all we received was a letter of apology.\\nNeedless to say, we have no plans to return to this hotel. My husband and I stayed at the Four Seasons Boston in February of ---- and had a wonderful stay. The service there was impeccable as is service at all the Four Seaons that I have stayed at. If you are willing to pay Ritz Carlton prices, then I would recommend staying at the Four Seasons instead!</td>\n",
       "      <td>4.434343</td>\n",
       "    </tr>\n",
       "  </tbody>\n",
       "</table>\n",
       "</div>"
      ],
      "text/plain": [
       "                                                                                                                                                                                                                                                                                                                                                                                                                                                                                                                                                                                                                                                                                                                                                                                                                                                                                                                                                                                                                                                                                                                                                                                                                                                                                                                                                                                                                                                                                                                                                                                                                                                                        Description  \\\n",
       "0  The room was kind of clean but had a VERY strong smell of dogs. Generally below average but ok for a overnight stay if you're not too fussy. Would consider staying again if the price was right. Breakfast was free and just about better than nothing.                                                                                                                                                                                                                                                                                                                                                                                                                                                                                                                                                                                                                                                                                                                                                                                                                                                                                                                                                                                                                                                                                                                                                                                                                                                                                                                                                                                                                           \n",
       "1  I stayed at the Crown Plaza April -- - April --, ----. The staff was friendly and attentive. The elevators are tiny (about -' by -'). The food in the restaurant was delicious but priced a little on the high side. Of course this is Washington DC. There is no pool and little for children to do. My room on the fifth floor had two comfortable beds and plenty of space for one person. The TV is a little small by todays standards with a limited number of channels. There was a small bit of mold in the bathtub area that could have been removed with a little bleach. It appeared the carpets were not vacummed every day. I reported a light bulb was burned out. It was never replaced. Ice machines are on the odd numbered floors, but the one on my floor did not work. I encountered some staff in the elevator one evening and I mentioned the ice machine to them. Severel hours later a maid appeared at my door with ice and two mints. I'm not sure how they knew what room I was in. That was a little unnerving! I would stay here again for business, but would not come here on vacation.                                                                                                                                                                                                                                                                                                                                                                                                                                                                                                                                                              \n",
       "2  I booked this hotel through Hotwire at the lowest price I could find. When we got there the front desk manager gave us a \"\"\"\"\"\"\"\"\"\"\"\"\"\"\"\"\"\"\"\"\"\"\"\"\"\"\"\"\"\"\"\"smoking\"\"\"\"\"\"\"\"\"\"\"\"\"\"\"\"\"\"\"\"\"\"\"\"\"\"\"\"\"\"\"\" room. I argued that I have a little baby and I would not have booked the room had I known it was smoking. The manager would not hear anything further and told me that Hotwire books the cheapest rooms that are available. So, from the get go I was very unhappy.\\nAfter a great deal of persuasion and discussion, I got a nonsmoking room. Thereafter the room had the most minimal amenities. Besides the great location (near Dupont Circle), there was not much to say about this overpriced hotel. The room was small and in OK condition. The bathroom was small with a tub. The bathroom amenities were also minimal. We did not have a fridge or a microwave and had to again rent a fridge from the staff (to keep baby things).\\nThe parking costs $-- per day so it is best not to drive here. Also the breakfast is not included. The lobby is very small and feels old. The only thing available is coffee in the lobby which is decent.\\nAll in all, poor service, minimal amenities, small rooms, small bathrooms, no view, but great location. Some distance from the metro (either McPherson station or Dupont station). Try to look for better if available.                                                                                                                                                                                                                                                                                                 \n",
       "3  Stayed here with husband and sons on the way to an Alaska Cruise. We all loved the hotel, great experience. Ask for a room on the North tower, facing north west for the best views. We had a high floor, with a stunning view of the needle, the city, and even the cruise ships! We ordered room service for dinner so we could enjoy the perfect views. Room service dinners were delicious, too! You are in a perfect spot to walk everywhere, so enjoy the city. Almost forgot- Heavenly beds were heavenly, too!                                                                                                                                                                                                                                                                                                                                                                                                                                                                                                                                                                                                                                                                                                                                                                                                                                                                                                                                                                                                                                                                                                                                                             \n",
       "4  My girlfriends and I stayed here to celebrate our --th birthdays. We had planned this weekend getaway back in February, so we were all looking forward to it. There was - of us so we rented - ajoining rooms at the rate of $----night-room. We stayed - nights so with taxes and parking charges we spent in total over $----. All of us expected a certain level of service since we were staying at the Ritz, however this hotel certainly didn't meet what we would consider Ritz standards.\\nThe rooms were fine. They were clean with well appointed bathrooms, but nothing to get excited about. The service however was awful. The first night we were there, I made -- calls to the bell man, before someone in hotel communications picked up the phone. Then on Saturday night before we left for dinner at -:--, we requested to have extra hotels delivered to our room and our trash removed. When we returned at --:--, neither request was fullfilled. I made another call to housekeeping and then finally things were taken care of. In my opinion, for the rates we were paying, we should have had nightly turn down service.\\nI did speak with a manager when we checked out and he said he would make it worth our while to return, however all we received was a letter of apology.\\nNeedless to say, we have no plans to return to this hotel. My husband and I stayed at the Four Seasons Boston in February of ---- and had a wonderful stay. The service there was impeccable as is service at all the Four Seaons that I have stayed at. If you are willing to pay Ritz Carlton prices, then I would recommend staying at the Four Seasons instead!   \n",
       "\n",
       "   avg_word  \n",
       "0  4.413043  \n",
       "1  4.182692  \n",
       "2  4.724138  \n",
       "3  4.408602  \n",
       "4  4.434343  "
      ]
     },
     "execution_count": 42,
     "metadata": {},
     "output_type": "execute_result"
    }
   ],
   "source": [
    "def avg_word(sentence):\n",
    "  words = sentence.split()\n",
    "  return (sum(len(word) for word in words)/len(words))\n",
    "\n",
    "train['avg_word'] = train['Description'].apply(lambda x: avg_word(x))\n",
    "train[['Description','avg_word']].head()"
   ]
  },
  {
   "cell_type": "markdown",
   "metadata": {},
   "source": [
    "# Number of stop words"
   ]
  },
  {
   "cell_type": "code",
   "execution_count": 43,
   "metadata": {},
   "outputs": [
    {
     "data": {
      "text/html": [
       "<div>\n",
       "<style scoped>\n",
       "    .dataframe tbody tr th:only-of-type {\n",
       "        vertical-align: middle;\n",
       "    }\n",
       "\n",
       "    .dataframe tbody tr th {\n",
       "        vertical-align: top;\n",
       "    }\n",
       "\n",
       "    .dataframe thead th {\n",
       "        text-align: right;\n",
       "    }\n",
       "</style>\n",
       "<table border=\"1\" class=\"dataframe\">\n",
       "  <thead>\n",
       "    <tr style=\"text-align: right;\">\n",
       "      <th></th>\n",
       "      <th>Description</th>\n",
       "      <th>stopwords</th>\n",
       "    </tr>\n",
       "  </thead>\n",
       "  <tbody>\n",
       "    <tr>\n",
       "      <th>0</th>\n",
       "      <td>The room was kind of clean but had a VERY strong smell of dogs. Generally below average but ok for a overnight stay if you're not too fussy. Would consider staying again if the price was right. Breakfast was free and just about better than nothing.</td>\n",
       "      <td>23</td>\n",
       "    </tr>\n",
       "    <tr>\n",
       "      <th>1</th>\n",
       "      <td>I stayed at the Crown Plaza April -- - April --, ----. The staff was friendly and attentive. The elevators are tiny (about -' by -'). The food in the restaurant was delicious but priced a little on the high side. Of course this is Washington DC. There is no pool and little for children to do. My room on the fifth floor had two comfortable beds and plenty of space for one person. The TV is a little small by todays standards with a limited number of channels. There was a small bit of mold in the bathtub area that could have been removed with a little bleach. It appeared the carpets were not vacummed every day. I reported a light bulb was burned out. It was never replaced. Ice machines are on the odd numbered floors, but the one on my floor did not work. I encountered some staff in the elevator one evening and I mentioned the ice machine to them. Severel hours later a maid appeared at my door with ice and two mints. I'm not sure how they knew what room I was in. That was a little unnerving! I would stay here again for business, but would not come here on vacation.</td>\n",
       "      <td>82</td>\n",
       "    </tr>\n",
       "    <tr>\n",
       "      <th>2</th>\n",
       "      <td>I booked this hotel through Hotwire at the lowest price I could find. When we got there the front desk manager gave us a \"\"\"\"\"\"\"\"\"\"\"\"\"\"\"\"\"\"\"\"\"\"\"\"\"\"\"\"\"\"\"\"smoking\"\"\"\"\"\"\"\"\"\"\"\"\"\"\"\"\"\"\"\"\"\"\"\"\"\"\"\"\"\"\"\" room. I argued that I have a little baby and I would not have booked the room had I known it was smoking. The manager would not hear anything further and told me that Hotwire books the cheapest rooms that are available. So, from the get go I was very unhappy.\\nAfter a great deal of persuasion and discussion, I got a nonsmoking room. Thereafter the room had the most minimal amenities. Besides the great location (near Dupont Circle), there was not much to say about this overpriced hotel. The room was small and in OK condition. The bathroom was small with a tub. The bathroom amenities were also minimal. We did not have a fridge or a microwave and had to again rent a fridge from the staff (to keep baby things).\\nThe parking costs $-- per day so it is best not to drive here. Also the breakfast is not included. The lobby is very small and feels old. The only thing available is coffee in the lobby which is decent.\\nAll in all, poor service, minimal amenities, small rooms, small bathrooms, no view, but great location. Some distance from the metro (either McPherson station or Dupont station). Try to look for better if available.</td>\n",
       "      <td>91</td>\n",
       "    </tr>\n",
       "    <tr>\n",
       "      <th>3</th>\n",
       "      <td>Stayed here with husband and sons on the way to an Alaska Cruise. We all loved the hotel, great experience. Ask for a room on the North tower, facing north west for the best views. We had a high floor, with a stunning view of the needle, the city, and even the cruise ships! We ordered room service for dinner so we could enjoy the perfect views. Room service dinners were delicious, too! You are in a perfect spot to walk everywhere, so enjoy the city. Almost forgot- Heavenly beds were heavenly, too!</td>\n",
       "      <td>36</td>\n",
       "    </tr>\n",
       "    <tr>\n",
       "      <th>4</th>\n",
       "      <td>My girlfriends and I stayed here to celebrate our --th birthdays. We had planned this weekend getaway back in February, so we were all looking forward to it. There was - of us so we rented - ajoining rooms at the rate of $----night-room. We stayed - nights so with taxes and parking charges we spent in total over $----. All of us expected a certain level of service since we were staying at the Ritz, however this hotel certainly didn't meet what we would consider Ritz standards.\\nThe rooms were fine. They were clean with well appointed bathrooms, but nothing to get excited about. The service however was awful. The first night we were there, I made -- calls to the bell man, before someone in hotel communications picked up the phone. Then on Saturday night before we left for dinner at -:--, we requested to have extra hotels delivered to our room and our trash removed. When we returned at --:--, neither request was fullfilled. I made another call to housekeeping and then finally things were taken care of. In my opinion, for the rates we were paying, we should have had nightly turn down service.\\nI did speak with a manager when we checked out and he said he would make it worth our while to return, however all we received was a letter of apology.\\nNeedless to say, we have no plans to return to this hotel. My husband and I stayed at the Four Seasons Boston in February of ---- and had a wonderful stay. The service there was impeccable as is service at all the Four Seaons that I have stayed at. If you are willing to pay Ritz Carlton prices, then I would recommend staying at the Four Seasons instead!</td>\n",
       "      <td>127</td>\n",
       "    </tr>\n",
       "  </tbody>\n",
       "</table>\n",
       "</div>"
      ],
      "text/plain": [
       "                                                                                                                                                                                                                                                                                                                                                                                                                                                                                                                                                                                                                                                                                                                                                                                                                                                                                                                                                                                                                                                                                                                                                                                                                                                                                                                                                                                                                                                                                                                                                                                                                                                                        Description  \\\n",
       "0  The room was kind of clean but had a VERY strong smell of dogs. Generally below average but ok for a overnight stay if you're not too fussy. Would consider staying again if the price was right. Breakfast was free and just about better than nothing.                                                                                                                                                                                                                                                                                                                                                                                                                                                                                                                                                                                                                                                                                                                                                                                                                                                                                                                                                                                                                                                                                                                                                                                                                                                                                                                                                                                                                           \n",
       "1  I stayed at the Crown Plaza April -- - April --, ----. The staff was friendly and attentive. The elevators are tiny (about -' by -'). The food in the restaurant was delicious but priced a little on the high side. Of course this is Washington DC. There is no pool and little for children to do. My room on the fifth floor had two comfortable beds and plenty of space for one person. The TV is a little small by todays standards with a limited number of channels. There was a small bit of mold in the bathtub area that could have been removed with a little bleach. It appeared the carpets were not vacummed every day. I reported a light bulb was burned out. It was never replaced. Ice machines are on the odd numbered floors, but the one on my floor did not work. I encountered some staff in the elevator one evening and I mentioned the ice machine to them. Severel hours later a maid appeared at my door with ice and two mints. I'm not sure how they knew what room I was in. That was a little unnerving! I would stay here again for business, but would not come here on vacation.                                                                                                                                                                                                                                                                                                                                                                                                                                                                                                                                                              \n",
       "2  I booked this hotel through Hotwire at the lowest price I could find. When we got there the front desk manager gave us a \"\"\"\"\"\"\"\"\"\"\"\"\"\"\"\"\"\"\"\"\"\"\"\"\"\"\"\"\"\"\"\"smoking\"\"\"\"\"\"\"\"\"\"\"\"\"\"\"\"\"\"\"\"\"\"\"\"\"\"\"\"\"\"\"\" room. I argued that I have a little baby and I would not have booked the room had I known it was smoking. The manager would not hear anything further and told me that Hotwire books the cheapest rooms that are available. So, from the get go I was very unhappy.\\nAfter a great deal of persuasion and discussion, I got a nonsmoking room. Thereafter the room had the most minimal amenities. Besides the great location (near Dupont Circle), there was not much to say about this overpriced hotel. The room was small and in OK condition. The bathroom was small with a tub. The bathroom amenities were also minimal. We did not have a fridge or a microwave and had to again rent a fridge from the staff (to keep baby things).\\nThe parking costs $-- per day so it is best not to drive here. Also the breakfast is not included. The lobby is very small and feels old. The only thing available is coffee in the lobby which is decent.\\nAll in all, poor service, minimal amenities, small rooms, small bathrooms, no view, but great location. Some distance from the metro (either McPherson station or Dupont station). Try to look for better if available.                                                                                                                                                                                                                                                                                                 \n",
       "3  Stayed here with husband and sons on the way to an Alaska Cruise. We all loved the hotel, great experience. Ask for a room on the North tower, facing north west for the best views. We had a high floor, with a stunning view of the needle, the city, and even the cruise ships! We ordered room service for dinner so we could enjoy the perfect views. Room service dinners were delicious, too! You are in a perfect spot to walk everywhere, so enjoy the city. Almost forgot- Heavenly beds were heavenly, too!                                                                                                                                                                                                                                                                                                                                                                                                                                                                                                                                                                                                                                                                                                                                                                                                                                                                                                                                                                                                                                                                                                                                                             \n",
       "4  My girlfriends and I stayed here to celebrate our --th birthdays. We had planned this weekend getaway back in February, so we were all looking forward to it. There was - of us so we rented - ajoining rooms at the rate of $----night-room. We stayed - nights so with taxes and parking charges we spent in total over $----. All of us expected a certain level of service since we were staying at the Ritz, however this hotel certainly didn't meet what we would consider Ritz standards.\\nThe rooms were fine. They were clean with well appointed bathrooms, but nothing to get excited about. The service however was awful. The first night we were there, I made -- calls to the bell man, before someone in hotel communications picked up the phone. Then on Saturday night before we left for dinner at -:--, we requested to have extra hotels delivered to our room and our trash removed. When we returned at --:--, neither request was fullfilled. I made another call to housekeeping and then finally things were taken care of. In my opinion, for the rates we were paying, we should have had nightly turn down service.\\nI did speak with a manager when we checked out and he said he would make it worth our while to return, however all we received was a letter of apology.\\nNeedless to say, we have no plans to return to this hotel. My husband and I stayed at the Four Seasons Boston in February of ---- and had a wonderful stay. The service there was impeccable as is service at all the Four Seaons that I have stayed at. If you are willing to pay Ritz Carlton prices, then I would recommend staying at the Four Seasons instead!   \n",
       "\n",
       "   stopwords  \n",
       "0  23         \n",
       "1  82         \n",
       "2  91         \n",
       "3  36         \n",
       "4  127        "
      ]
     },
     "execution_count": 43,
     "metadata": {},
     "output_type": "execute_result"
    }
   ],
   "source": [
    "stop = stopwords.words('english')\n",
    "\n",
    "train['stopwords'] = train['Description'].apply(lambda x: len([x for x in x.split() if x in stop]))\n",
    "train[['Description','stopwords']].head()"
   ]
  },
  {
   "cell_type": "markdown",
   "metadata": {},
   "source": [
    "# Number of special characters"
   ]
  },
  {
   "cell_type": "code",
   "execution_count": 44,
   "metadata": {},
   "outputs": [
    {
     "data": {
      "text/html": [
       "<div>\n",
       "<style scoped>\n",
       "    .dataframe tbody tr th:only-of-type {\n",
       "        vertical-align: middle;\n",
       "    }\n",
       "\n",
       "    .dataframe tbody tr th {\n",
       "        vertical-align: top;\n",
       "    }\n",
       "\n",
       "    .dataframe thead th {\n",
       "        text-align: right;\n",
       "    }\n",
       "</style>\n",
       "<table border=\"1\" class=\"dataframe\">\n",
       "  <thead>\n",
       "    <tr style=\"text-align: right;\">\n",
       "      <th></th>\n",
       "      <th>Description</th>\n",
       "      <th>hastags</th>\n",
       "    </tr>\n",
       "  </thead>\n",
       "  <tbody>\n",
       "    <tr>\n",
       "      <th>0</th>\n",
       "      <td>The room was kind of clean but had a VERY strong smell of dogs. Generally below average but ok for a overnight stay if you're not too fussy. Would consider staying again if the price was right. Breakfast was free and just about better than nothing.</td>\n",
       "      <td>0</td>\n",
       "    </tr>\n",
       "    <tr>\n",
       "      <th>1</th>\n",
       "      <td>I stayed at the Crown Plaza April -- - April --, ----. The staff was friendly and attentive. The elevators are tiny (about -' by -'). The food in the restaurant was delicious but priced a little on the high side. Of course this is Washington DC. There is no pool and little for children to do. My room on the fifth floor had two comfortable beds and plenty of space for one person. The TV is a little small by todays standards with a limited number of channels. There was a small bit of mold in the bathtub area that could have been removed with a little bleach. It appeared the carpets were not vacummed every day. I reported a light bulb was burned out. It was never replaced. Ice machines are on the odd numbered floors, but the one on my floor did not work. I encountered some staff in the elevator one evening and I mentioned the ice machine to them. Severel hours later a maid appeared at my door with ice and two mints. I'm not sure how they knew what room I was in. That was a little unnerving! I would stay here again for business, but would not come here on vacation.</td>\n",
       "      <td>6</td>\n",
       "    </tr>\n",
       "    <tr>\n",
       "      <th>2</th>\n",
       "      <td>I booked this hotel through Hotwire at the lowest price I could find. When we got there the front desk manager gave us a \"\"\"\"\"\"\"\"\"\"\"\"\"\"\"\"\"\"\"\"\"\"\"\"\"\"\"\"\"\"\"\"smoking\"\"\"\"\"\"\"\"\"\"\"\"\"\"\"\"\"\"\"\"\"\"\"\"\"\"\"\"\"\"\"\" room. I argued that I have a little baby and I would not have booked the room had I known it was smoking. The manager would not hear anything further and told me that Hotwire books the cheapest rooms that are available. So, from the get go I was very unhappy.\\nAfter a great deal of persuasion and discussion, I got a nonsmoking room. Thereafter the room had the most minimal amenities. Besides the great location (near Dupont Circle), there was not much to say about this overpriced hotel. The room was small and in OK condition. The bathroom was small with a tub. The bathroom amenities were also minimal. We did not have a fridge or a microwave and had to again rent a fridge from the staff (to keep baby things).\\nThe parking costs $-- per day so it is best not to drive here. Also the breakfast is not included. The lobby is very small and feels old. The only thing available is coffee in the lobby which is decent.\\nAll in all, poor service, minimal amenities, small rooms, small bathrooms, no view, but great location. Some distance from the metro (either McPherson station or Dupont station). Try to look for better if available.</td>\n",
       "      <td>0</td>\n",
       "    </tr>\n",
       "    <tr>\n",
       "      <th>3</th>\n",
       "      <td>Stayed here with husband and sons on the way to an Alaska Cruise. We all loved the hotel, great experience. Ask for a room on the North tower, facing north west for the best views. We had a high floor, with a stunning view of the needle, the city, and even the cruise ships! We ordered room service for dinner so we could enjoy the perfect views. Room service dinners were delicious, too! You are in a perfect spot to walk everywhere, so enjoy the city. Almost forgot- Heavenly beds were heavenly, too!</td>\n",
       "      <td>0</td>\n",
       "    </tr>\n",
       "    <tr>\n",
       "      <th>4</th>\n",
       "      <td>My girlfriends and I stayed here to celebrate our --th birthdays. We had planned this weekend getaway back in February, so we were all looking forward to it. There was - of us so we rented - ajoining rooms at the rate of $----night-room. We stayed - nights so with taxes and parking charges we spent in total over $----. All of us expected a certain level of service since we were staying at the Ritz, however this hotel certainly didn't meet what we would consider Ritz standards.\\nThe rooms were fine. They were clean with well appointed bathrooms, but nothing to get excited about. The service however was awful. The first night we were there, I made -- calls to the bell man, before someone in hotel communications picked up the phone. Then on Saturday night before we left for dinner at -:--, we requested to have extra hotels delivered to our room and our trash removed. When we returned at --:--, neither request was fullfilled. I made another call to housekeeping and then finally things were taken care of. In my opinion, for the rates we were paying, we should have had nightly turn down service.\\nI did speak with a manager when we checked out and he said he would make it worth our while to return, however all we received was a letter of apology.\\nNeedless to say, we have no plans to return to this hotel. My husband and I stayed at the Four Seasons Boston in February of ---- and had a wonderful stay. The service there was impeccable as is service at all the Four Seaons that I have stayed at. If you are willing to pay Ritz Carlton prices, then I would recommend staying at the Four Seasons instead!</td>\n",
       "      <td>8</td>\n",
       "    </tr>\n",
       "  </tbody>\n",
       "</table>\n",
       "</div>"
      ],
      "text/plain": [
       "                                                                                                                                                                                                                                                                                                                                                                                                                                                                                                                                                                                                                                                                                                                                                                                                                                                                                                                                                                                                                                                                                                                                                                                                                                                                                                                                                                                                                                                                                                                                                                                                                                                                        Description  \\\n",
       "0  The room was kind of clean but had a VERY strong smell of dogs. Generally below average but ok for a overnight stay if you're not too fussy. Would consider staying again if the price was right. Breakfast was free and just about better than nothing.                                                                                                                                                                                                                                                                                                                                                                                                                                                                                                                                                                                                                                                                                                                                                                                                                                                                                                                                                                                                                                                                                                                                                                                                                                                                                                                                                                                                                           \n",
       "1  I stayed at the Crown Plaza April -- - April --, ----. The staff was friendly and attentive. The elevators are tiny (about -' by -'). The food in the restaurant was delicious but priced a little on the high side. Of course this is Washington DC. There is no pool and little for children to do. My room on the fifth floor had two comfortable beds and plenty of space for one person. The TV is a little small by todays standards with a limited number of channels. There was a small bit of mold in the bathtub area that could have been removed with a little bleach. It appeared the carpets were not vacummed every day. I reported a light bulb was burned out. It was never replaced. Ice machines are on the odd numbered floors, but the one on my floor did not work. I encountered some staff in the elevator one evening and I mentioned the ice machine to them. Severel hours later a maid appeared at my door with ice and two mints. I'm not sure how they knew what room I was in. That was a little unnerving! I would stay here again for business, but would not come here on vacation.                                                                                                                                                                                                                                                                                                                                                                                                                                                                                                                                                              \n",
       "2  I booked this hotel through Hotwire at the lowest price I could find. When we got there the front desk manager gave us a \"\"\"\"\"\"\"\"\"\"\"\"\"\"\"\"\"\"\"\"\"\"\"\"\"\"\"\"\"\"\"\"smoking\"\"\"\"\"\"\"\"\"\"\"\"\"\"\"\"\"\"\"\"\"\"\"\"\"\"\"\"\"\"\"\" room. I argued that I have a little baby and I would not have booked the room had I known it was smoking. The manager would not hear anything further and told me that Hotwire books the cheapest rooms that are available. So, from the get go I was very unhappy.\\nAfter a great deal of persuasion and discussion, I got a nonsmoking room. Thereafter the room had the most minimal amenities. Besides the great location (near Dupont Circle), there was not much to say about this overpriced hotel. The room was small and in OK condition. The bathroom was small with a tub. The bathroom amenities were also minimal. We did not have a fridge or a microwave and had to again rent a fridge from the staff (to keep baby things).\\nThe parking costs $-- per day so it is best not to drive here. Also the breakfast is not included. The lobby is very small and feels old. The only thing available is coffee in the lobby which is decent.\\nAll in all, poor service, minimal amenities, small rooms, small bathrooms, no view, but great location. Some distance from the metro (either McPherson station or Dupont station). Try to look for better if available.                                                                                                                                                                                                                                                                                                 \n",
       "3  Stayed here with husband and sons on the way to an Alaska Cruise. We all loved the hotel, great experience. Ask for a room on the North tower, facing north west for the best views. We had a high floor, with a stunning view of the needle, the city, and even the cruise ships! We ordered room service for dinner so we could enjoy the perfect views. Room service dinners were delicious, too! You are in a perfect spot to walk everywhere, so enjoy the city. Almost forgot- Heavenly beds were heavenly, too!                                                                                                                                                                                                                                                                                                                                                                                                                                                                                                                                                                                                                                                                                                                                                                                                                                                                                                                                                                                                                                                                                                                                                             \n",
       "4  My girlfriends and I stayed here to celebrate our --th birthdays. We had planned this weekend getaway back in February, so we were all looking forward to it. There was - of us so we rented - ajoining rooms at the rate of $----night-room. We stayed - nights so with taxes and parking charges we spent in total over $----. All of us expected a certain level of service since we were staying at the Ritz, however this hotel certainly didn't meet what we would consider Ritz standards.\\nThe rooms were fine. They were clean with well appointed bathrooms, but nothing to get excited about. The service however was awful. The first night we were there, I made -- calls to the bell man, before someone in hotel communications picked up the phone. Then on Saturday night before we left for dinner at -:--, we requested to have extra hotels delivered to our room and our trash removed. When we returned at --:--, neither request was fullfilled. I made another call to housekeeping and then finally things were taken care of. In my opinion, for the rates we were paying, we should have had nightly turn down service.\\nI did speak with a manager when we checked out and he said he would make it worth our while to return, however all we received was a letter of apology.\\nNeedless to say, we have no plans to return to this hotel. My husband and I stayed at the Four Seasons Boston in February of ---- and had a wonderful stay. The service there was impeccable as is service at all the Four Seaons that I have stayed at. If you are willing to pay Ritz Carlton prices, then I would recommend staying at the Four Seasons instead!   \n",
       "\n",
       "   hastags  \n",
       "0  0        \n",
       "1  6        \n",
       "2  0        \n",
       "3  0        \n",
       "4  8        "
      ]
     },
     "execution_count": 44,
     "metadata": {},
     "output_type": "execute_result"
    }
   ],
   "source": [
    "train['hastags'] = train['Description'].apply(lambda x: len([x for x in x.split() if x.startswith('-')]))\n",
    "train[['Description','hastags']].head()"
   ]
  },
  {
   "cell_type": "markdown",
   "metadata": {},
   "source": [
    "# Number of numerics"
   ]
  },
  {
   "cell_type": "code",
   "execution_count": 45,
   "metadata": {},
   "outputs": [
    {
     "data": {
      "text/html": [
       "<div>\n",
       "<style scoped>\n",
       "    .dataframe tbody tr th:only-of-type {\n",
       "        vertical-align: middle;\n",
       "    }\n",
       "\n",
       "    .dataframe tbody tr th {\n",
       "        vertical-align: top;\n",
       "    }\n",
       "\n",
       "    .dataframe thead th {\n",
       "        text-align: right;\n",
       "    }\n",
       "</style>\n",
       "<table border=\"1\" class=\"dataframe\">\n",
       "  <thead>\n",
       "    <tr style=\"text-align: right;\">\n",
       "      <th></th>\n",
       "      <th>Description</th>\n",
       "      <th>numerics</th>\n",
       "    </tr>\n",
       "  </thead>\n",
       "  <tbody>\n",
       "    <tr>\n",
       "      <th>0</th>\n",
       "      <td>The room was kind of clean but had a VERY strong smell of dogs. Generally below average but ok for a overnight stay if you're not too fussy. Would consider staying again if the price was right. Breakfast was free and just about better than nothing.</td>\n",
       "      <td>0</td>\n",
       "    </tr>\n",
       "    <tr>\n",
       "      <th>1</th>\n",
       "      <td>I stayed at the Crown Plaza April -- - April --, ----. The staff was friendly and attentive. The elevators are tiny (about -' by -'). The food in the restaurant was delicious but priced a little on the high side. Of course this is Washington DC. There is no pool and little for children to do. My room on the fifth floor had two comfortable beds and plenty of space for one person. The TV is a little small by todays standards with a limited number of channels. There was a small bit of mold in the bathtub area that could have been removed with a little bleach. It appeared the carpets were not vacummed every day. I reported a light bulb was burned out. It was never replaced. Ice machines are on the odd numbered floors, but the one on my floor did not work. I encountered some staff in the elevator one evening and I mentioned the ice machine to them. Severel hours later a maid appeared at my door with ice and two mints. I'm not sure how they knew what room I was in. That was a little unnerving! I would stay here again for business, but would not come here on vacation.</td>\n",
       "      <td>0</td>\n",
       "    </tr>\n",
       "    <tr>\n",
       "      <th>2</th>\n",
       "      <td>I booked this hotel through Hotwire at the lowest price I could find. When we got there the front desk manager gave us a \"\"\"\"\"\"\"\"\"\"\"\"\"\"\"\"\"\"\"\"\"\"\"\"\"\"\"\"\"\"\"\"smoking\"\"\"\"\"\"\"\"\"\"\"\"\"\"\"\"\"\"\"\"\"\"\"\"\"\"\"\"\"\"\"\" room. I argued that I have a little baby and I would not have booked the room had I known it was smoking. The manager would not hear anything further and told me that Hotwire books the cheapest rooms that are available. So, from the get go I was very unhappy.\\nAfter a great deal of persuasion and discussion, I got a nonsmoking room. Thereafter the room had the most minimal amenities. Besides the great location (near Dupont Circle), there was not much to say about this overpriced hotel. The room was small and in OK condition. The bathroom was small with a tub. The bathroom amenities were also minimal. We did not have a fridge or a microwave and had to again rent a fridge from the staff (to keep baby things).\\nThe parking costs $-- per day so it is best not to drive here. Also the breakfast is not included. The lobby is very small and feels old. The only thing available is coffee in the lobby which is decent.\\nAll in all, poor service, minimal amenities, small rooms, small bathrooms, no view, but great location. Some distance from the metro (either McPherson station or Dupont station). Try to look for better if available.</td>\n",
       "      <td>0</td>\n",
       "    </tr>\n",
       "    <tr>\n",
       "      <th>3</th>\n",
       "      <td>Stayed here with husband and sons on the way to an Alaska Cruise. We all loved the hotel, great experience. Ask for a room on the North tower, facing north west for the best views. We had a high floor, with a stunning view of the needle, the city, and even the cruise ships! We ordered room service for dinner so we could enjoy the perfect views. Room service dinners were delicious, too! You are in a perfect spot to walk everywhere, so enjoy the city. Almost forgot- Heavenly beds were heavenly, too!</td>\n",
       "      <td>0</td>\n",
       "    </tr>\n",
       "    <tr>\n",
       "      <th>4</th>\n",
       "      <td>My girlfriends and I stayed here to celebrate our --th birthdays. We had planned this weekend getaway back in February, so we were all looking forward to it. There was - of us so we rented - ajoining rooms at the rate of $----night-room. We stayed - nights so with taxes and parking charges we spent in total over $----. All of us expected a certain level of service since we were staying at the Ritz, however this hotel certainly didn't meet what we would consider Ritz standards.\\nThe rooms were fine. They were clean with well appointed bathrooms, but nothing to get excited about. The service however was awful. The first night we were there, I made -- calls to the bell man, before someone in hotel communications picked up the phone. Then on Saturday night before we left for dinner at -:--, we requested to have extra hotels delivered to our room and our trash removed. When we returned at --:--, neither request was fullfilled. I made another call to housekeeping and then finally things were taken care of. In my opinion, for the rates we were paying, we should have had nightly turn down service.\\nI did speak with a manager when we checked out and he said he would make it worth our while to return, however all we received was a letter of apology.\\nNeedless to say, we have no plans to return to this hotel. My husband and I stayed at the Four Seasons Boston in February of ---- and had a wonderful stay. The service there was impeccable as is service at all the Four Seaons that I have stayed at. If you are willing to pay Ritz Carlton prices, then I would recommend staying at the Four Seasons instead!</td>\n",
       "      <td>0</td>\n",
       "    </tr>\n",
       "  </tbody>\n",
       "</table>\n",
       "</div>"
      ],
      "text/plain": [
       "                                                                                                                                                                                                                                                                                                                                                                                                                                                                                                                                                                                                                                                                                                                                                                                                                                                                                                                                                                                                                                                                                                                                                                                                                                                                                                                                                                                                                                                                                                                                                                                                                                                                        Description  \\\n",
       "0  The room was kind of clean but had a VERY strong smell of dogs. Generally below average but ok for a overnight stay if you're not too fussy. Would consider staying again if the price was right. Breakfast was free and just about better than nothing.                                                                                                                                                                                                                                                                                                                                                                                                                                                                                                                                                                                                                                                                                                                                                                                                                                                                                                                                                                                                                                                                                                                                                                                                                                                                                                                                                                                                                           \n",
       "1  I stayed at the Crown Plaza April -- - April --, ----. The staff was friendly and attentive. The elevators are tiny (about -' by -'). The food in the restaurant was delicious but priced a little on the high side. Of course this is Washington DC. There is no pool and little for children to do. My room on the fifth floor had two comfortable beds and plenty of space for one person. The TV is a little small by todays standards with a limited number of channels. There was a small bit of mold in the bathtub area that could have been removed with a little bleach. It appeared the carpets were not vacummed every day. I reported a light bulb was burned out. It was never replaced. Ice machines are on the odd numbered floors, but the one on my floor did not work. I encountered some staff in the elevator one evening and I mentioned the ice machine to them. Severel hours later a maid appeared at my door with ice and two mints. I'm not sure how they knew what room I was in. That was a little unnerving! I would stay here again for business, but would not come here on vacation.                                                                                                                                                                                                                                                                                                                                                                                                                                                                                                                                                              \n",
       "2  I booked this hotel through Hotwire at the lowest price I could find. When we got there the front desk manager gave us a \"\"\"\"\"\"\"\"\"\"\"\"\"\"\"\"\"\"\"\"\"\"\"\"\"\"\"\"\"\"\"\"smoking\"\"\"\"\"\"\"\"\"\"\"\"\"\"\"\"\"\"\"\"\"\"\"\"\"\"\"\"\"\"\"\" room. I argued that I have a little baby and I would not have booked the room had I known it was smoking. The manager would not hear anything further and told me that Hotwire books the cheapest rooms that are available. So, from the get go I was very unhappy.\\nAfter a great deal of persuasion and discussion, I got a nonsmoking room. Thereafter the room had the most minimal amenities. Besides the great location (near Dupont Circle), there was not much to say about this overpriced hotel. The room was small and in OK condition. The bathroom was small with a tub. The bathroom amenities were also minimal. We did not have a fridge or a microwave and had to again rent a fridge from the staff (to keep baby things).\\nThe parking costs $-- per day so it is best not to drive here. Also the breakfast is not included. The lobby is very small and feels old. The only thing available is coffee in the lobby which is decent.\\nAll in all, poor service, minimal amenities, small rooms, small bathrooms, no view, but great location. Some distance from the metro (either McPherson station or Dupont station). Try to look for better if available.                                                                                                                                                                                                                                                                                                 \n",
       "3  Stayed here with husband and sons on the way to an Alaska Cruise. We all loved the hotel, great experience. Ask for a room on the North tower, facing north west for the best views. We had a high floor, with a stunning view of the needle, the city, and even the cruise ships! We ordered room service for dinner so we could enjoy the perfect views. Room service dinners were delicious, too! You are in a perfect spot to walk everywhere, so enjoy the city. Almost forgot- Heavenly beds were heavenly, too!                                                                                                                                                                                                                                                                                                                                                                                                                                                                                                                                                                                                                                                                                                                                                                                                                                                                                                                                                                                                                                                                                                                                                             \n",
       "4  My girlfriends and I stayed here to celebrate our --th birthdays. We had planned this weekend getaway back in February, so we were all looking forward to it. There was - of us so we rented - ajoining rooms at the rate of $----night-room. We stayed - nights so with taxes and parking charges we spent in total over $----. All of us expected a certain level of service since we were staying at the Ritz, however this hotel certainly didn't meet what we would consider Ritz standards.\\nThe rooms were fine. They were clean with well appointed bathrooms, but nothing to get excited about. The service however was awful. The first night we were there, I made -- calls to the bell man, before someone in hotel communications picked up the phone. Then on Saturday night before we left for dinner at -:--, we requested to have extra hotels delivered to our room and our trash removed. When we returned at --:--, neither request was fullfilled. I made another call to housekeeping and then finally things were taken care of. In my opinion, for the rates we were paying, we should have had nightly turn down service.\\nI did speak with a manager when we checked out and he said he would make it worth our while to return, however all we received was a letter of apology.\\nNeedless to say, we have no plans to return to this hotel. My husband and I stayed at the Four Seasons Boston in February of ---- and had a wonderful stay. The service there was impeccable as is service at all the Four Seaons that I have stayed at. If you are willing to pay Ritz Carlton prices, then I would recommend staying at the Four Seasons instead!   \n",
       "\n",
       "   numerics  \n",
       "0  0         \n",
       "1  0         \n",
       "2  0         \n",
       "3  0         \n",
       "4  0         "
      ]
     },
     "execution_count": 45,
     "metadata": {},
     "output_type": "execute_result"
    }
   ],
   "source": [
    "train['numerics'] = train['Description'].apply(lambda x: len([x for x in x.split() if x.isdigit()]))\n",
    "train[['Description','numerics']].head()"
   ]
  },
  {
   "cell_type": "markdown",
   "metadata": {},
   "source": [
    "# Number of Uppercase words"
   ]
  },
  {
   "cell_type": "code",
   "execution_count": 46,
   "metadata": {},
   "outputs": [
    {
     "data": {
      "text/html": [
       "<div>\n",
       "<style scoped>\n",
       "    .dataframe tbody tr th:only-of-type {\n",
       "        vertical-align: middle;\n",
       "    }\n",
       "\n",
       "    .dataframe tbody tr th {\n",
       "        vertical-align: top;\n",
       "    }\n",
       "\n",
       "    .dataframe thead th {\n",
       "        text-align: right;\n",
       "    }\n",
       "</style>\n",
       "<table border=\"1\" class=\"dataframe\">\n",
       "  <thead>\n",
       "    <tr style=\"text-align: right;\">\n",
       "      <th></th>\n",
       "      <th>Description</th>\n",
       "      <th>upper</th>\n",
       "    </tr>\n",
       "  </thead>\n",
       "  <tbody>\n",
       "    <tr>\n",
       "      <th>0</th>\n",
       "      <td>The room was kind of clean but had a VERY strong smell of dogs. Generally below average but ok for a overnight stay if you're not too fussy. Would consider staying again if the price was right. Breakfast was free and just about better than nothing.</td>\n",
       "      <td>1</td>\n",
       "    </tr>\n",
       "    <tr>\n",
       "      <th>1</th>\n",
       "      <td>I stayed at the Crown Plaza April -- - April --, ----. The staff was friendly and attentive. The elevators are tiny (about -' by -'). The food in the restaurant was delicious but priced a little on the high side. Of course this is Washington DC. There is no pool and little for children to do. My room on the fifth floor had two comfortable beds and plenty of space for one person. The TV is a little small by todays standards with a limited number of channels. There was a small bit of mold in the bathtub area that could have been removed with a little bleach. It appeared the carpets were not vacummed every day. I reported a light bulb was burned out. It was never replaced. Ice machines are on the odd numbered floors, but the one on my floor did not work. I encountered some staff in the elevator one evening and I mentioned the ice machine to them. Severel hours later a maid appeared at my door with ice and two mints. I'm not sure how they knew what room I was in. That was a little unnerving! I would stay here again for business, but would not come here on vacation.</td>\n",
       "      <td>8</td>\n",
       "    </tr>\n",
       "    <tr>\n",
       "      <th>2</th>\n",
       "      <td>I booked this hotel through Hotwire at the lowest price I could find. When we got there the front desk manager gave us a \"\"\"\"\"\"\"\"\"\"\"\"\"\"\"\"\"\"\"\"\"\"\"\"\"\"\"\"\"\"\"\"smoking\"\"\"\"\"\"\"\"\"\"\"\"\"\"\"\"\"\"\"\"\"\"\"\"\"\"\"\"\"\"\"\" room. I argued that I have a little baby and I would not have booked the room had I known it was smoking. The manager would not hear anything further and told me that Hotwire books the cheapest rooms that are available. So, from the get go I was very unhappy.\\nAfter a great deal of persuasion and discussion, I got a nonsmoking room. Thereafter the room had the most minimal amenities. Besides the great location (near Dupont Circle), there was not much to say about this overpriced hotel. The room was small and in OK condition. The bathroom was small with a tub. The bathroom amenities were also minimal. We did not have a fridge or a microwave and had to again rent a fridge from the staff (to keep baby things).\\nThe parking costs $-- per day so it is best not to drive here. Also the breakfast is not included. The lobby is very small and feels old. The only thing available is coffee in the lobby which is decent.\\nAll in all, poor service, minimal amenities, small rooms, small bathrooms, no view, but great location. Some distance from the metro (either McPherson station or Dupont station). Try to look for better if available.</td>\n",
       "      <td>9</td>\n",
       "    </tr>\n",
       "    <tr>\n",
       "      <th>3</th>\n",
       "      <td>Stayed here with husband and sons on the way to an Alaska Cruise. We all loved the hotel, great experience. Ask for a room on the North tower, facing north west for the best views. We had a high floor, with a stunning view of the needle, the city, and even the cruise ships! We ordered room service for dinner so we could enjoy the perfect views. Room service dinners were delicious, too! You are in a perfect spot to walk everywhere, so enjoy the city. Almost forgot- Heavenly beds were heavenly, too!</td>\n",
       "      <td>0</td>\n",
       "    </tr>\n",
       "    <tr>\n",
       "      <th>4</th>\n",
       "      <td>My girlfriends and I stayed here to celebrate our --th birthdays. We had planned this weekend getaway back in February, so we were all looking forward to it. There was - of us so we rented - ajoining rooms at the rate of $----night-room. We stayed - nights so with taxes and parking charges we spent in total over $----. All of us expected a certain level of service since we were staying at the Ritz, however this hotel certainly didn't meet what we would consider Ritz standards.\\nThe rooms were fine. They were clean with well appointed bathrooms, but nothing to get excited about. The service however was awful. The first night we were there, I made -- calls to the bell man, before someone in hotel communications picked up the phone. Then on Saturday night before we left for dinner at -:--, we requested to have extra hotels delivered to our room and our trash removed. When we returned at --:--, neither request was fullfilled. I made another call to housekeeping and then finally things were taken care of. In my opinion, for the rates we were paying, we should have had nightly turn down service.\\nI did speak with a manager when we checked out and he said he would make it worth our while to return, however all we received was a letter of apology.\\nNeedless to say, we have no plans to return to this hotel. My husband and I stayed at the Four Seasons Boston in February of ---- and had a wonderful stay. The service there was impeccable as is service at all the Four Seaons that I have stayed at. If you are willing to pay Ritz Carlton prices, then I would recommend staying at the Four Seasons instead!</td>\n",
       "      <td>7</td>\n",
       "    </tr>\n",
       "  </tbody>\n",
       "</table>\n",
       "</div>"
      ],
      "text/plain": [
       "                                                                                                                                                                                                                                                                                                                                                                                                                                                                                                                                                                                                                                                                                                                                                                                                                                                                                                                                                                                                                                                                                                                                                                                                                                                                                                                                                                                                                                                                                                                                                                                                                                                                        Description  \\\n",
       "0  The room was kind of clean but had a VERY strong smell of dogs. Generally below average but ok for a overnight stay if you're not too fussy. Would consider staying again if the price was right. Breakfast was free and just about better than nothing.                                                                                                                                                                                                                                                                                                                                                                                                                                                                                                                                                                                                                                                                                                                                                                                                                                                                                                                                                                                                                                                                                                                                                                                                                                                                                                                                                                                                                           \n",
       "1  I stayed at the Crown Plaza April -- - April --, ----. The staff was friendly and attentive. The elevators are tiny (about -' by -'). The food in the restaurant was delicious but priced a little on the high side. Of course this is Washington DC. There is no pool and little for children to do. My room on the fifth floor had two comfortable beds and plenty of space for one person. The TV is a little small by todays standards with a limited number of channels. There was a small bit of mold in the bathtub area that could have been removed with a little bleach. It appeared the carpets were not vacummed every day. I reported a light bulb was burned out. It was never replaced. Ice machines are on the odd numbered floors, but the one on my floor did not work. I encountered some staff in the elevator one evening and I mentioned the ice machine to them. Severel hours later a maid appeared at my door with ice and two mints. I'm not sure how they knew what room I was in. That was a little unnerving! I would stay here again for business, but would not come here on vacation.                                                                                                                                                                                                                                                                                                                                                                                                                                                                                                                                                              \n",
       "2  I booked this hotel through Hotwire at the lowest price I could find. When we got there the front desk manager gave us a \"\"\"\"\"\"\"\"\"\"\"\"\"\"\"\"\"\"\"\"\"\"\"\"\"\"\"\"\"\"\"\"smoking\"\"\"\"\"\"\"\"\"\"\"\"\"\"\"\"\"\"\"\"\"\"\"\"\"\"\"\"\"\"\"\" room. I argued that I have a little baby and I would not have booked the room had I known it was smoking. The manager would not hear anything further and told me that Hotwire books the cheapest rooms that are available. So, from the get go I was very unhappy.\\nAfter a great deal of persuasion and discussion, I got a nonsmoking room. Thereafter the room had the most minimal amenities. Besides the great location (near Dupont Circle), there was not much to say about this overpriced hotel. The room was small and in OK condition. The bathroom was small with a tub. The bathroom amenities were also minimal. We did not have a fridge or a microwave and had to again rent a fridge from the staff (to keep baby things).\\nThe parking costs $-- per day so it is best not to drive here. Also the breakfast is not included. The lobby is very small and feels old. The only thing available is coffee in the lobby which is decent.\\nAll in all, poor service, minimal amenities, small rooms, small bathrooms, no view, but great location. Some distance from the metro (either McPherson station or Dupont station). Try to look for better if available.                                                                                                                                                                                                                                                                                                 \n",
       "3  Stayed here with husband and sons on the way to an Alaska Cruise. We all loved the hotel, great experience. Ask for a room on the North tower, facing north west for the best views. We had a high floor, with a stunning view of the needle, the city, and even the cruise ships! We ordered room service for dinner so we could enjoy the perfect views. Room service dinners were delicious, too! You are in a perfect spot to walk everywhere, so enjoy the city. Almost forgot- Heavenly beds were heavenly, too!                                                                                                                                                                                                                                                                                                                                                                                                                                                                                                                                                                                                                                                                                                                                                                                                                                                                                                                                                                                                                                                                                                                                                             \n",
       "4  My girlfriends and I stayed here to celebrate our --th birthdays. We had planned this weekend getaway back in February, so we were all looking forward to it. There was - of us so we rented - ajoining rooms at the rate of $----night-room. We stayed - nights so with taxes and parking charges we spent in total over $----. All of us expected a certain level of service since we were staying at the Ritz, however this hotel certainly didn't meet what we would consider Ritz standards.\\nThe rooms were fine. They were clean with well appointed bathrooms, but nothing to get excited about. The service however was awful. The first night we were there, I made -- calls to the bell man, before someone in hotel communications picked up the phone. Then on Saturday night before we left for dinner at -:--, we requested to have extra hotels delivered to our room and our trash removed. When we returned at --:--, neither request was fullfilled. I made another call to housekeeping and then finally things were taken care of. In my opinion, for the rates we were paying, we should have had nightly turn down service.\\nI did speak with a manager when we checked out and he said he would make it worth our while to return, however all we received was a letter of apology.\\nNeedless to say, we have no plans to return to this hotel. My husband and I stayed at the Four Seasons Boston in February of ---- and had a wonderful stay. The service there was impeccable as is service at all the Four Seaons that I have stayed at. If you are willing to pay Ritz Carlton prices, then I would recommend staying at the Four Seasons instead!   \n",
       "\n",
       "   upper  \n",
       "0  1      \n",
       "1  8      \n",
       "2  9      \n",
       "3  0      \n",
       "4  7      "
      ]
     },
     "execution_count": 46,
     "metadata": {},
     "output_type": "execute_result"
    }
   ],
   "source": [
    "train['upper'] = train['Description'].apply(lambda x: len([x for x in x.split() if x.isupper()]))\n",
    "train[['Description','upper']].head()"
   ]
  },
  {
   "cell_type": "markdown",
   "metadata": {},
   "source": [
    "# Tagert Class Identification"
   ]
  },
  {
   "cell_type": "code",
   "execution_count": 47,
   "metadata": {},
   "outputs": [],
   "source": [
    "cass = train[\"Is_Response\"]"
   ]
  },
  {
   "cell_type": "code",
   "execution_count": 48,
   "metadata": {},
   "outputs": [],
   "source": [
    "unique_class=list(set(cass))"
   ]
  },
  {
   "cell_type": "markdown",
   "metadata": {},
   "source": [
    "# Pre-processing"
   ]
  },
  {
   "cell_type": "markdown",
   "metadata": {},
   "source": [
    "Outlier Handling"
   ]
  },
  {
   "cell_type": "code",
   "execution_count": 49,
   "metadata": {},
   "outputs": [],
   "source": [
    "def find_outliers_tukey(x):\n",
    "    q1 = x.quantile(.25)\n",
    "    q3 = x.quantile(.75)\n",
    "    iqr = q3 - q1\n",
    "    floor = q1 - 1.5*iqr\n",
    "    ceiling = q3 + 1.5*iqr\n",
    "    outlier_indices = list(x.index[(x < floor) | (x > ceiling)])\n",
    "    outlier_values = list(x[outlier_indices])\n",
    "    return outlier_indices, outlier_values"
   ]
  },
  {
   "cell_type": "code",
   "execution_count": 50,
   "metadata": {},
   "outputs": [
    {
     "name": "stdout",
     "output_type": "stream",
     "text": [
      "Outliers for call_duration_secs\n",
      "[128.33333333 128.33333333 128.33333333 ... 632.         670.66666667\n",
      " 763.        ]\n"
     ]
    }
   ],
   "source": [
    "print(\"Outliers for call_duration_secs\")\n",
    "Year_indices, Year_values = find_outliers_tukey(train['call_duration_secs'])\n",
    "print(np.sort(Year_values))"
   ]
  },
  {
   "cell_type": "markdown",
   "metadata": {},
   "source": [
    "Lower case"
   ]
  },
  {
   "cell_type": "code",
   "execution_count": 51,
   "metadata": {},
   "outputs": [
    {
     "data": {
      "text/plain": [
       "0    the room was kind of clean but had a very strong smell of dogs. generally below average but ok for a overnight stay if you're not too fussy. would consider staying again if the price was right. breakfast was free and just about better than nothing.                                                                                                                                                                                                                                                                                                                                                                                                                                                                                                                                                                                                                                                                                                                                                                                                                                                                                                                                                                                                                                                                                                                                                                                                                                                                                                                                                                                                                     \n",
       "1    i stayed at the crown plaza april -- - april --, ----. the staff was friendly and attentive. the elevators are tiny (about -' by -'). the food in the restaurant was delicious but priced a little on the high side. of course this is washington dc. there is no pool and little for children to do. my room on the fifth floor had two comfortable beds and plenty of space for one person. the tv is a little small by todays standards with a limited number of channels. there was a small bit of mold in the bathtub area that could have been removed with a little bleach. it appeared the carpets were not vacummed every day. i reported a light bulb was burned out. it was never replaced. ice machines are on the odd numbered floors, but the one on my floor did not work. i encountered some staff in the elevator one evening and i mentioned the ice machine to them. severel hours later a maid appeared at my door with ice and two mints. i'm not sure how they knew what room i was in. that was a little unnerving! i would stay here again for business, but would not come here on vacation.                                                                                                                                                                                                                                                                                                                                                                                                                                                                                                                                                        \n",
       "2    i booked this hotel through hotwire at the lowest price i could find. when we got there the front desk manager gave us a \"\"\"\"\"\"\"\"\"\"\"\"\"\"\"\"\"\"\"\"\"\"\"\"\"\"\"\"\"\"\"\"smoking\"\"\"\"\"\"\"\"\"\"\"\"\"\"\"\"\"\"\"\"\"\"\"\"\"\"\"\"\"\"\"\" room. i argued that i have a little baby and i would not have booked the room had i known it was smoking. the manager would not hear anything further and told me that hotwire books the cheapest rooms that are available. so, from the get go i was very unhappy. after a great deal of persuasion and discussion, i got a nonsmoking room. thereafter the room had the most minimal amenities. besides the great location (near dupont circle), there was not much to say about this overpriced hotel. the room was small and in ok condition. the bathroom was small with a tub. the bathroom amenities were also minimal. we did not have a fridge or a microwave and had to again rent a fridge from the staff (to keep baby things). the parking costs $-- per day so it is best not to drive here. also the breakfast is not included. the lobby is very small and feels old. the only thing available is coffee in the lobby which is decent. all in all, poor service, minimal amenities, small rooms, small bathrooms, no view, but great location. some distance from the metro (either mcpherson station or dupont station). try to look for better if available.                                                                                                                                                                                                                                                                                              \n",
       "3    stayed here with husband and sons on the way to an alaska cruise. we all loved the hotel, great experience. ask for a room on the north tower, facing north west for the best views. we had a high floor, with a stunning view of the needle, the city, and even the cruise ships! we ordered room service for dinner so we could enjoy the perfect views. room service dinners were delicious, too! you are in a perfect spot to walk everywhere, so enjoy the city. almost forgot- heavenly beds were heavenly, too!                                                                                                                                                                                                                                                                                                                                                                                                                                                                                                                                                                                                                                                                                                                                                                                                                                                                                                                                                                                                                                                                                                                                                       \n",
       "4    my girlfriends and i stayed here to celebrate our --th birthdays. we had planned this weekend getaway back in february, so we were all looking forward to it. there was - of us so we rented - ajoining rooms at the rate of $----night-room. we stayed - nights so with taxes and parking charges we spent in total over $----. all of us expected a certain level of service since we were staying at the ritz, however this hotel certainly didn't meet what we would consider ritz standards. the rooms were fine. they were clean with well appointed bathrooms, but nothing to get excited about. the service however was awful. the first night we were there, i made -- calls to the bell man, before someone in hotel communications picked up the phone. then on saturday night before we left for dinner at -:--, we requested to have extra hotels delivered to our room and our trash removed. when we returned at --:--, neither request was fullfilled. i made another call to housekeeping and then finally things were taken care of. in my opinion, for the rates we were paying, we should have had nightly turn down service. i did speak with a manager when we checked out and he said he would make it worth our while to return, however all we received was a letter of apology. needless to say, we have no plans to return to this hotel. my husband and i stayed at the four seasons boston in february of ---- and had a wonderful stay. the service there was impeccable as is service at all the four seaons that i have stayed at. if you are willing to pay ritz carlton prices, then i would recommend staying at the four seasons instead!\n",
       "Name: Description, dtype: object"
      ]
     },
     "execution_count": 51,
     "metadata": {},
     "output_type": "execute_result"
    }
   ],
   "source": [
    "train['Description'] = train['Description'].apply(lambda x: \" \".join(x.lower() for x in x.split()))\n",
    "train['Description'].head()"
   ]
  },
  {
   "cell_type": "markdown",
   "metadata": {},
   "source": [
    "Removing Punctuation"
   ]
  },
  {
   "cell_type": "code",
   "execution_count": 52,
   "metadata": {},
   "outputs": [
    {
     "data": {
      "text/plain": [
       "0    the room was kind of clean but had a very strong smell of dogs generally below average but ok for a overnight stay if youre not too fussy would consider staying again if the price was right breakfast was free and just about better than nothing                                                                                                                                                                                                                                                                                                                                                                                                                                                                                                                                                                                                                                                                                                                                                                                                                                                                                                                                                                                                                                                                                                                                                                                                                                                                                                                                                            \n",
       "1    i stayed at the crown plaza april   april   the staff was friendly and attentive the elevators are tiny about  by  the food in the restaurant was delicious but priced a little on the high side of course this is washington dc there is no pool and little for children to do my room on the fifth floor had two comfortable beds and plenty of space for one person the tv is a little small by todays standards with a limited number of channels there was a small bit of mold in the bathtub area that could have been removed with a little bleach it appeared the carpets were not vacummed every day i reported a light bulb was burned out it was never replaced ice machines are on the odd numbered floors but the one on my floor did not work i encountered some staff in the elevator one evening and i mentioned the ice machine to them severel hours later a maid appeared at my door with ice and two mints im not sure how they knew what room i was in that was a little unnerving i would stay here again for business but would not come here on vacation                                                                                                                                                                                                                                                                                                                                                                                                                                                                                                                               \n",
       "2    i booked this hotel through hotwire at the lowest price i could find when we got there the front desk manager gave us a smoking room i argued that i have a little baby and i would not have booked the room had i known it was smoking the manager would not hear anything further and told me that hotwire books the cheapest rooms that are available so from the get go i was very unhappy after a great deal of persuasion and discussion i got a nonsmoking room thereafter the room had the most minimal amenities besides the great location near dupont circle there was not much to say about this overpriced hotel the room was small and in ok condition the bathroom was small with a tub the bathroom amenities were also minimal we did not have a fridge or a microwave and had to again rent a fridge from the staff to keep baby things the parking costs  per day so it is best not to drive here also the breakfast is not included the lobby is very small and feels old the only thing available is coffee in the lobby which is decent all in all poor service minimal amenities small rooms small bathrooms no view but great location some distance from the metro either mcpherson station or dupont station try to look for better if available                                                                                                                                                                                                                                                                                                                                     \n",
       "3    stayed here with husband and sons on the way to an alaska cruise we all loved the hotel great experience ask for a room on the north tower facing north west for the best views we had a high floor with a stunning view of the needle the city and even the cruise ships we ordered room service for dinner so we could enjoy the perfect views room service dinners were delicious too you are in a perfect spot to walk everywhere so enjoy the city almost forgot heavenly beds were heavenly too                                                                                                                                                                                                                                                                                                                                                                                                                                                                                                                                                                                                                                                                                                                                                                                                                                                                                                                                                                                                                                                                                                          \n",
       "4    my girlfriends and i stayed here to celebrate our th birthdays we had planned this weekend getaway back in february so we were all looking forward to it there was  of us so we rented  ajoining rooms at the rate of nightroom we stayed  nights so with taxes and parking charges we spent in total over  all of us expected a certain level of service since we were staying at the ritz however this hotel certainly didnt meet what we would consider ritz standards the rooms were fine they were clean with well appointed bathrooms but nothing to get excited about the service however was awful the first night we were there i made  calls to the bell man before someone in hotel communications picked up the phone then on saturday night before we left for dinner at  we requested to have extra hotels delivered to our room and our trash removed when we returned at  neither request was fullfilled i made another call to housekeeping and then finally things were taken care of in my opinion for the rates we were paying we should have had nightly turn down service i did speak with a manager when we checked out and he said he would make it worth our while to return however all we received was a letter of apology needless to say we have no plans to return to this hotel my husband and i stayed at the four seasons boston in february of  and had a wonderful stay the service there was impeccable as is service at all the four seaons that i have stayed at if you are willing to pay ritz carlton prices then i would recommend staying at the four seasons instead\n",
       "Name: Description, dtype: object"
      ]
     },
     "execution_count": 52,
     "metadata": {},
     "output_type": "execute_result"
    }
   ],
   "source": [
    "train['Description'] = train['Description'].str.replace('[^\\w\\s]','')\n",
    "train['Description'].head()"
   ]
  },
  {
   "cell_type": "markdown",
   "metadata": {},
   "source": [
    "Removal of Stop Words"
   ]
  },
  {
   "cell_type": "code",
   "execution_count": 53,
   "metadata": {},
   "outputs": [
    {
     "data": {
      "text/plain": [
       "0    room kind clean strong smell dogs generally average ok overnight stay youre fussy would consider staying price right breakfast free better nothing                                                                                                                                                                                                                                                                                                                                                                                                                                                                                                                                                                                                                                                                                                                                                                                                                                                        \n",
       "1    stayed crown plaza april april staff friendly attentive elevators tiny food restaurant delicious priced little high side course washington dc pool little children room fifth floor two comfortable beds plenty space one person tv little small todays standards limited number channels small bit mold bathtub area could removed little bleach appeared carpets vacummed every day reported light bulb burned never replaced ice machines odd numbered floors one floor work encountered staff elevator one evening mentioned ice machine severel hours later maid appeared door ice two mints im sure knew room little unnerving would stay business would come vacation                                                                                                                                                                                                                                                                                                                              \n",
       "2    booked hotel hotwire lowest price could find got front desk manager gave us smoking room argued little baby would booked room known smoking manager would hear anything told hotwire books cheapest rooms available get go unhappy great deal persuasion discussion got nonsmoking room thereafter room minimal amenities besides great location near dupont circle much say overpriced hotel room small ok condition bathroom small tub bathroom amenities also minimal fridge microwave rent fridge staff keep baby things parking costs per day best drive also breakfast included lobby small feels old thing available coffee lobby decent poor service minimal amenities small rooms small bathrooms view great location distance metro either mcpherson station dupont station try look better available                                                                                                                                                                                           \n",
       "3    stayed husband sons way alaska cruise loved hotel great experience ask room north tower facing north west best views high floor stunning view needle city even cruise ships ordered room service dinner could enjoy perfect views room service dinners delicious perfect spot walk everywhere enjoy city almost forgot heavenly beds heavenly                                                                                                                                                                                                                                                                                                                                                                                                                                                                                                                                                                                                                                                             \n",
       "4    girlfriends stayed celebrate th birthdays planned weekend getaway back february looking forward us rented ajoining rooms rate nightroom stayed nights taxes parking charges spent total us expected certain level service since staying ritz however hotel certainly didnt meet would consider ritz standards rooms fine clean well appointed bathrooms nothing get excited service however awful first night made calls bell man someone hotel communications picked phone saturday night left dinner requested extra hotels delivered room trash removed returned neither request fullfilled made another call housekeeping finally things taken care opinion rates paying nightly turn service speak manager checked said would make worth return however received letter apology needless say plans return hotel husband stayed four seasons boston february wonderful stay service impeccable service four seaons stayed willing pay ritz carlton prices would recommend staying four seasons instead\n",
       "Name: Description, dtype: object"
      ]
     },
     "execution_count": 53,
     "metadata": {},
     "output_type": "execute_result"
    }
   ],
   "source": [
    "stop = stopwords.words('english')\n",
    "train['Description'] = train['Description'].apply(lambda x: \" \".join(x for x in x.split() if x not in stop))\n",
    "train['Description'].head()"
   ]
  },
  {
   "cell_type": "markdown",
   "metadata": {},
   "source": [
    "Common word removal"
   ]
  },
  {
   "cell_type": "code",
   "execution_count": 54,
   "metadata": {},
   "outputs": [],
   "source": [
    "freq = pd.Series(' '.join(train['Description']).split()).value_counts()[:10]"
   ]
  },
  {
   "cell_type": "code",
   "execution_count": 55,
   "metadata": {},
   "outputs": [
    {
     "data": {
      "text/plain": [
       "hotel       70768\n",
       "room        61407\n",
       "stay        26341\n",
       "great       25435\n",
       "staff       24287\n",
       "would       21961\n",
       "rooms       20230\n",
       "good        18819\n",
       "one         18683\n",
       "location    18361\n",
       "dtype: int64"
      ]
     },
     "execution_count": 55,
     "metadata": {},
     "output_type": "execute_result"
    }
   ],
   "source": [
    "freq"
   ]
  },
  {
   "cell_type": "code",
   "execution_count": 56,
   "metadata": {},
   "outputs": [
    {
     "data": {
      "text/plain": [
       "0    kind clean strong smell dogs generally average ok overnight youre fussy consider staying price right breakfast free better nothing                                                                                                                                                                                                                                                                                                                                                                                                                                                                                                                                                                                                                                                                                                                                                                                                              \n",
       "1    stayed crown plaza april april friendly attentive elevators tiny food restaurant delicious priced little high side course washington dc pool little children fifth floor two comfortable beds plenty space person tv little small todays standards limited number channels small bit mold bathtub area could removed little bleach appeared carpets vacummed every day reported light bulb burned never replaced ice machines odd numbered floors floor work encountered elevator evening mentioned ice machine severel hours later maid appeared door ice two mints im sure knew little unnerving business come vacation                                                                                                                                                                                                                                                                                                                       \n",
       "2    booked hotwire lowest price could find got front desk manager gave us smoking argued little baby booked known smoking manager hear anything told hotwire books cheapest available get go unhappy deal persuasion discussion got nonsmoking thereafter minimal amenities besides near dupont circle much say overpriced small ok condition bathroom small tub bathroom amenities also minimal fridge microwave rent fridge keep baby things parking costs per day best drive also breakfast included lobby small feels old thing available coffee lobby decent poor service minimal amenities small small bathrooms view distance metro either mcpherson station dupont station try look better available                                                                                                                                                                                                                                        \n",
       "3    stayed husband sons way alaska cruise loved experience ask north tower facing north west best views high floor stunning view needle city even cruise ships ordered service dinner could enjoy perfect views service dinners delicious perfect spot walk everywhere enjoy city almost forgot heavenly beds heavenly                                                                                                                                                                                                                                                                                                                                                                                                                                                                                                                                                                                                                              \n",
       "4    girlfriends stayed celebrate th birthdays planned weekend getaway back february looking forward us rented ajoining rate nightroom stayed nights taxes parking charges spent total us expected certain level service since staying ritz however certainly didnt meet consider ritz standards fine clean well appointed bathrooms nothing get excited service however awful first night made calls bell man someone communications picked phone saturday night left dinner requested extra hotels delivered trash removed returned neither request fullfilled made another call housekeeping finally things taken care opinion rates paying nightly turn service speak manager checked said make worth return however received letter apology needless say plans return husband stayed four seasons boston february wonderful service impeccable service four seaons stayed willing pay ritz carlton prices recommend staying four seasons instead\n",
       "Name: Description, dtype: object"
      ]
     },
     "execution_count": 56,
     "metadata": {},
     "output_type": "execute_result"
    }
   ],
   "source": [
    "freq = list(freq.index)\n",
    "train['Description'] = train['Description'].apply(lambda x: \" \".join(x for x in x.split() if x not in freq))\n",
    "train['Description'].head()"
   ]
  },
  {
   "cell_type": "markdown",
   "metadata": {},
   "source": [
    "Rare words removal"
   ]
  },
  {
   "cell_type": "code",
   "execution_count": 57,
   "metadata": {},
   "outputs": [
    {
     "data": {
      "text/plain": [
       "tarp              1\n",
       "freshtasted       1\n",
       "allendale         1\n",
       "fleshtones        1\n",
       "beas              1\n",
       "unapolgetic       1\n",
       "premadethey       1\n",
       "breakfastim       1\n",
       "balconycovered    1\n",
       "dianne            1\n",
       "dtype: int64"
      ]
     },
     "execution_count": 57,
     "metadata": {},
     "output_type": "execute_result"
    }
   ],
   "source": [
    "freq = pd.Series(' '.join(train['Description']).split()).value_counts()[-10:]\n",
    "freq"
   ]
  },
  {
   "cell_type": "code",
   "execution_count": 58,
   "metadata": {},
   "outputs": [
    {
     "data": {
      "text/plain": [
       "0    kind clean strong smell dogs generally average ok overnight youre fussy consider staying price right breakfast free better nothing                                                                                                                                                                                                                                                                                                                                                                                                                                                                                                                                                                                                                                                                                                                                                                                                              \n",
       "1    stayed crown plaza april april friendly attentive elevators tiny food restaurant delicious priced little high side course washington dc pool little children fifth floor two comfortable beds plenty space person tv little small todays standards limited number channels small bit mold bathtub area could removed little bleach appeared carpets vacummed every day reported light bulb burned never replaced ice machines odd numbered floors floor work encountered elevator evening mentioned ice machine severel hours later maid appeared door ice two mints im sure knew little unnerving business come vacation                                                                                                                                                                                                                                                                                                                       \n",
       "2    booked hotwire lowest price could find got front desk manager gave us smoking argued little baby booked known smoking manager hear anything told hotwire books cheapest available get go unhappy deal persuasion discussion got nonsmoking thereafter minimal amenities besides near dupont circle much say overpriced small ok condition bathroom small tub bathroom amenities also minimal fridge microwave rent fridge keep baby things parking costs per day best drive also breakfast included lobby small feels old thing available coffee lobby decent poor service minimal amenities small small bathrooms view distance metro either mcpherson station dupont station try look better available                                                                                                                                                                                                                                        \n",
       "3    stayed husband sons way alaska cruise loved experience ask north tower facing north west best views high floor stunning view needle city even cruise ships ordered service dinner could enjoy perfect views service dinners delicious perfect spot walk everywhere enjoy city almost forgot heavenly beds heavenly                                                                                                                                                                                                                                                                                                                                                                                                                                                                                                                                                                                                                              \n",
       "4    girlfriends stayed celebrate th birthdays planned weekend getaway back february looking forward us rented ajoining rate nightroom stayed nights taxes parking charges spent total us expected certain level service since staying ritz however certainly didnt meet consider ritz standards fine clean well appointed bathrooms nothing get excited service however awful first night made calls bell man someone communications picked phone saturday night left dinner requested extra hotels delivered trash removed returned neither request fullfilled made another call housekeeping finally things taken care opinion rates paying nightly turn service speak manager checked said make worth return however received letter apology needless say plans return husband stayed four seasons boston february wonderful service impeccable service four seaons stayed willing pay ritz carlton prices recommend staying four seasons instead\n",
       "Name: Description, dtype: object"
      ]
     },
     "execution_count": 58,
     "metadata": {},
     "output_type": "execute_result"
    }
   ],
   "source": [
    "freq = list(freq.index)\n",
    "train['Description'] = train['Description'].apply(lambda x: \" \".join(x for x in x.split() if x not in freq))\n",
    "train['Description'].head()"
   ]
  },
  {
   "cell_type": "code",
   "execution_count": 59,
   "metadata": {},
   "outputs": [],
   "source": [
    "train.to_excel('EDA.xlsx')"
   ]
  },
  {
   "cell_type": "markdown",
   "metadata": {
    "heading_collapsed": true
   },
   "source": [
    "# Generating the Sentiment of the Call"
   ]
  },
  {
   "cell_type": "code",
   "execution_count": 60,
   "metadata": {
    "hidden": true
   },
   "outputs": [],
   "source": [
    "sample_reviews = train[['Description','Is_Response','call_duration_secs']].sample(38932)"
   ]
  },
  {
   "cell_type": "code",
   "execution_count": 61,
   "metadata": {
    "hidden": true
   },
   "outputs": [
    {
     "data": {
      "text/html": [
       "<div>\n",
       "<style scoped>\n",
       "    .dataframe tbody tr th:only-of-type {\n",
       "        vertical-align: middle;\n",
       "    }\n",
       "\n",
       "    .dataframe tbody tr th {\n",
       "        vertical-align: top;\n",
       "    }\n",
       "\n",
       "    .dataframe thead th {\n",
       "        text-align: right;\n",
       "    }\n",
       "</style>\n",
       "<table border=\"1\" class=\"dataframe\">\n",
       "  <thead>\n",
       "    <tr style=\"text-align: right;\">\n",
       "      <th></th>\n",
       "      <th>Description</th>\n",
       "      <th>Is_Response</th>\n",
       "      <th>call_duration_secs</th>\n",
       "      <th>polarity</th>\n",
       "    </tr>\n",
       "  </thead>\n",
       "  <tbody>\n",
       "    <tr>\n",
       "      <th>2155</th>\n",
       "      <td>despite staying doubledouble view hudson river second view empire state building th floor higher simply unbeatable lot positives year ago immediately ready upon arrival checkin went smoothly bathroom clean notice water temperature fluctuation shower free wifi internet available lobby tick tock diner friendly food delicious addition new foursquare special gets free continental breakfast diner day claimed special pleasant surprise considering excellent probably drawback friendly reception find foursquare special app idea gym filling customer satisfaction questionnaire already returned home</td>\n",
       "      <td>Room and Food</td>\n",
       "      <td>64.666667</td>\n",
       "      <td>0.394877</td>\n",
       "    </tr>\n",
       "    <tr>\n",
       "      <th>36858</th>\n",
       "      <td>first conrad impressed used hilton points wonderful weekend getaway perfect shopping michigan avenue comfortable enough space two people bathroom spacious wellstocked little touches mini bar surprisingly empty use refrigerator store many bottles water give offers customized pillows use couldnt get bose apple system work wires loose require apple nano gym didnt get free breakfast complimentary coffee blueberry muffins helpful never pushy</td>\n",
       "      <td>Appriciation</td>\n",
       "      <td>43.666667</td>\n",
       "      <td>0.352737</td>\n",
       "    </tr>\n",
       "    <tr>\n",
       "      <th>33604</th>\n",
       "      <td>beautiful view pennsylvania avenue large clean bed comfortable usually case marriott concierge lounge little lacking cleanliness however food marginal raj concierge desk fabulously helpful walk major sights easily sure arrange tour white house advance congressman two blocks away walls little thin however may hear neighbors next door occasion overall certainly</td>\n",
       "      <td>Room and Food</td>\n",
       "      <td>35.000000</td>\n",
       "      <td>0.132183</td>\n",
       "    </tr>\n",
       "    <tr>\n",
       "      <th>36751</th>\n",
       "      <td>prepayed hotelscom credit card daughter doesnt credit card could go friend visit chicago arrived late tired person charge told payed wanted needed pay tired payed cash asked receipt told get next morning next morning conveniently printer working hurry leave next week got charge card clearly took advantage naive girls tried get hotelscom ask refund called hundred times since could never talk manager nothing could done top pictures took horrible hotellinens dirty sleep top comforter tired could</td>\n",
       "      <td>Criticism</td>\n",
       "      <td>57.333333</td>\n",
       "      <td>-0.176923</td>\n",
       "    </tr>\n",
       "    <tr>\n",
       "      <th>23782</th>\n",
       "      <td>ive enjoyed fourth bryant park five nights new york palace business excellent standards week gold marble oversized floral arrangements extremely attentive begin feel bit much always pleasure check bp favourite city bryant park size well furnished understated way comfortable beds best bed linen bathrooms gorgeous superb fifth ave shopping museums easy access soho eastwest village etc ive always found service excellent attentive without cloying really sells views front building especially tenth floor breathtaking ny standards excellent value ive stayed junior suite wonderful recently queen size view corner tranquillity weekend tree canopy park surrounded everchanging skyline extraordinary city reminded love ny bryant park much ill staying</td>\n",
       "      <td>Appriciation</td>\n",
       "      <td>76.333333</td>\n",
       "      <td>0.486501</td>\n",
       "    </tr>\n",
       "  </tbody>\n",
       "</table>\n",
       "</div>"
      ],
      "text/plain": [
       "                                                                                                                                                                                                                                                                                                                                                                                                                                                                                                                                                                                                                                                                                                                                                                      Description    Is_Response  call_duration_secs  polarity\n",
       "2155   despite staying doubledouble view hudson river second view empire state building th floor higher simply unbeatable lot positives year ago immediately ready upon arrival checkin went smoothly bathroom clean notice water temperature fluctuation shower free wifi internet available lobby tick tock diner friendly food delicious addition new foursquare special gets free continental breakfast diner day claimed special pleasant surprise considering excellent probably drawback friendly reception find foursquare special app idea gym filling customer satisfaction questionnaire already returned home                                                                                                                                                          Room and Food  64.666667           0.394877\n",
       "36858  first conrad impressed used hilton points wonderful weekend getaway perfect shopping michigan avenue comfortable enough space two people bathroom spacious wellstocked little touches mini bar surprisingly empty use refrigerator store many bottles water give offers customized pillows use couldnt get bose apple system work wires loose require apple nano gym didnt get free breakfast complimentary coffee blueberry muffins helpful never pushy                                                                                                                                                                                                                                                                                                                    Appriciation   43.666667           0.352737\n",
       "33604  beautiful view pennsylvania avenue large clean bed comfortable usually case marriott concierge lounge little lacking cleanliness however food marginal raj concierge desk fabulously helpful walk major sights easily sure arrange tour white house advance congressman two blocks away walls little thin however may hear neighbors next door occasion overall certainly                                                                                                                                                                                                                                                                                                                                                                                                   Room and Food  35.000000           0.132183\n",
       "36751  prepayed hotelscom credit card daughter doesnt credit card could go friend visit chicago arrived late tired person charge told payed wanted needed pay tired payed cash asked receipt told get next morning next morning conveniently printer working hurry leave next week got charge card clearly took advantage naive girls tried get hotelscom ask refund called hundred times since could never talk manager nothing could done top pictures took horrible hotellinens dirty sleep top comforter tired could                                                                                                                                                                                                                                                           Criticism      57.333333          -0.176923\n",
       "23782  ive enjoyed fourth bryant park five nights new york palace business excellent standards week gold marble oversized floral arrangements extremely attentive begin feel bit much always pleasure check bp favourite city bryant park size well furnished understated way comfortable beds best bed linen bathrooms gorgeous superb fifth ave shopping museums easy access soho eastwest village etc ive always found service excellent attentive without cloying really sells views front building especially tenth floor breathtaking ny standards excellent value ive stayed junior suite wonderful recently queen size view corner tranquillity weekend tree canopy park surrounded everchanging skyline extraordinary city reminded love ny bryant park much ill staying  Appriciation   76.333333           0.486501"
      ]
     },
     "execution_count": 61,
     "metadata": {},
     "output_type": "execute_result"
    }
   ],
   "source": [
    "def detect_polarity(Description):\n",
    "    return TextBlob(Description).sentiment.polarity\n",
    "sample_reviews['polarity'] = sample_reviews.Description.apply(detect_polarity)\n",
    "sample_reviews.head()"
   ]
  },
  {
   "cell_type": "code",
   "execution_count": 62,
   "metadata": {
    "hidden": true
   },
   "outputs": [],
   "source": [
    "sample_reviews.to_csv('EDA_File.CSV')"
   ]
  },
  {
   "cell_type": "code",
   "execution_count": 63,
   "metadata": {
    "hidden": true
   },
   "outputs": [
    {
     "data": {
      "text/plain": [
       "Index(['User_ID', 'Description', 'Is_Response', 'word_count', 'call_duration_secs', 'char_count', 'avg_word', 'stopwords', 'hastags', 'numerics', 'upper'], dtype='object')"
      ]
     },
     "execution_count": 63,
     "metadata": {},
     "output_type": "execute_result"
    }
   ],
   "source": [
    "train.columns"
   ]
  },
  {
   "cell_type": "code",
   "execution_count": 64,
   "metadata": {
    "hidden": true
   },
   "outputs": [],
   "source": [
    "train.drop(columns=['word_count','avg_word','char_count','stopwords','hastags',\n",
    "                           'numerics','upper'],inplace=True)"
   ]
  },
  {
   "cell_type": "code",
   "execution_count": 65,
   "metadata": {
    "hidden": true
   },
   "outputs": [
    {
     "data": {
      "text/plain": [
       "Index(['User_ID', 'Description', 'Is_Response', 'call_duration_secs'], dtype='object')"
      ]
     },
     "execution_count": 65,
     "metadata": {},
     "output_type": "execute_result"
    }
   ],
   "source": [
    "train.columns"
   ]
  },
  {
   "cell_type": "code",
   "execution_count": 66,
   "metadata": {
    "hidden": true
   },
   "outputs": [],
   "source": [
    "data=train.copy()"
   ]
  },
  {
   "cell_type": "code",
   "execution_count": 67,
   "metadata": {
    "hidden": true
   },
   "outputs": [
    {
     "data": {
      "text/html": [
       "<div>\n",
       "<style scoped>\n",
       "    .dataframe tbody tr th:only-of-type {\n",
       "        vertical-align: middle;\n",
       "    }\n",
       "\n",
       "    .dataframe tbody tr th {\n",
       "        vertical-align: top;\n",
       "    }\n",
       "\n",
       "    .dataframe thead th {\n",
       "        text-align: right;\n",
       "    }\n",
       "</style>\n",
       "<table border=\"1\" class=\"dataframe\">\n",
       "  <thead>\n",
       "    <tr style=\"text-align: right;\">\n",
       "      <th></th>\n",
       "      <th>User_ID</th>\n",
       "      <th>Description</th>\n",
       "      <th>Is_Response</th>\n",
       "      <th>call_duration_secs</th>\n",
       "    </tr>\n",
       "  </thead>\n",
       "  <tbody>\n",
       "    <tr>\n",
       "      <th>0</th>\n",
       "      <td>id10326</td>\n",
       "      <td>kind clean strong smell dogs generally average ok overnight youre fussy consider staying price right breakfast free better nothing</td>\n",
       "      <td>Room and Food</td>\n",
       "      <td>15.333333</td>\n",
       "    </tr>\n",
       "    <tr>\n",
       "      <th>1</th>\n",
       "      <td>id10327</td>\n",
       "      <td>stayed crown plaza april april friendly attentive elevators tiny food restaurant delicious priced little high side course washington dc pool little children fifth floor two comfortable beds plenty space person tv little small todays standards limited number channels small bit mold bathtub area could removed little bleach appeared carpets vacummed every day reported light bulb burned never replaced ice machines odd numbered floors floor work encountered elevator evening mentioned ice machine severel hours later maid appeared door ice two mints im sure knew little unnerving business come vacation</td>\n",
       "      <td>Room and Food</td>\n",
       "      <td>69.333333</td>\n",
       "    </tr>\n",
       "    <tr>\n",
       "      <th>2</th>\n",
       "      <td>id10328</td>\n",
       "      <td>booked hotwire lowest price could find got front desk manager gave us smoking argued little baby booked known smoking manager hear anything told hotwire books cheapest available get go unhappy deal persuasion discussion got nonsmoking thereafter minimal amenities besides near dupont circle much say overpriced small ok condition bathroom small tub bathroom amenities also minimal fridge microwave rent fridge keep baby things parking costs per day best drive also breakfast included lobby small feels old thing available coffee lobby decent poor service minimal amenities small small bathrooms view distance metro either mcpherson station dupont station try look better available</td>\n",
       "      <td>Price</td>\n",
       "      <td>76.333333</td>\n",
       "    </tr>\n",
       "    <tr>\n",
       "      <th>3</th>\n",
       "      <td>id10329</td>\n",
       "      <td>stayed husband sons way alaska cruise loved experience ask north tower facing north west best views high floor stunning view needle city even cruise ships ordered service dinner could enjoy perfect views service dinners delicious perfect spot walk everywhere enjoy city almost forgot heavenly beds heavenly</td>\n",
       "      <td>Hotel Management</td>\n",
       "      <td>31.000000</td>\n",
       "    </tr>\n",
       "    <tr>\n",
       "      <th>4</th>\n",
       "      <td>id10330</td>\n",
       "      <td>girlfriends stayed celebrate th birthdays planned weekend getaway back february looking forward us rented ajoining rate nightroom stayed nights taxes parking charges spent total us expected certain level service since staying ritz however certainly didnt meet consider ritz standards fine clean well appointed bathrooms nothing get excited service however awful first night made calls bell man someone communications picked phone saturday night left dinner requested extra hotels delivered trash removed returned neither request fullfilled made another call housekeeping finally things taken care opinion rates paying nightly turn service speak manager checked said make worth return however received letter apology needless say plans return husband stayed four seasons boston february wonderful service impeccable service four seaons stayed willing pay ritz carlton prices recommend staying four seasons instead</td>\n",
       "      <td>service</td>\n",
       "      <td>98.000000</td>\n",
       "    </tr>\n",
       "  </tbody>\n",
       "</table>\n",
       "</div>"
      ],
      "text/plain": [
       "   User_ID                                                                                                                                                                                                                                                                                                                                                                                                                                                                                                                                                                                                                                                                                                                                                                                                                                                                                                                                       Description       Is_Response  call_duration_secs\n",
       "0  id10326  kind clean strong smell dogs generally average ok overnight youre fussy consider staying price right breakfast free better nothing                                                                                                                                                                                                                                                                                                                                                                                                                                                                                                                                                                                                                                                                                                                                                                                                                Room and Food     15.333333         \n",
       "1  id10327  stayed crown plaza april april friendly attentive elevators tiny food restaurant delicious priced little high side course washington dc pool little children fifth floor two comfortable beds plenty space person tv little small todays standards limited number channels small bit mold bathtub area could removed little bleach appeared carpets vacummed every day reported light bulb burned never replaced ice machines odd numbered floors floor work encountered elevator evening mentioned ice machine severel hours later maid appeared door ice two mints im sure knew little unnerving business come vacation                                                                                                                                                                                                                                                                                                                         Room and Food     69.333333         \n",
       "2  id10328  booked hotwire lowest price could find got front desk manager gave us smoking argued little baby booked known smoking manager hear anything told hotwire books cheapest available get go unhappy deal persuasion discussion got nonsmoking thereafter minimal amenities besides near dupont circle much say overpriced small ok condition bathroom small tub bathroom amenities also minimal fridge microwave rent fridge keep baby things parking costs per day best drive also breakfast included lobby small feels old thing available coffee lobby decent poor service minimal amenities small small bathrooms view distance metro either mcpherson station dupont station try look better available                                                                                                                                                                                                                                          Price             76.333333         \n",
       "3  id10329  stayed husband sons way alaska cruise loved experience ask north tower facing north west best views high floor stunning view needle city even cruise ships ordered service dinner could enjoy perfect views service dinners delicious perfect spot walk everywhere enjoy city almost forgot heavenly beds heavenly                                                                                                                                                                                                                                                                                                                                                                                                                                                                                                                                                                                                                                Hotel Management  31.000000         \n",
       "4  id10330  girlfriends stayed celebrate th birthdays planned weekend getaway back february looking forward us rented ajoining rate nightroom stayed nights taxes parking charges spent total us expected certain level service since staying ritz however certainly didnt meet consider ritz standards fine clean well appointed bathrooms nothing get excited service however awful first night made calls bell man someone communications picked phone saturday night left dinner requested extra hotels delivered trash removed returned neither request fullfilled made another call housekeeping finally things taken care opinion rates paying nightly turn service speak manager checked said make worth return however received letter apology needless say plans return husband stayed four seasons boston february wonderful service impeccable service four seaons stayed willing pay ritz carlton prices recommend staying four seasons instead  service           98.000000         "
      ]
     },
     "execution_count": 67,
     "metadata": {},
     "output_type": "execute_result"
    }
   ],
   "source": [
    "data.head()"
   ]
  },
  {
   "cell_type": "markdown",
   "metadata": {},
   "source": [
    "# Test Train Split"
   ]
  },
  {
   "cell_type": "code",
   "execution_count": 68,
   "metadata": {},
   "outputs": [
    {
     "data": {
      "text/plain": [
       "((31145, 4), (7787, 4))"
      ]
     },
     "execution_count": 68,
     "metadata": {},
     "output_type": "execute_result"
    }
   ],
   "source": [
    "# train test split\n",
    "train, test = train_test_split(data, test_size = 0.2, stratify = data['Is_Response'], random_state=21)\n",
    "\n",
    "# get the shape of train and test split.\n",
    "train.shape, test.shape"
   ]
  },
  {
   "cell_type": "markdown",
   "metadata": {},
   "source": [
    "# Vectorizing"
   ]
  },
  {
   "cell_type": "code",
   "execution_count": 69,
   "metadata": {},
   "outputs": [
    {
     "data": {
      "text/plain": [
       "TfidfVectorizer(analyzer='word', binary=False, decode_error='strict',\n",
       "                dtype=<class 'numpy.float64'>, encoding='utf-8',\n",
       "                input='content', lowercase=True, max_df=1.0, max_features=1000,\n",
       "                min_df=1, ngram_range=(1, 1), norm='l2', preprocessor=None,\n",
       "                smooth_idf=True,\n",
       "                stop_words=frozenset({'a', 'about', 'above', 'across', 'after',\n",
       "                                      'afterwards', 'again', 'against', 'all',\n",
       "                                      'almost', 'alone', 'along', 'already',\n",
       "                                      'also', 'although', 'always', 'am',\n",
       "                                      'among', 'amongst', 'amoungst', 'amount',\n",
       "                                      'an', 'and', 'another', 'any', 'anyhow',\n",
       "                                      'anyone', 'anything', 'anyway',\n",
       "                                      'anywhere', ...}),\n",
       "                strip_accents=None, sublinear_tf=False,\n",
       "                token_pattern='(?u)\\\\b\\\\w\\\\w+\\\\b', tokenizer=None, use_idf=True,\n",
       "                vocabulary=None)"
      ]
     },
     "execution_count": 69,
     "metadata": {},
     "output_type": "execute_result"
    }
   ],
   "source": [
    "# create a TF-IDF vectorizer object\n",
    "tfidf_vectorizer = TfidfVectorizer(lowercase= True, max_features=1000, stop_words=ENGLISH_STOP_WORDS)\n",
    "\n",
    "# fit the object with the training data tweets\n",
    "tfidf_vectorizer.fit(train.Description)"
   ]
  },
  {
   "cell_type": "code",
   "execution_count": 70,
   "metadata": {},
   "outputs": [],
   "source": [
    "train_idf = tfidf_vectorizer.transform(train.Description)\n",
    "test_idf  = tfidf_vectorizer.transform(test.Description)"
   ]
  },
  {
   "cell_type": "markdown",
   "metadata": {},
   "source": [
    "# Base Model Fitting"
   ]
  },
  {
   "cell_type": "code",
   "execution_count": 71,
   "metadata": {},
   "outputs": [
    {
     "data": {
      "text/plain": [
       "LogisticRegression(C=1.0, class_weight=None, dual=False, fit_intercept=True,\n",
       "                   intercept_scaling=1, l1_ratio=None, max_iter=100,\n",
       "                   multi_class='warn', n_jobs=None, penalty='l2',\n",
       "                   random_state=None, solver='warn', tol=0.0001, verbose=0,\n",
       "                   warm_start=False)"
      ]
     },
     "execution_count": 71,
     "metadata": {},
     "output_type": "execute_result"
    }
   ],
   "source": [
    "# create the object of LinearRegression Model\n",
    "model_LR = LogisticRegression()\n",
    "\n",
    "# fit the model with the training data\n",
    "model_LR.fit(train_idf, train.Is_Response)"
   ]
  },
  {
   "cell_type": "code",
   "execution_count": 72,
   "metadata": {},
   "outputs": [],
   "source": [
    "predict_train = model_LR.predict(train_idf)"
   ]
  },
  {
   "cell_type": "code",
   "execution_count": 73,
   "metadata": {},
   "outputs": [],
   "source": [
    "predict_test = model_LR.predict(test_idf)"
   ]
  },
  {
   "cell_type": "markdown",
   "metadata": {},
   "source": [
    "# Train Metrics"
   ]
  },
  {
   "cell_type": "code",
   "execution_count": 74,
   "metadata": {},
   "outputs": [
    {
     "name": "stdout",
     "output_type": "stream",
     "text": [
      "train_accuracy = 0.698, train_precision = 0.700, train_recall = 0.698, train_f1 = 0.698\n"
     ]
    }
   ],
   "source": [
    "def get_metrics(y_test, y_predicted):  \n",
    "    # true positives / (true positives+false positives)\n",
    "    precision = precision_score(y_test, y_predicted, pos_label=None,\n",
    "                                    average='weighted')             \n",
    "    # true positives / (true positives + false negatives)\n",
    "    recall = recall_score(y_test, y_predicted, pos_label=None,\n",
    "                              average='weighted')\n",
    "    \n",
    "    # harmonic mean of precision and recall\n",
    "    f1 = f1_score(y_test, y_predicted, pos_label=None, average='weighted')\n",
    "    \n",
    "    # true positives + true negatives/ total\n",
    "    accuracy = accuracy_score(y_test, y_predicted)\n",
    "    return accuracy, precision, recall, f1\n",
    "\n",
    "accuracy, precision, recall, f1 = get_metrics(train.Is_Response, predict_train,)\n",
    "print(\"train_accuracy = %.3f, train_precision = %.3f, train_recall = %.3f, train_f1 = %.3f\" % (accuracy, precision, recall, f1))"
   ]
  },
  {
   "cell_type": "markdown",
   "metadata": {},
   "source": [
    "Train Classification Report"
   ]
  },
  {
   "cell_type": "code",
   "execution_count": 75,
   "metadata": {},
   "outputs": [
    {
     "name": "stdout",
     "output_type": "stream",
     "text": [
      "                  precision    recall  f1-score   support\n",
      "\n",
      "    Appriciation       0.60      0.57      0.59      7085\n",
      "       Criticism       0.68      0.72      0.70      4605\n",
      "Hotel Management       0.57      0.60      0.59      8335\n",
      "           Price       0.91      0.91      0.91      4722\n",
      "   Room and Food       0.87      0.87      0.87      3725\n",
      "         service       0.77      0.68      0.72      2673\n",
      "\n",
      "        accuracy                           0.70     31145\n",
      "       macro avg       0.73      0.73      0.73     31145\n",
      "    weighted avg       0.70      0.70      0.70     31145\n",
      "\n"
     ]
    }
   ],
   "source": [
    "print(classification_report(train.Is_Response, predict_train))"
   ]
  },
  {
   "cell_type": "markdown",
   "metadata": {},
   "source": [
    "# Test Metrics"
   ]
  },
  {
   "cell_type": "code",
   "execution_count": 76,
   "metadata": {},
   "outputs": [
    {
     "name": "stdout",
     "output_type": "stream",
     "text": [
      "test_accuracy = 0.643, test_precision = 0.647, test_recall = 0.643, test_f1 = 0.644\n"
     ]
    }
   ],
   "source": [
    "def get_metrics(y_test, y_predicted):  \n",
    "    # true positives / (true positives+false positives)\n",
    "    precision = precision_score(y_test, y_predicted, pos_label=None,\n",
    "                                    average='weighted')             \n",
    "    # true positives / (true positives + false negatives)\n",
    "    recall = recall_score(y_test, y_predicted, pos_label=None,\n",
    "                              average='weighted')\n",
    "    \n",
    "    # harmonic mean of precision and recall\n",
    "    f1 = f1_score(y_test, y_predicted, pos_label=None, average='weighted')\n",
    "    \n",
    "    # true positives + true negatives/ total\n",
    "    accuracy = accuracy_score(y_test, y_predicted)\n",
    "    return accuracy, precision, recall, f1\n",
    "\n",
    "accuracy, precision, recall, f1 = get_metrics(test.Is_Response, predict_test)\n",
    "print(\"test_accuracy = %.3f, test_precision = %.3f, test_recall = %.3f, test_f1 = %.3f\" % (accuracy, precision, recall, f1))"
   ]
  },
  {
   "cell_type": "markdown",
   "metadata": {},
   "source": [
    "Test Classification Metrics"
   ]
  },
  {
   "cell_type": "code",
   "execution_count": 77,
   "metadata": {},
   "outputs": [
    {
     "name": "stdout",
     "output_type": "stream",
     "text": [
      "                  precision    recall  f1-score   support\n",
      "\n",
      "    Appriciation       0.52      0.49      0.51      1772\n",
      "       Criticism       0.62      0.67      0.64      1151\n",
      "Hotel Management       0.50      0.54      0.52      2084\n",
      "           Price       0.89      0.89      0.89      1181\n",
      "   Room and Food       0.88      0.84      0.86       931\n",
      "         service       0.72      0.62      0.67       668\n",
      "\n",
      "        accuracy                           0.64      7787\n",
      "       macro avg       0.69      0.67      0.68      7787\n",
      "    weighted avg       0.65      0.64      0.64      7787\n",
      "\n"
     ]
    }
   ],
   "source": [
    "print(classification_report(test.Is_Response, predict_test))"
   ]
  },
  {
   "cell_type": "markdown",
   "metadata": {},
   "source": [
    "Confusion Matrix"
   ]
  },
  {
   "cell_type": "code",
   "execution_count": 78,
   "metadata": {},
   "outputs": [],
   "source": [
    "def plot_confusion_matrix(cm, classes,\n",
    "                          normalize=False,\n",
    "                          title='Confusion matrix',\n",
    "                          cmap=plt.cm.winter):\n",
    "    if normalize:\n",
    "        cm = cm.astype('float') / cm.sum(axis=1)[:, np.newaxis]\n",
    "    plt.imshow(cm, interpolation='nearest', cmap=cmap)\n",
    "    plt.title(title, fontsize=30)\n",
    "    plt.colorbar()\n",
    "    tick_marks = np.arange(len(classes))\n",
    "    plt.xticks(tick_marks, classes, fontsize=8)\n",
    "    plt.yticks(tick_marks, classes, fontsize=10)\n",
    "    \n",
    "    fmt = '.2f' if normalize else 'd'\n",
    "    thresh = cm.max() / 2.\n",
    "\n",
    "    for i, j in itertools.product(range(cm.shape[0]), range(cm.shape[1])):\n",
    "        plt.text(j, i, format(cm[i, j], fmt), horizontalalignment=\"center\", \n",
    "                 color=\"white\" if cm[i, j] < thresh else \"black\", fontsize=10)\n",
    "    \n",
    "    plt.tight_layout()\n",
    "    plt.ylabel('True label', fontsize=10)\n",
    "    plt.xlabel('Predicted label', fontsize=10)\n",
    "\n",
    "    return plt"
   ]
  },
  {
   "cell_type": "code",
   "execution_count": 79,
   "metadata": {},
   "outputs": [
    {
     "data": {
      "image/png": "[encoded data removed]",
      "text/plain": [
       "<Figure size 720x720 with 2 Axes>"
      ]
     },
     "metadata": {
      "needs_background": "light"
     },
     "output_type": "display_data"
    },
    {
     "name": "stdout",
     "output_type": "stream",
     "text": [
      "[[ 877  102  725    0   32   36]\n",
      " [ 116  766  226    1    8   34]\n",
      " [ 618  249 1123    0   50   44]\n",
      " [  19   42   30 1051   19   20]\n",
      " [  21   27   37   42  780   24]\n",
      " [  25   51   94   85    1  412]]\n"
     ]
    }
   ],
   "source": [
    "cm = confusion_matrix(test.Is_Response, predict_test)\n",
    "fig = plt.figure(figsize=(10, 10))\n",
    "plot = plot_confusion_matrix(cm, classes=['Room and Food', 'Hotel Management', 'Appriciation', 'Criticism','service', 'Price'],\n",
    "                             normalize=False, title='Confusion matrix')\n",
    "plt.show()\n",
    "print(cm)"
   ]
  },
  {
   "cell_type": "markdown",
   "metadata": {},
   "source": [
    "# Model Pipe Lining For New Prediction"
   ]
  },
  {
   "cell_type": "code",
   "execution_count": 80,
   "metadata": {
    "scrolled": true
   },
   "outputs": [
    {
     "data": {
      "text/plain": [
       "Pipeline(memory=None,\n",
       "         steps=[('tfidf',\n",
       "                 TfidfVectorizer(analyzer='word', binary=False,\n",
       "                                 decode_error='strict',\n",
       "                                 dtype=<class 'numpy.float64'>,\n",
       "                                 encoding='utf-8', input='content',\n",
       "                                 lowercase=True, max_df=1.0, max_features=1000,\n",
       "                                 min_df=1, ngram_range=(1, 1), norm='l2',\n",
       "                                 preprocessor=None, smooth_idf=True,\n",
       "                                 stop_words=frozenset({'a', 'about', 'above',\n",
       "                                                       'across', 'after',\n",
       "                                                       'afterward...\n",
       "                                 strip_accents=None, sublinear_tf=False,\n",
       "                                 token_pattern='(?u)\\\\b\\\\w\\\\w+\\\\b',\n",
       "                                 tokenizer=None, use_idf=True,\n",
       "                                 vocabulary=None)),\n",
       "                ('model',\n",
       "                 LogisticRegression(C=1.0, class_weight=None, dual=False,\n",
       "                                    fit_intercept=True, intercept_scaling=1,\n",
       "                                    l1_ratio=None, max_iter=100,\n",
       "                                    multi_class='warn', n_jobs=None,\n",
       "                                    penalty='l2', random_state=None,\n",
       "                                    solver='warn', tol=0.0001, verbose=0,\n",
       "                                    warm_start=False))],\n",
       "         verbose=False)"
      ]
     },
     "execution_count": 80,
     "metadata": {},
     "output_type": "execute_result"
    }
   ],
   "source": [
    "# define the stages of the pipeline\n",
    "pipeline = Pipeline(steps= [('tfidf', TfidfVectorizer(lowercase=True,\n",
    "                                                      max_features=1000,\n",
    "                                                      stop_words= ENGLISH_STOP_WORDS)),\n",
    "                            ('model', LogisticRegression())])\n",
    "\n",
    "# fit the pipeline model with the training data                            \n",
    "pipeline.fit(train.Description, train.Is_Response)"
   ]
  },
  {
   "cell_type": "markdown",
   "metadata": {},
   "source": [
    "# Predicting The New Speech to Text Data"
   ]
  },
  {
   "cell_type": "code",
   "execution_count": 81,
   "metadata": {},
   "outputs": [
    {
     "data": {
      "text/html": [
       "<div>\n",
       "<style scoped>\n",
       "    .dataframe tbody tr th:only-of-type {\n",
       "        vertical-align: middle;\n",
       "    }\n",
       "\n",
       "    .dataframe tbody tr th {\n",
       "        vertical-align: top;\n",
       "    }\n",
       "\n",
       "    .dataframe thead th {\n",
       "        text-align: right;\n",
       "    }\n",
       "</style>\n",
       "<table border=\"1\" class=\"dataframe\">\n",
       "  <thead>\n",
       "    <tr style=\"text-align: right;\">\n",
       "      <th></th>\n",
       "      <th>cust</th>\n",
       "      <th>call_duration_secs</th>\n",
       "      <th>polarity</th>\n",
       "      <th>Is_Response</th>\n",
       "    </tr>\n",
       "  </thead>\n",
       "  <tbody>\n",
       "    <tr>\n",
       "      <th>0</th>\n",
       "      <td>now spirit item no poison work and his wife</td>\n",
       "      <td>3.000000</td>\n",
       "      <td>0.000000</td>\n",
       "      <td>Criticism</td>\n",
       "    </tr>\n",
       "    <tr>\n",
       "      <th>1</th>\n",
       "      <td>hi this is Shrinath my husband and I have stayed in this hotel a few times do not the fanciest hotel we love the fact that we can walk the 900 miles to send it is screen on the staff is very accommodating my only come. Is that define in the bathroom was noisy and went automatically when U turn light on thank you</td>\n",
       "      <td>21.666667</td>\n",
       "      <td>0.180000</td>\n",
       "      <td>Appriciation</td>\n",
       "    </tr>\n",
       "    <tr>\n",
       "      <th>2</th>\n",
       "      <td>hi myself Shrinath I book the hotel through hot wear at the lowest price I could fine when we got their different as manager gave us smoking room argued that I have a little baby and I would not have booked the room had I known it was smoking the manager would not hear anything and told me that hardware books the cheapest rooms are available</td>\n",
       "      <td>22.333333</td>\n",
       "      <td>0.175833</td>\n",
       "      <td>Price</td>\n",
       "    </tr>\n",
       "    <tr>\n",
       "      <th>3</th>\n",
       "      <td>hi my friend heart I stayed in a hotel for Fast Five days and I am calling to the customer care for further information needed and the service provided so the rooms are not it clean could you please make someone to clean the room</td>\n",
       "      <td>15.333333</td>\n",
       "      <td>0.233333</td>\n",
       "      <td>Appriciation</td>\n",
       "    </tr>\n",
       "  </tbody>\n",
       "</table>\n",
       "</div>"
      ],
      "text/plain": [
       "                                                                                                                                                                                                                                                                                                                                                       cust  call_duration_secs  polarity   Is_Response\n",
       "0  now spirit item no poison work and his wife                                                                                                                                                                                                                                                                                                               3.000000            0.000000  Criticism   \n",
       "1  hi this is Shrinath my husband and I have stayed in this hotel a few times do not the fanciest hotel we love the fact that we can walk the 900 miles to send it is screen on the staff is very accommodating my only come. Is that define in the bathroom was noisy and went automatically when U turn light on thank you                                 21.666667           0.180000  Appriciation\n",
       "2  hi myself Shrinath I book the hotel through hot wear at the lowest price I could fine when we got their different as manager gave us smoking room argued that I have a little baby and I would not have booked the room had I known it was smoking the manager would not hear anything and told me that hardware books the cheapest rooms are available   22.333333           0.175833  Price       \n",
       "3  hi my friend heart I stayed in a hotel for Fast Five days and I am calling to the customer care for further information needed and the service provided so the rooms are not it clean could you please make someone to clean the room                                                                                                                     15.333333           0.233333  Appriciation"
      ]
     },
     "execution_count": 81,
     "metadata": {},
     "output_type": "execute_result"
    }
   ],
   "source": [
    "# Customer Call Data\n",
    "text= validation['cust']\n",
    "\n",
    "# predict the label using the pipeline\n",
    "i=pipeline.predict(text)\n",
    "\n",
    "#Converting the pandas series to dataframe\n",
    "text=text.to_frame()\n",
    "\n",
    "#Converting the numpy array to dataframe\n",
    "i=pd.DataFrame(i)\n",
    "\n",
    "#Renaming the column Name\n",
    "i.rename(columns = {0 :'Is_Response'}, inplace = True)\n",
    "\n",
    "#Concatinating the Dataframe and Display the Final Result\n",
    "Final=pd.concat([text, i],axis=1)\n",
    "\n",
    "#Finding the Word Count of Prediction File\n",
    "Final['word_count'] = Final['cust'].apply(lambda x: len(str(x).split(\" \")))\n",
    "\n",
    "#Finding the Call Duration of Pediction File\n",
    "Final['call_duration_secs']= Final['word_count']/10800 * 3600\n",
    "\n",
    "#Finding the Sentiment of the Prediciton File\n",
    "Prediction_result = Final[['cust','Is_Response','call_duration_secs']]\n",
    "\n",
    "def detect_polarity(cust):\n",
    "    return TextBlob(cust).sentiment.polarity\n",
    "Prediction_result['polarity'] = Prediction_result.cust.apply(detect_polarity)\n",
    "\n",
    "#Print the Prediction Result\n",
    "Prediction_result[['cust','call_duration_secs','polarity','Is_Response']]"
   ]
  },
  {
   "cell_type": "markdown",
   "metadata": {},
   "source": [
    "# THE END"
   ]
  }
 ],
 "metadata": {
  "kernelspec": {
   "display_name": "Python 3",
   "language": "python",
   "name": "python3"
  },
  "language_info": {
   "codemirror_mode": {
    "name": "ipython",
    "version": 3
   },
   "file_extension": ".py",
   "mimetype": "text/x-python",
   "name": "python",
   "nbconvert_exporter": "python",
   "pygments_lexer": "ipython3",
   "version": "3.7.6"
  },
  "toc": {
   "base_numbering": 1,
   "nav_menu": {},
   "number_sections": true,
   "sideBar": true,
   "skip_h1_title": false,
   "title_cell": "Table of Contents",
   "title_sidebar": "Contents",
   "toc_cell": true,
   "toc_position": {},
   "toc_section_display": true,
   "toc_window_display": false
  },
  "varInspector": {
   "cols": {
    "lenName": 16,
    "lenType": 16,
    "lenVar": 40
   },
   "kernels_config": {
    "python": {
     "delete_cmd_postfix": "",
     "delete_cmd_prefix": "del ",
     "library": "var_list.py",
     "varRefreshCmd": "print(var_dic_list())"
    },
    "r": {
     "delete_cmd_postfix": ") ",
     "delete_cmd_prefix": "rm(",
     "library": "var_list.r",
     "varRefreshCmd": "cat(var_dic_list()) "
    }
   },
   "types_to_exclude": [
    "module",
    "function",
    "builtin_function_or_method",
    "instance",
    "_Feature"
   ],
   "window_display": false
  }
 },
 "nbformat": 4,
 "nbformat_minor": 4
}
