{
 "cells": [
  {
   "cell_type": "code",
   "execution_count": 63,
   "metadata": {},
   "outputs": [],
   "source": [
    "import numpy as np\n",
    "import pandas as pd\n",
    "import matplotlib.pyplot as plt\n",
    "from textblob import TextBlob\n",
    "import seaborn as sns\n",
    "import json\n",
    "#from wordcloud import WordCloud, STOPWORDS\n",
    "%matplotlib inline"
   ]
  },
  {
   "cell_type": "code",
   "execution_count": 4,
   "metadata": {},
   "outputs": [],
   "source": [
    "df=pd.read_excel('EDA.xlsx')"
   ]
  },
  {
   "cell_type": "code",
   "execution_count": 10,
   "metadata": {},
   "outputs": [
    {
     "data": {
      "text/html": [
       "<div>\n",
       "<style scoped>\n",
       "    .dataframe tbody tr th:only-of-type {\n",
       "        vertical-align: middle;\n",
       "    }\n",
       "\n",
       "    .dataframe tbody tr th {\n",
       "        vertical-align: top;\n",
       "    }\n",
       "\n",
       "    .dataframe thead th {\n",
       "        text-align: right;\n",
       "    }\n",
       "</style>\n",
       "<table border=\"1\" class=\"dataframe\">\n",
       "  <thead>\n",
       "    <tr style=\"text-align: right;\">\n",
       "      <th></th>\n",
       "      <th>Unnamed: 0</th>\n",
       "      <th>User_ID</th>\n",
       "      <th>Description</th>\n",
       "      <th>Is_Response</th>\n",
       "      <th>word_count</th>\n",
       "      <th>call_duration_secs</th>\n",
       "      <th>char_count</th>\n",
       "      <th>avg_word</th>\n",
       "      <th>stopwords</th>\n",
       "      <th>hastags</th>\n",
       "      <th>numerics</th>\n",
       "      <th>upper</th>\n",
       "    </tr>\n",
       "  </thead>\n",
       "  <tbody>\n",
       "    <tr>\n",
       "      <th>0</th>\n",
       "      <td>0</td>\n",
       "      <td>id10326</td>\n",
       "      <td>kind clean strong smell dogs generally average...</td>\n",
       "      <td>Room and Food</td>\n",
       "      <td>46</td>\n",
       "      <td>15.333333</td>\n",
       "      <td>248</td>\n",
       "      <td>4.413043</td>\n",
       "      <td>23</td>\n",
       "      <td>0</td>\n",
       "      <td>0</td>\n",
       "      <td>1</td>\n",
       "    </tr>\n",
       "    <tr>\n",
       "      <th>1</th>\n",
       "      <td>1</td>\n",
       "      <td>id10327</td>\n",
       "      <td>stayed crown plaza april april friendly attent...</td>\n",
       "      <td>Room and Food</td>\n",
       "      <td>208</td>\n",
       "      <td>69.333333</td>\n",
       "      <td>1077</td>\n",
       "      <td>4.182692</td>\n",
       "      <td>82</td>\n",
       "      <td>6</td>\n",
       "      <td>0</td>\n",
       "      <td>8</td>\n",
       "    </tr>\n",
       "    <tr>\n",
       "      <th>2</th>\n",
       "      <td>2</td>\n",
       "      <td>id10328</td>\n",
       "      <td>booked hotwire lowest price could find got fro...</td>\n",
       "      <td>Price</td>\n",
       "      <td>229</td>\n",
       "      <td>76.333333</td>\n",
       "      <td>1327</td>\n",
       "      <td>4.724138</td>\n",
       "      <td>91</td>\n",
       "      <td>0</td>\n",
       "      <td>0</td>\n",
       "      <td>9</td>\n",
       "    </tr>\n",
       "    <tr>\n",
       "      <th>3</th>\n",
       "      <td>3</td>\n",
       "      <td>id10329</td>\n",
       "      <td>stayed husband sons way alaska cruise loved ex...</td>\n",
       "      <td>Hotel Management</td>\n",
       "      <td>93</td>\n",
       "      <td>31.000000</td>\n",
       "      <td>502</td>\n",
       "      <td>4.408602</td>\n",
       "      <td>36</td>\n",
       "      <td>0</td>\n",
       "      <td>0</td>\n",
       "      <td>0</td>\n",
       "    </tr>\n",
       "    <tr>\n",
       "      <th>4</th>\n",
       "      <td>4</td>\n",
       "      <td>id10330</td>\n",
       "      <td>girlfriends stayed celebrate th birthdays plan...</td>\n",
       "      <td>service</td>\n",
       "      <td>294</td>\n",
       "      <td>98.000000</td>\n",
       "      <td>1613</td>\n",
       "      <td>4.434343</td>\n",
       "      <td>127</td>\n",
       "      <td>8</td>\n",
       "      <td>0</td>\n",
       "      <td>7</td>\n",
       "    </tr>\n",
       "  </tbody>\n",
       "</table>\n",
       "</div>"
      ],
      "text/plain": [
       "   Unnamed: 0  User_ID                                        Description  \\\n",
       "0           0  id10326  kind clean strong smell dogs generally average...   \n",
       "1           1  id10327  stayed crown plaza april april friendly attent...   \n",
       "2           2  id10328  booked hotwire lowest price could find got fro...   \n",
       "3           3  id10329  stayed husband sons way alaska cruise loved ex...   \n",
       "4           4  id10330  girlfriends stayed celebrate th birthdays plan...   \n",
       "\n",
       "        Is_Response  word_count  call_duration_secs  char_count  avg_word  \\\n",
       "0     Room and Food          46           15.333333         248  4.413043   \n",
       "1     Room and Food         208           69.333333        1077  4.182692   \n",
       "2             Price         229           76.333333        1327  4.724138   \n",
       "3  Hotel Management          93           31.000000         502  4.408602   \n",
       "4           service         294           98.000000        1613  4.434343   \n",
       "\n",
       "   stopwords  hastags  numerics  upper  \n",
       "0         23        0         0      1  \n",
       "1         82        6         0      8  \n",
       "2         91        0         0      9  \n",
       "3         36        0         0      0  \n",
       "4        127        8         0      7  "
      ]
     },
     "execution_count": 10,
     "metadata": {},
     "output_type": "execute_result"
    }
   ],
   "source": [
    "df.head()"
   ]
  },
  {
   "cell_type": "code",
   "execution_count": 13,
   "metadata": {},
   "outputs": [],
   "source": [
    "def detect_polarity(cust):\n",
    "    return TextBlob(cust).sentiment.polarity\n",
    "df['polarity'] = df.Description.apply(detect_polarity)"
   ]
  },
  {
   "cell_type": "code",
   "execution_count": 15,
   "metadata": {},
   "outputs": [
    {
     "data": {
      "text/html": [
       "<div>\n",
       "<style scoped>\n",
       "    .dataframe tbody tr th:only-of-type {\n",
       "        vertical-align: middle;\n",
       "    }\n",
       "\n",
       "    .dataframe tbody tr th {\n",
       "        vertical-align: top;\n",
       "    }\n",
       "\n",
       "    .dataframe thead th {\n",
       "        text-align: right;\n",
       "    }\n",
       "</style>\n",
       "<table border=\"1\" class=\"dataframe\">\n",
       "  <thead>\n",
       "    <tr style=\"text-align: right;\">\n",
       "      <th></th>\n",
       "      <th>Unnamed: 0</th>\n",
       "      <th>User_ID</th>\n",
       "      <th>Description</th>\n",
       "      <th>Is_Response</th>\n",
       "      <th>word_count</th>\n",
       "      <th>call_duration_secs</th>\n",
       "      <th>char_count</th>\n",
       "      <th>avg_word</th>\n",
       "      <th>stopwords</th>\n",
       "      <th>hastags</th>\n",
       "      <th>numerics</th>\n",
       "      <th>upper</th>\n",
       "      <th>polarity</th>\n",
       "    </tr>\n",
       "  </thead>\n",
       "  <tbody>\n",
       "    <tr>\n",
       "      <th>0</th>\n",
       "      <td>0</td>\n",
       "      <td>id10326</td>\n",
       "      <td>kind clean strong smell dogs generally average...</td>\n",
       "      <td>Room and Food</td>\n",
       "      <td>46</td>\n",
       "      <td>15.333333</td>\n",
       "      <td>248</td>\n",
       "      <td>4.413043</td>\n",
       "      <td>23</td>\n",
       "      <td>0</td>\n",
       "      <td>0</td>\n",
       "      <td>1</td>\n",
       "      <td>0.366964</td>\n",
       "    </tr>\n",
       "    <tr>\n",
       "      <th>1</th>\n",
       "      <td>1</td>\n",
       "      <td>id10327</td>\n",
       "      <td>stayed crown plaza april april friendly attent...</td>\n",
       "      <td>Room and Food</td>\n",
       "      <td>208</td>\n",
       "      <td>69.333333</td>\n",
       "      <td>1077</td>\n",
       "      <td>4.182692</td>\n",
       "      <td>82</td>\n",
       "      <td>6</td>\n",
       "      <td>0</td>\n",
       "      <td>8</td>\n",
       "      <td>0.086634</td>\n",
       "    </tr>\n",
       "  </tbody>\n",
       "</table>\n",
       "</div>"
      ],
      "text/plain": [
       "   Unnamed: 0  User_ID                                        Description  \\\n",
       "0           0  id10326  kind clean strong smell dogs generally average...   \n",
       "1           1  id10327  stayed crown plaza april april friendly attent...   \n",
       "\n",
       "     Is_Response  word_count  call_duration_secs  char_count  avg_word  \\\n",
       "0  Room and Food          46           15.333333         248  4.413043   \n",
       "1  Room and Food         208           69.333333        1077  4.182692   \n",
       "\n",
       "   stopwords  hastags  numerics  upper  polarity  \n",
       "0         23        0         0      1  0.366964  \n",
       "1         82        6         0      8  0.086634  "
      ]
     },
     "execution_count": 15,
     "metadata": {},
     "output_type": "execute_result"
    }
   ],
   "source": [
    "df.head(2)"
   ]
  },
  {
   "cell_type": "code",
   "execution_count": 19,
   "metadata": {
    "scrolled": true
   },
   "outputs": [
    {
     "name": "stderr",
     "output_type": "stream",
     "text": [
      "C:\\Users\\user\\anaconda3\\lib\\site-packages\\ipykernel_launcher.py:1: SettingWithCopyWarning: \n",
      "A value is trying to be set on a copy of a slice from a DataFrame\n",
      "\n",
      "See the caveats in the documentation: http://pandas.pydata.org/pandas-docs/stable/user_guide/indexing.html#returning-a-view-versus-a-copy\n",
      "  \"\"\"Entry point for launching an IPython kernel.\n",
      "C:\\Users\\user\\anaconda3\\lib\\site-packages\\ipykernel_launcher.py:2: SettingWithCopyWarning: \n",
      "A value is trying to be set on a copy of a slice from a DataFrame\n",
      "\n",
      "See the caveats in the documentation: http://pandas.pydata.org/pandas-docs/stable/user_guide/indexing.html#returning-a-view-versus-a-copy\n",
      "  \n",
      "C:\\Users\\user\\anaconda3\\lib\\site-packages\\ipykernel_launcher.py:3: SettingWithCopyWarning: \n",
      "A value is trying to be set on a copy of a slice from a DataFrame\n",
      "\n",
      "See the caveats in the documentation: http://pandas.pydata.org/pandas-docs/stable/user_guide/indexing.html#returning-a-view-versus-a-copy\n",
      "  This is separate from the ipykernel package so we can avoid doing imports until\n"
     ]
    }
   ],
   "source": [
    "df['polarity'][df.polarity==0]= 0\n",
    "df['polarity'][df.polarity > 0]= 1\n",
    "df['polarity'][df.polarity < 0]= -1"
   ]
  },
  {
   "cell_type": "code",
   "execution_count": 20,
   "metadata": {
    "scrolled": true
   },
   "outputs": [
    {
     "data": {
      "text/html": [
       "<div>\n",
       "<style scoped>\n",
       "    .dataframe tbody tr th:only-of-type {\n",
       "        vertical-align: middle;\n",
       "    }\n",
       "\n",
       "    .dataframe tbody tr th {\n",
       "        vertical-align: top;\n",
       "    }\n",
       "\n",
       "    .dataframe thead th {\n",
       "        text-align: right;\n",
       "    }\n",
       "</style>\n",
       "<table border=\"1\" class=\"dataframe\">\n",
       "  <thead>\n",
       "    <tr style=\"text-align: right;\">\n",
       "      <th></th>\n",
       "      <th>Unnamed: 0</th>\n",
       "      <th>User_ID</th>\n",
       "      <th>Description</th>\n",
       "      <th>Is_Response</th>\n",
       "      <th>word_count</th>\n",
       "      <th>call_duration_secs</th>\n",
       "      <th>char_count</th>\n",
       "      <th>avg_word</th>\n",
       "      <th>stopwords</th>\n",
       "      <th>hastags</th>\n",
       "      <th>numerics</th>\n",
       "      <th>upper</th>\n",
       "      <th>polarity</th>\n",
       "    </tr>\n",
       "  </thead>\n",
       "  <tbody>\n",
       "    <tr>\n",
       "      <th>0</th>\n",
       "      <td>0</td>\n",
       "      <td>id10326</td>\n",
       "      <td>kind clean strong smell dogs generally average...</td>\n",
       "      <td>Room and Food</td>\n",
       "      <td>46</td>\n",
       "      <td>15.333333</td>\n",
       "      <td>248</td>\n",
       "      <td>4.413043</td>\n",
       "      <td>23</td>\n",
       "      <td>0</td>\n",
       "      <td>0</td>\n",
       "      <td>1</td>\n",
       "      <td>1.0</td>\n",
       "    </tr>\n",
       "    <tr>\n",
       "      <th>1</th>\n",
       "      <td>1</td>\n",
       "      <td>id10327</td>\n",
       "      <td>stayed crown plaza april april friendly attent...</td>\n",
       "      <td>Room and Food</td>\n",
       "      <td>208</td>\n",
       "      <td>69.333333</td>\n",
       "      <td>1077</td>\n",
       "      <td>4.182692</td>\n",
       "      <td>82</td>\n",
       "      <td>6</td>\n",
       "      <td>0</td>\n",
       "      <td>8</td>\n",
       "      <td>1.0</td>\n",
       "    </tr>\n",
       "  </tbody>\n",
       "</table>\n",
       "</div>"
      ],
      "text/plain": [
       "   Unnamed: 0  User_ID                                        Description  \\\n",
       "0           0  id10326  kind clean strong smell dogs generally average...   \n",
       "1           1  id10327  stayed crown plaza april april friendly attent...   \n",
       "\n",
       "     Is_Response  word_count  call_duration_secs  char_count  avg_word  \\\n",
       "0  Room and Food          46           15.333333         248  4.413043   \n",
       "1  Room and Food         208           69.333333        1077  4.182692   \n",
       "\n",
       "   stopwords  hastags  numerics  upper  polarity  \n",
       "0         23        0         0      1       1.0  \n",
       "1         82        6         0      8       1.0  "
      ]
     },
     "execution_count": 20,
     "metadata": {},
     "output_type": "execute_result"
    }
   ],
   "source": [
    "df.head(2)"
   ]
  },
  {
   "cell_type": "markdown",
   "metadata": {},
   "source": [
    "Freq_words"
   ]
  },
  {
   "cell_type": "code",
   "execution_count": 53,
   "metadata": {},
   "outputs": [],
   "source": [
    "freq = pd.Series(' '.join(df['Description']).split()).value_counts()[:10]"
   ]
  },
  {
   "cell_type": "code",
   "execution_count": 54,
   "metadata": {},
   "outputs": [
    {
     "data": {
      "text/plain": [
       "nice         18300\n",
       "stayed       16695\n",
       "clean        15843\n",
       "us           15831\n",
       "night        15552\n",
       "service      14688\n",
       "breakfast    13771\n",
       "get          13233\n",
       "time         12303\n",
       "also         11912\n",
       "dtype: int64"
      ]
     },
     "execution_count": 54,
     "metadata": {},
     "output_type": "execute_result"
    }
   ],
   "source": [
    "freq"
   ]
  },
  {
   "cell_type": "code",
   "execution_count": 55,
   "metadata": {},
   "outputs": [],
   "source": [
    "freq = list(freq.index)"
   ]
  },
  {
   "cell_type": "code",
   "execution_count": 56,
   "metadata": {},
   "outputs": [
    {
     "data": {
      "text/plain": [
       "0                                      clean breakfast\n",
       "1                                               stayed\n",
       "2                   us get also also breakfast service\n",
       "3                               stayed service service\n",
       "4    stayed us stayed us service clean get service ...\n",
       "Name: freq_words, dtype: object"
      ]
     },
     "execution_count": 56,
     "metadata": {},
     "output_type": "execute_result"
    }
   ],
   "source": [
    "df['freq_words'] = df['Description'].apply(lambda x: \" \".join(x for x in x.split() if x in freq))\n",
    "df['freq_words'].head()"
   ]
  },
  {
   "cell_type": "code",
   "execution_count": 57,
   "metadata": {},
   "outputs": [
    {
     "data": {
      "text/html": [
       "<div>\n",
       "<style scoped>\n",
       "    .dataframe tbody tr th:only-of-type {\n",
       "        vertical-align: middle;\n",
       "    }\n",
       "\n",
       "    .dataframe tbody tr th {\n",
       "        vertical-align: top;\n",
       "    }\n",
       "\n",
       "    .dataframe thead th {\n",
       "        text-align: right;\n",
       "    }\n",
       "</style>\n",
       "<table border=\"1\" class=\"dataframe\">\n",
       "  <thead>\n",
       "    <tr style=\"text-align: right;\">\n",
       "      <th></th>\n",
       "      <th>Unnamed: 0</th>\n",
       "      <th>User_ID</th>\n",
       "      <th>Description</th>\n",
       "      <th>Is_Response</th>\n",
       "      <th>word_count</th>\n",
       "      <th>call_duration_secs</th>\n",
       "      <th>char_count</th>\n",
       "      <th>avg_word</th>\n",
       "      <th>stopwords</th>\n",
       "      <th>hastags</th>\n",
       "      <th>numerics</th>\n",
       "      <th>upper</th>\n",
       "      <th>polarity</th>\n",
       "      <th>freq_words</th>\n",
       "    </tr>\n",
       "  </thead>\n",
       "  <tbody>\n",
       "    <tr>\n",
       "      <th>0</th>\n",
       "      <td>0</td>\n",
       "      <td>id10326</td>\n",
       "      <td>kind clean strong smell dogs generally average...</td>\n",
       "      <td>Room and Food</td>\n",
       "      <td>46</td>\n",
       "      <td>15.333333</td>\n",
       "      <td>248</td>\n",
       "      <td>4.413043</td>\n",
       "      <td>23</td>\n",
       "      <td>0</td>\n",
       "      <td>0</td>\n",
       "      <td>1</td>\n",
       "      <td>1.0</td>\n",
       "      <td>clean breakfast</td>\n",
       "    </tr>\n",
       "    <tr>\n",
       "      <th>1</th>\n",
       "      <td>1</td>\n",
       "      <td>id10327</td>\n",
       "      <td>stayed crown plaza april april friendly attent...</td>\n",
       "      <td>Room and Food</td>\n",
       "      <td>208</td>\n",
       "      <td>69.333333</td>\n",
       "      <td>1077</td>\n",
       "      <td>4.182692</td>\n",
       "      <td>82</td>\n",
       "      <td>6</td>\n",
       "      <td>0</td>\n",
       "      <td>8</td>\n",
       "      <td>1.0</td>\n",
       "      <td>stayed</td>\n",
       "    </tr>\n",
       "  </tbody>\n",
       "</table>\n",
       "</div>"
      ],
      "text/plain": [
       "   Unnamed: 0  User_ID                                        Description  \\\n",
       "0           0  id10326  kind clean strong smell dogs generally average...   \n",
       "1           1  id10327  stayed crown plaza april april friendly attent...   \n",
       "\n",
       "     Is_Response  word_count  call_duration_secs  char_count  avg_word  \\\n",
       "0  Room and Food          46           15.333333         248  4.413043   \n",
       "1  Room and Food         208           69.333333        1077  4.182692   \n",
       "\n",
       "   stopwords  hastags  numerics  upper  polarity       freq_words  \n",
       "0         23        0         0      1       1.0  clean breakfast  \n",
       "1         82        6         0      8       1.0           stayed  "
      ]
     },
     "execution_count": 57,
     "metadata": {},
     "output_type": "execute_result"
    }
   ],
   "source": [
    "df.head(2)"
   ]
  },
  {
   "cell_type": "code",
   "execution_count": 128,
   "metadata": {},
   "outputs": [],
   "source": [
    "df.to_excel('MY_EDA.xlsx')"
   ]
  },
  {
   "cell_type": "code",
   "execution_count": 71,
   "metadata": {},
   "outputs": [
    {
     "data": {
      "text/plain": [
       "array(['Room and Food', 'Price', 'Hotel Management', 'service',\n",
       "       'Appriciation', 'Criticism'], dtype=object)"
      ]
     },
     "execution_count": 71,
     "metadata": {},
     "output_type": "execute_result"
    }
   ],
   "source": [
    "df.Is_Response.unique()"
   ]
  },
  {
   "cell_type": "code",
   "execution_count": 99,
   "metadata": {},
   "outputs": [],
   "source": [
    "rf=df.query('Is_Response == \"Room and Food\"') \n",
    "rf_c1=pd.Series(' '.join(rf['Description']).split())\n",
    "rf_c1=pd.DataFrame(rf_c1)\n",
    "rf_c1.rename(columns = {0 :'word'}, inplace = True)\n",
    "rf_c1.to_excel('rfc1.xlsx')"
   ]
  },
  {
   "cell_type": "code",
   "execution_count": 100,
   "metadata": {},
   "outputs": [],
   "source": [
    "rf_c=pd.Series(' '.join(rf['Description']).split()).value_counts()[:]\n",
    "rfi = list(rf_c.index)\n",
    "rfv=list(rf_c)\n",
    "rf_i= pd.DataFrame(rfi) \n",
    "rf_i.rename(columns = {0 :'word'}, inplace = True)\n",
    "rf_v=pd.DataFrame(rfv)\n",
    "rf_v.rename(columns = {0 :'count'}, inplace = True)\n",
    "rfc=pd.concat([rf_i,rf_v],axis=1)"
   ]
  },
  {
   "cell_type": "code",
   "execution_count": 113,
   "metadata": {},
   "outputs": [],
   "source": [
    "rfc.to_excel('room&foodCloud.xlsx')"
   ]
  },
  {
   "cell_type": "code",
   "execution_count": 126,
   "metadata": {},
   "outputs": [],
   "source": [
    "rf=df.query('Is_Response == \"Price\"')\n",
    "rf_c=pd.Series(' '.join(rf['Description']).split()).value_counts()[:]\n",
    "rfi = list(rf_c.index)\n",
    "rfv=list(rf_c)\n",
    "rf_i= pd.DataFrame(rfi) \n",
    "rf_i.rename(columns = {0 :'word'}, inplace = True)\n",
    "rf_v=pd.DataFrame(rfv)\n",
    "rf_v.rename(columns = {0 :'count'}, inplace = True)\n",
    "rfc=pd.concat([rf_i,rf_v],axis=1)\n",
    "rfc.to_excel('price_cloud.xlsx')"
   ]
  },
  {
   "cell_type": "code",
   "execution_count": 127,
   "metadata": {},
   "outputs": [],
   "source": [
    "rf=df.query('Is_Response == \"Hotel Management\"')\n",
    "rf_c=pd.Series(' '.join(rf['Description']).split()).value_counts()[:]\n",
    "rfi = list(rf_c.index)\n",
    "rfv=list(rf_c)\n",
    "rf_i= pd.DataFrame(rfi) \n",
    "rf_i.rename(columns = {0 :'word'}, inplace = True)\n",
    "rf_v=pd.DataFrame(rfv)\n",
    "rf_v.rename(columns = {0 :'count'}, inplace = True)\n",
    "rfc=pd.concat([rf_i,rf_v],axis=1)\n",
    "rfc.to_excel('Hotel_Management_Cloud.xlsx')"
   ]
  },
  {
   "cell_type": "code",
   "execution_count": 129,
   "metadata": {},
   "outputs": [],
   "source": [
    "rf=df.query('Is_Response == \"service\"')\n",
    "rf_c=pd.Series(' '.join(rf['Description']).split()).value_counts()[:]\n",
    "rfi = list(rf_c.index)\n",
    "rfv=list(rf_c)\n",
    "rf_i= pd.DataFrame(rfi) \n",
    "rf_i.rename(columns = {0 :'word'}, inplace = True)\n",
    "rf_v=pd.DataFrame(rfv)\n",
    "rf_v.rename(columns = {0 :'count'}, inplace = True)\n",
    "rfc=pd.concat([rf_i,rf_v],axis=1)\n",
    "rfc.to_excel('service_Cloud.xlsx')"
   ]
  },
  {
   "cell_type": "code",
   "execution_count": 130,
   "metadata": {},
   "outputs": [],
   "source": [
    "rf=df.query('Is_Response == \"Appriciation\"')\n",
    "rf_c=pd.Series(' '.join(rf['Description']).split()).value_counts()[:]\n",
    "rfi = list(rf_c.index)\n",
    "rfv=list(rf_c)\n",
    "rf_i= pd.DataFrame(rfi) \n",
    "rf_i.rename(columns = {0 :'word'}, inplace = True)\n",
    "rf_v=pd.DataFrame(rfv)\n",
    "rf_v.rename(columns = {0 :'count'}, inplace = True)\n",
    "rfc=pd.concat([rf_i,rf_v],axis=1)\n",
    "rfc.to_excel('Appriciation_Cloud.xlsx')"
   ]
  },
  {
   "cell_type": "code",
   "execution_count": 131,
   "metadata": {},
   "outputs": [],
   "source": [
    "rf=df.query('Is_Response == \"Criticism\"')\n",
    "rf_c=pd.Series(' '.join(rf['Description']).split()).value_counts()[:]\n",
    "rfi = list(rf_c.index)\n",
    "rfv=list(rf_c)\n",
    "rf_i= pd.DataFrame(rfi) \n",
    "rf_i.rename(columns = {0 :'word'}, inplace = True)\n",
    "rf_v=pd.DataFrame(rfv)\n",
    "rf_v.rename(columns = {0 :'count'}, inplace = True)\n",
    "rfc=pd.concat([rf_i,rf_v],axis=1)\n",
    "rfc.to_excel('Criticism_Cloud.xlsx')"
   ]
  },
  {
   "cell_type": "code",
   "execution_count": 132,
   "metadata": {},
   "outputs": [],
   "source": [
    "rf_c=pd.Series(' '.join(df['Description']).split()).value_counts()[:]\n",
    "rfi = list(rf_c.index)\n",
    "rfv=list(rf_c)\n",
    "rf_i= pd.DataFrame(rfi) \n",
    "rf_i.rename(columns = {0 :'word'}, inplace = True)\n",
    "rf_v=pd.DataFrame(rfv)\n",
    "rf_v.rename(columns = {0 :'count'}, inplace = True)\n",
    "rfc=pd.concat([rf_i,rf_v],axis=1)\n",
    "rfc.to_excel('whole_Cloud.xlsx')"
   ]
  },
  {
   "cell_type": "code",
   "execution_count": null,
   "metadata": {},
   "outputs": [],
   "source": []
  }
 ],
 "metadata": {
  "kernelspec": {
   "display_name": "Python 3",
   "language": "python",
   "name": "python3"
  },
  "language_info": {
   "codemirror_mode": {
    "name": "ipython",
    "version": 3
   },
   "file_extension": ".py",
   "mimetype": "text/x-python",
   "name": "python",
   "nbconvert_exporter": "python",
   "pygments_lexer": "ipython3",
   "version": "3.7.6"
  },
  "toc": {
   "base_numbering": 1,
   "nav_menu": {},
   "number_sections": true,
   "sideBar": true,
   "skip_h1_title": false,
   "title_cell": "Table of Contents",
   "title_sidebar": "Contents",
   "toc_cell": false,
   "toc_position": {},
   "toc_section_display": true,
   "toc_window_display": false
  },
  "varInspector": {
   "cols": {
    "lenName": 16,
    "lenType": 16,
    "lenVar": 40
   },
   "kernels_config": {
    "python": {
     "delete_cmd_postfix": "",
     "delete_cmd_prefix": "del ",
     "library": "var_list.py",
     "varRefreshCmd": "print(var_dic_list())"
    },
    "r": {
     "delete_cmd_postfix": ") ",
     "delete_cmd_prefix": "rm(",
     "library": "var_list.r",
     "varRefreshCmd": "cat(var_dic_list()) "
    }
   },
   "types_to_exclude": [
    "module",
    "function",
    "builtin_function_or_method",
    "instance",
    "_Feature"
   ],
   "window_display": false
  }
 },
 "nbformat": 4,
 "nbformat_minor": 4
}
